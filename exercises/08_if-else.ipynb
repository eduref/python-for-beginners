{
 "cells": [
  {
   "cell_type": "markdown",
   "metadata": {},
   "source": [
    "# if-else"
   ]
  },
  {
   "cell_type": "markdown",
   "metadata": {},
   "source": [
    "## if()\n",
    "\n",
    "To have some else than a linear flow of execution, we need to use branching. Branching is done with the `if` statement. The `if` statement is followed by a boolean expression and a block of code. If the boolean expression evaluates to `True`, the block of code is executed. If the boolean expression evaluates to `False`, the block of code is skipped.\n",
    "\n",
    "```python\n",
    "age1 = 25\n",
    "age2 = 12\n",
    "\n",
    "if age1 > age2:\n",
    "    print(\"age1 is greater than age2\")\n",
    "\n",
    "if age2 > age1:\n",
    "    print(\"age2 is greater than age1\")\n",
    "```"
   ]
  },
  {
   "cell_type": "markdown",
   "metadata": {},
   "source": [
    "## Exercise 1\n",
    "\n",
    "Write a program that asks the user for a number and prints whether the number is odd or even. (Odd numbers: 1, 3, 5, 7, 9, ... Even numbers: 0, 2, 4, 6, 8, ...)\n",
    "\n",
    "**Reminder 1:** The modulo operator `%` returns the remainder of the division of two numbers. For example, `5 % 2` returns `1` because `5 / 2` is `2` with a remainder of `1`.\n",
    "\n",
    "**Reminder 2:** The input function reads input from a user and returns a string. You need to convert the string to an integer with the `int()` function."
   ]
  },
  {
   "cell_type": "code",
   "execution_count": 3,
   "metadata": {},
   "outputs": [
    {
     "name": "stdout",
     "output_type": "stream",
     "text": [
      "The number  5  is odd\n"
     ]
    }
   ],
   "source": [
    "# Write your code after this line \n",
    "\n",
    "\n",
    "\n",
    "# Solution to exercise 1\n",
    "number = int(input(\"Enter a number: \"))\n",
    "\n",
    "if number % 2 == 0:\n",
    "    print(\"The number \", number, \" is even\")\n",
    "\n",
    "if number % 2 != 0:\n",
    "    print(\"The number \", number, \" is odd\")"
   ]
  },
  {
   "cell_type": "markdown",
   "metadata": {},
   "source": [
    "## else\n",
    "\n",
    "- To simplify the code above, we can use `if-else` instead of `if`. \n",
    "- The `if-else` statement is followed by a boolean expression and two blocks of code. \n",
    "    - If the boolean expression = `True`, the if block is executed. \n",
    "    - If the boolean expression = `False`, the else block is executed.  "
   ]
  },
  {
   "cell_type": "markdown",
   "metadata": {},
   "source": [
    "## elif()\n",
    "\n",
    "- We can use ``else if`` or the shortcut `elif` statements, if more than two cases should be covered. \n",
    "- `elif` behaves similar to an ``if`` statement. If the boolean expression evaluates to `False`, the next `elif` or `else` statement is evaluated.\n"
   ]
  },
  {
   "cell_type": "code",
   "execution_count": 5,
   "metadata": {},
   "outputs": [
    {
     "name": "stdout",
     "output_type": "stream",
     "text": [
      "The number is neither divisible by 2 nor by 3\n"
     ]
    }
   ],
   "source": [
    "# Example \n",
    "number = 25\n",
    "\n",
    "if number % 2 == 0:\n",
    "    print(\"The number is divisible by 2\")\n",
    "elif number % 3 == 0:\n",
    "    print(\"The number is divisible by 3\")\n",
    "else:\n",
    "    print(\"The number is neither divisible by 2 nor by 3\")"
   ]
  },
  {
   "cell_type": "markdown",
   "metadata": {},
   "source": [
    "\n",
    "## Exercise 2\n",
    "\n",
    "- Write a program that asks the user for a word and then prints wheter the letter \"a\" is in the word, whether the letter \"b\" is in the word, or whether both or neither \"a\" nor \"b\" is in the word.  \n",
    "**Possible outputs:** \"Both\", \"Only a\", \"Only b\", \"Neither a nor b\".\n",
    "<details>\n",
    "    <summary><strong>Hint</strong></summary>\n",
    "    To check wheter a word contains a letter, you can use the `in` operator.\n",
    "</details>"
   ]
  },
  {
   "cell_type": "code",
   "execution_count": 7,
   "metadata": {},
   "outputs": [
    {
     "name": "stdout",
     "output_type": "stream",
     "text": [
      "The word  ward  contains the letter a\n"
     ]
    }
   ],
   "source": [
    "# Write your code after this line\n",
    "\n",
    "\n",
    "\n",
    "# Solution to exercise 2\n",
    "word = input(\"Enter a word: \") # get input\n",
    "\n",
    "if \"a\" in word and \"b\" in word: # checks for both a and b\n",
    "    print(\"The word \", word, \" contains both a and b\")\n",
    "\n",
    "elif \"a\" in word: # checks for a \n",
    "    print(\"The word \", word, \" contains the letter a\")\n",
    "\n",
    "elif \"b\" in word: # checks for b only if a is not present\n",
    "    print(\"The word \", word, \" contains the letter b\")\n",
    "\n",
    "else:  # every other case\n",
    "    print(\"The word \", word, \" contains neither a nor b\")"
   ]
  },
  {
   "cell_type": "markdown",
   "metadata": {},
   "source": [
    "## Bonus Exercise\n",
    "\n",
    "Write a program that asks the user for a number or a word.\n",
    "- If the input is a number, it should check the following cases:\n",
    "    - If it is a number, it prints whether the number is odd or even. \n",
    "    - If the number is odd, print \"odd\". If the number is even, print \"even\". \n",
    "    - If the number is divisible by 4, print \"divisible by 4\". \n",
    "    - If the number is divisible by 4 and is greater than 100, print \"greater than 100\". - If the number is divisible by 4 and is less than 100, print \"less than 100\". \n",
    "    - If the number is not divisible by 4, print \"not divisible by 4\".\n",
    "\n",
    "- If the input is a word, it prints check the following cases:\n",
    "    - If word contains the letter \"a\", \n",
    "    - If the word contains the letter \"b\", \n",
    "    - If both or neither \"a\" nor \"b\" is in the word.\n",
    "\n",
    "<details>\n",
    "    <summary><strong>Hint</strong></summary>\n",
    "    You can use the <strong>isnumeric()</strong> function to check whether a variable is a number or a string. For example, `\"123\".isnumeric()` returns `True` and `\"abc\".isnumeric()` returns `False`.\n",
    "</details>"
   ]
  },
  {
   "cell_type": "code",
   "execution_count": 2,
   "metadata": {},
   "outputs": [
    {
     "name": "stdout",
     "output_type": "stream",
     "text": [
      "The input is a number\n"
     ]
    }
   ],
   "source": [
    "# Write your code after this line\n",
    "\n",
    "\n",
    "\n",
    "# Solution to bonus exercise\n",
    "input_str = input(\"Enter a number or a word: \")\n",
    "if input_str.isnumeric():\n",
    "    print(\"The input is a number\")\n",
    "    num = int(input_str)\n",
    "    if num % 2 == 0:\n",
    "        print(\"The number is even\")\n",
    "        if num % 4 == 0:\n",
    "            print(\"The number is divisible by 4\")\n",
    "            if num > 100:\n",
    "                print(\"The number is greater than 100\")\n",
    "            else:\n",
    "                print(\"The number is not greater than 100\")\n",
    "        else:\n",
    "            print(\"The number is not divisible by 4\")\n",
    "    else:\n",
    "        print(\"The number is odd\")\n",
    "else:\n",
    "    print(\"The input is a word\")\n",
    "    if \"a\" in input_str and \"b\" in input_str:\n",
    "        print(\"The word \", input_str, \" contains both a and b\")\n",
    "    elif \"a\" in input_str:\n",
    "        print(\"The word \", input_str, \" contains the letter a\")\n",
    "    elif \"b\" in input_str:\n",
    "        print(\"The word \", input_str, \" contains the letter b\")\n",
    "    else:\n",
    "        print(\"The word \", input_str, \" contains neither a nor b\")\n"
   ]
  },
  {
   "cell_type": "markdown",
   "metadata": {
    "collapsed": false
   },
   "source": [
    "## Feedback\n",
    "Please scan the QR code below to give us your feedback on **Chapter 08: if else**\n",
    "\n",
    "![QR Code feedback](../pictures/feedbackQR.png)"
   ]
  }
 ],
 "metadata": {
  "kernelspec": {
   "display_name": "base",
   "language": "python",
   "name": "python3"
  },
  "language_info": {
   "codemirror_mode": {
    "name": "ipython",
    "version": 3
   },
   "file_extension": ".py",
   "mimetype": "text/x-python",
   "name": "python",
   "nbconvert_exporter": "python",
   "pygments_lexer": "ipython3",
   "version": "3.10.12"
  }
 },
 "nbformat": 4,
 "nbformat_minor": 2
}
