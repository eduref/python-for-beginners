{
 "cells": [
  {
   "cell_type": "markdown",
   "metadata": {},
   "source": [
    "# Python Dictionaries\n",
    "A dictionary is an unordered set of `key:value` pairs.\n",
    "It provides a way to map pieces of data to each other so that we can quickly find values that are associated with one another."
   ]
  },
  {
   "cell_type": "markdown",
   "metadata": {},
   "source": [
    "## Creating a Dictionary\n",
    "For example we can create a dictionary called `person` to store this data:\n",
    "```python\n",
    "person = {\n",
    "    \"name\": \"John\",\n",
    "    \"age\": 36,\n",
    "    \"country\": \"Norway\"\n",
    "}\n",
    "```\n",
    "Notice that:\n",
    "1. A dictionary begins and ends with curly braces `{` and `}`.\n",
    "2. Each item consists of a key (`\"age\"`) and a value (`36`).\n",
    "3. Each `key:value` pair is seperated by comma."
   ]
  },
  {
   "cell_type": "markdown",
   "metadata": {},
   "source": [
    "## Exercise 1\n",
    "1. Create a dictionary called `translations` that maps the following words in English to their definitions in Italian.\n",
    "\n",
    "<div style=\"display: flex; justify-content: center;\">\n",
    "  <table>\n",
    "    <tr>\n",
    "      <th>English</th>\n",
    "      <th>Italian</th>\n",
    "    </tr>\n",
    "    <tr>\n",
    "      <td>hello</td>\n",
    "      <td>ciao</td>\n",
    "    </tr>\n",
    "    <tr>\n",
    "      <td>mountain</td>\n",
    "      <td>montagna</td>\n",
    "    </tr>\n",
    "    <tr>\n",
    "      <td>cat</td>\n",
    "      <td>gatto</td>\n",
    "    </tr>\n",
    "    <tr>\n",
    "      <td>water</td>\n",
    "      <td>acqua</td>\n",
    "    </tr>\n",
    "  </table>\n",
    "</div>\n",
    "\n",
    "2. If you are done, print the dictionary."
   ]
  },
  {
   "cell_type": "code",
   "execution_count": 1,
   "metadata": {
    "ExecuteTime": {
     "end_time": "2023-11-26T14:38:08.511903Z",
     "start_time": "2023-11-26T14:38:08.506562Z"
    }
   },
   "outputs": [
    {
     "name": "stdout",
     "output_type": "stream",
     "text": [
      "{'hello': 'ciao', 'mountain': 'montagna', 'cat': 'gatto', 'water': 'acqua'}\n"
     ]
    }
   ],
   "source": [
    "# Write your code after this line\n",
    "\n",
    "\n",
    "\n",
    "# Solution to excercise 1\n",
    "translations = {\n",
    "    \"hello\": \"ciao\",\n",
    "    \"mountain\": \"montagna\",\n",
    "    \"cat\": \"gatto\",\n",
    "    \"water\": \"acqua\"\n",
    "}\n",
    "\n",
    "print(translations)"
   ]
  },
  {
   "cell_type": "markdown",
   "metadata": {},
   "source": [
    "## Add a key\n",
    "To add a single ``key:value`` pair to a dictionary, we can use the syntax:\n",
    "``` python\n",
    "dictonary[key] = value\n",
    "```\n",
    "For example, if we had our `person` dictonary from the beginning, and we wanted to add a new item, `\"shopping_list\"`, we could use:\n",
    "``` python\n",
    "person[\"shopping_list\"] = [\"bread\", \"butter\", \"milk\"]\n",
    "```"
   ]
  },
  {
   "cell_type": "markdown",
   "metadata": {},
   "source": [
    "## Exercise 2\n",
    "1. Create an empty dictionary called ``animals_in_zoo``.\n",
    "2. Walking around the zoo, you see 8 zebras. Add `\"zebras\"` to the dictonary animals_in_zoo as a key with a value of ``8``. \n",
    "3. As you leave the zoo, you are saddened that you did not see any dinosaurs. Add ``\"dinosaurs\"`` to animals_in_zoo as a key with a value of ``0``.\n",
    "4. Print animals_in_zoo"
   ]
  },
  {
   "cell_type": "code",
   "execution_count": 2,
   "metadata": {
    "ExecuteTime": {
     "end_time": "2023-11-26T14:38:08.516470Z",
     "start_time": "2023-11-26T14:38:08.513332Z"
    }
   },
   "outputs": [
    {
     "name": "stdout",
     "output_type": "stream",
     "text": [
      "{'zebras': 8, 'dinosaurs': 0}\n"
     ]
    }
   ],
   "source": [
    "# Write your code after this line\n",
    "\n",
    "\n",
    "\n",
    "# Solution to excercise 2\n",
    "animals_in_zoo = {}\n",
    "\n",
    "animals_in_zoo[\"zebras\"] = 8\n",
    "animals_in_zoo[\"dinosaurs\"] = 0\n",
    "\n",
    "print(animals_in_zoo)"
   ]
  },
  {
   "cell_type": "markdown",
   "metadata": {},
   "source": [
    "## Add multiple keys\n",
    "If we wanted to add multiple ``key:value`` pairs to a dictionary at once, we can use the ``.update()`` method.\n",
    "Look at the dictionary `rooms`, which describes the number of rooms in a house.\n",
    "```python\n",
    "rooms = {\n",
    "    \"living room\": 1,\n",
    "    \"bedroom\": 3,\n",
    "    \"bathroom\": 2\n",
    "}\n",
    "```\n",
    "If we wanted to add 3 new rooms, we could use:\n",
    "```python\n",
    "rooms.update({\"kitchen\": 1, \"rest room\": 3, \"fitness room\": 1})\n",
    "```"
   ]
  },
  {
   "cell_type": "markdown",
   "metadata": {},
   "source": [
    "## Exercise 3\n",
    "1. In one line of code, add two new users to the ``user_ids`` dictionary:\n",
    "    - `theLooper`, with an id of 641285\n",
    "    - `stringQueen`, with an id of 928401\n",
    "2. Print user_ids."
   ]
  },
  {
   "cell_type": "code",
   "execution_count": 3,
   "metadata": {
    "ExecuteTime": {
     "end_time": "2023-11-26T14:38:08.519167Z",
     "start_time": "2023-11-26T14:38:08.516123Z"
    }
   },
   "outputs": [
    {
     "name": "stdout",
     "output_type": "stream",
     "text": [
      "{'teraCoder': 9018293, 'brogrammer': 119238, 'theLooper': 641285, 'stringQueen': 928401}\n"
     ]
    }
   ],
   "source": [
    "# Do NOT edit this code snippet\n",
    "user_ids = {\"teraCoder\": 9018293, \"brogrammer\": 119238}\n",
    "\n",
    "# Write your code after this line\n",
    "\n",
    "\n",
    "\n",
    "# Solution to excercise 3\n",
    "user_ids.update({\n",
    "    \"theLooper\": 641285,\n",
    "    \"stringQueen\": 928401\n",
    "})\n",
    "\n",
    "print(user_ids)"
   ]
  },
  {
   "cell_type": "markdown",
   "metadata": {},
   "source": [
    "## Overwrite Values\n",
    "What if we used a key that already has an entry in the ``menu`` dictionary?\n",
    "In that case, our value assignment would overwrite the existing value attached to that key. We can overwrite the value of ``\"oatmeal\"`` like this:\n",
    "```python\n",
    "menu = {\"oatmeal\": 3, \"avocado toast\": 6, \"carrot juice\": 5, \"blueberry muffin\": 2}\n",
    "menu[\"oatmeal\"] = 5\n",
    "```\n",
    "The value of `\"oatmeal\"` has now changed to `5`."
   ]
  },
  {
   "cell_type": "markdown",
   "metadata": {},
   "source": [
    "## Exercise 4\n",
    "1. Add the key ``\"Supporting Actress\"`` and set the value to `\"Jamie Lee Curtis\"`.\n",
    "2. Without changing the definition of the dictionary `\"oscar_winners\"`, change the value associated with the key `\"Best Picture\"` to `\"Moonlight\"`.\n",
    "3. Print `\"oscar_winners\"`\n"
   ]
  },
  {
   "cell_type": "code",
   "execution_count": 4,
   "metadata": {
    "ExecuteTime": {
     "end_time": "2023-11-26T14:38:08.522635Z",
     "start_time": "2023-11-26T14:38:08.520206Z"
    }
   },
   "outputs": [
    {
     "name": "stdout",
     "output_type": "stream",
     "text": [
      "{'Best Picture': 'Moonlight', 'Best Actress': 'Michelle Yeoh', 'Best Actor': 'Brendan Fraser', 'Supporting Actress': 'Jamie Lee Curtis'}\n"
     ]
    }
   ],
   "source": [
    "# Do NOT edit this code snippet\n",
    "oscar_winners = {\n",
    "    \"Best Picture\": \"La La Land\", \n",
    "    \"Best Actress\": \"Michelle Yeoh\", \n",
    "    \"Best Actor\": \"Brendan Fraser\"\n",
    "}\n",
    "\n",
    "# Write your code after this line\n",
    "\n",
    "\n",
    "\n",
    "# Solution to excercise 4\n",
    "oscar_winners[\"Supporting Actress\"] = \"Jamie Lee Curtis\"\n",
    "oscar_winners[\"Best Picture\"] = \"Moonlight\" \n",
    "\n",
    "print(oscar_winners)\n"
   ]
  },
  {
   "cell_type": "markdown",
   "metadata": {},
   "source": [
    "## Delete Items\n",
    "To remove a `\"key:value\"` pair consider the following dictionary:\n",
    "```python\n",
    "my_dict = {\"apple\": 10, \"banana\": 5, \"cherry\": 7}\n",
    "```\n",
    "There are two ways to achieve this\n",
    "1. Using `del`:\n",
    "    ```python\n",
    "    del my_dict[\"banana\"]\n",
    "    ```\n",
    "2. Using `pop`:\n",
    "    ```python\n",
    "    value = my_dict.pop(\"banana\")\n",
    "    ```"
   ]
  },
  {
   "cell_type": "markdown",
   "metadata": {},
   "source": [
    "## Exercise 5\n",
    " Given the following dictionary ``\"stock\"`` in a store.\n",
    " 1. The store has run out of hats. Remove hats from the dictionary using the del keyword.\n",
    " 2. A new stock count revealed that there are actually 10 pairs of shoes. Use pop() to remove shoes from the dictionary and capture the old stock count in a variable called .`\"old_shoes_count\"`\n",
    " 3. Print the variable."
   ]
  },
  {
   "cell_type": "code",
   "execution_count": 5,
   "metadata": {
    "ExecuteTime": {
     "end_time": "2023-11-26T14:38:08.526609Z",
     "start_time": "2023-11-26T14:38:08.524645Z"
    }
   },
   "outputs": [
    {
     "name": "stdout",
     "output_type": "stream",
     "text": [
      "Old stock count for shoes: 8\n"
     ]
    }
   ],
   "source": [
    "# Do NOT edit this code snippet\n",
    "stock = {\n",
    "    \"shirts\": 25,\n",
    "    \"pants\": 30,\n",
    "    \"socks\": 50,\n",
    "    \"hats\": 15,\n",
    "    \"shoes\": 8\n",
    "}\n",
    "\n",
    "# Write your code after this line\n",
    "\n",
    "\n",
    "\n",
    "# Solution to excercise 5\n",
    "del stock[\"hats\"]\n",
    "old_shoes_count = stock.pop(\"shoes\")\n",
    "\n",
    "print(\"Old stock count for shoes:\", old_shoes_count)"
   ]
  },
  {
   "cell_type": "markdown",
   "metadata": {},
   "source": [
    "## Bonus Exercise 1\n",
    "\n",
    "Dictionaries can contain many things, including lists and other dictionaries!\n",
    "\n",
    "Create a `friends` dictionary and add the following entries:\n",
    "- `\"frank\"` is friends with `\"martha\"` and `\"joe\"`\n",
    "- `\"joe\"` is friends with `\"frank\"` and `\"jason\"`\n",
    "- `\"jason\"` is friends with `\"joe\"` and `\"martha\"`\n",
    "\n",
    "Hint: Here is the code for the following scenario:\n",
    "Frank is friends with nobody\n",
    "\n",
    "```py\n",
    "friends = {\n",
    "    \"frank\": [],\n",
    "}\n",
    "```\n",
    "\n",
    "Make sure to print the dictionary afterwards!"
   ]
  },
  {
   "cell_type": "code",
   "execution_count": 4,
   "metadata": {},
   "outputs": [
    {
     "name": "stdout",
     "output_type": "stream",
     "text": [
      "{'frank': ['martha', 'joe'], 'joe': ['frank', 'jason'], 'jason': ['joe', 'martha']}\n"
     ]
    }
   ],
   "source": [
    "# Write your code after this line!\n",
    "friends = {\n",
    "    \"frank\": [\"martha\", \"joe\"],\n",
    "    \"joe\": [\"frank\", \"jason\"],\n",
    "    \"jason\": [\"joe\", \"martha\"]\n",
    "}\n",
    "print(friends)"
   ]
  },
  {
   "cell_type": "markdown",
   "metadata": {},
   "source": [
    "## Bonus Exercise 2\n",
    "\n",
    "Add more friends to the dictionary, **without changing the code above!** Only use the ``friends[\"name\"]`` operation!\n",
    "\n",
    "Add the following new lists into the dictionary:\n",
    "- `\"martha\"` is now friends with `\"frank\"` and `\"jason\"`\n",
    "- `\"garfield\"` is now friends with `\"jason\"` and `\"mary\"`\n",
    "\n",
    "Change the existing lists of the following people:\n",
    "- `\"frank\"` is now also friends with `\"jason\"`! (**Use .append() on the list in the dictionary!**)\n",
    "- `\"joe\"` is no longer friends with `\"frank\"`! (**Use .remove() or .pop() on the list in the dictionary!**)\n",
    "\n",
    "Make sure to print the friends dictionary afterwards, and to check that the new relationships are stored!\n",
    "\n",
    "**To reset the dictionary, you can run your code cell from bonus exercise 1 again**"
   ]
  },
  {
   "cell_type": "code",
   "execution_count": null,
   "metadata": {},
   "outputs": [
    {
     "name": "stdout",
     "output_type": "stream",
     "text": [
      "{'frank': ['martha', 'joe', 'jason'], 'joe': ['jason'], 'jason': ['joe', 'martha'], 'martha': ['frank', 'jason'], 'garfield': ['jason', 'mary']}\n"
     ]
    }
   ],
   "source": [
    "# Remember: You can run your code from Bonus Exercise 1 again to reset the dictionary!\n",
    "\n",
    "# Write your code after this line\n",
    "friends[\"martha\"] = [\"frank\", \"jason\"]\n",
    "friends[\"garfield\"] = [\"jason\", \"mary\"]\n",
    "\n",
    "friends[\"frank\"].append(\"jason\")\n",
    "friends[\"joe\"].remove(\"frank\")\n",
    "\n",
    "print(friends)"
   ]
  },
  {
   "cell_type": "markdown",
   "metadata": {},
   "source": [
    "## Bonus Exercise 3\n",
    "\n",
    "Now, use the .update() method to replace the friends list of `\"martha\"` with the following new friends: `\"jane\"` and `\"lily\"`."
   ]
  },
  {
   "cell_type": "code",
   "execution_count": 7,
   "metadata": {},
   "outputs": [
    {
     "name": "stdout",
     "output_type": "stream",
     "text": [
      "{'frank': ['martha', 'joe', 'jason'], 'joe': ['jason'], 'jason': ['joe', 'martha'], 'martha': ['jane', 'lily'], 'garfield': ['jason', 'mary']}\n"
     ]
    }
   ],
   "source": [
    "# Write your code after this line\n",
    "new_marthas_friends = {\"martha\": [\"jane\", \"lily\"]}\n",
    "friends.update(new_marthas_friends)\n",
    "print(friends)"
   ]
  },
  {
   "cell_type": "markdown",
   "metadata": {},
   "source": [
    "## Bonus Exercise 4\n",
    "\n",
    "Now that you can access dictionaries with [] as well, ask yourself the following question:\n",
    "\n",
    "```py\n",
    "# List version:\n",
    "people = [\"Martha\", \"Frank\", \"Joe\"]\n",
    "people[5] = \"James\"\n",
    "# Dictionary Version\n",
    "people_dict = {\n",
    "    0: \"Martha\",\n",
    "    1: \"Frank\",\n",
    "    2: \"Joe\",\n",
    "}\n",
    "people_dict[5] = \"James\"\n",
    "```\n",
    "\n",
    "What is the difference between the list version and the dictionaries version?\n",
    "What would happen if you would run this code? Would you see errors? Why?\n",
    "\n",
    "**After you thought about these questions, paste the code in the code field and try it out. Where you correct?**"
   ]
  },
  {
   "cell_type": "code",
   "execution_count": null,
   "metadata": {},
   "outputs": [
    {
     "ename": "IndexError",
     "evalue": "list assignment index out of range",
     "output_type": "error",
     "traceback": [
      "\u001b[0;31m---------------------------------------------------------------------------\u001b[0m",
      "\u001b[0;31mIndexError\u001b[0m                                Traceback (most recent call last)",
      "Cell \u001b[0;32mIn[8], line 8\u001b[0m\n\u001b[1;32m      1\u001b[0m \u001b[38;5;66;03m# Read the task before writing code here.\u001b[39;00m\n\u001b[1;32m      2\u001b[0m \u001b[38;5;66;03m# Try to answer the questions in your head first.\u001b[39;00m\n\u001b[1;32m      3\u001b[0m \n\u001b[1;32m      4\u001b[0m \u001b[38;5;66;03m# Write your code after this line\u001b[39;00m\n\u001b[1;32m      5\u001b[0m \n\u001b[1;32m      6\u001b[0m \u001b[38;5;66;03m# List version:\u001b[39;00m\n\u001b[1;32m      7\u001b[0m people \u001b[38;5;241m=\u001b[39m [\u001b[38;5;124m\"\u001b[39m\u001b[38;5;124mMartha\u001b[39m\u001b[38;5;124m\"\u001b[39m, \u001b[38;5;124m\"\u001b[39m\u001b[38;5;124mFrank\u001b[39m\u001b[38;5;124m\"\u001b[39m, \u001b[38;5;124m\"\u001b[39m\u001b[38;5;124mJoe\u001b[39m\u001b[38;5;124m\"\u001b[39m]\n\u001b[0;32m----> 8\u001b[0m \u001b[43mpeople\u001b[49m\u001b[43m[\u001b[49m\u001b[38;5;241;43m5\u001b[39;49m\u001b[43m]\u001b[49m \u001b[38;5;241m=\u001b[39m \u001b[38;5;124m\"\u001b[39m\u001b[38;5;124mJames\u001b[39m\u001b[38;5;124m\"\u001b[39m\n\u001b[1;32m      9\u001b[0m \u001b[38;5;66;03m# Dictionary Version\u001b[39;00m\n\u001b[1;32m     10\u001b[0m people_dict \u001b[38;5;241m=\u001b[39m {\n\u001b[1;32m     11\u001b[0m     \u001b[38;5;241m0\u001b[39m: \u001b[38;5;124m\"\u001b[39m\u001b[38;5;124mMartha\u001b[39m\u001b[38;5;124m\"\u001b[39m,\n\u001b[1;32m     12\u001b[0m     \u001b[38;5;241m1\u001b[39m: \u001b[38;5;124m\"\u001b[39m\u001b[38;5;124mFrank\u001b[39m\u001b[38;5;124m\"\u001b[39m,\n\u001b[1;32m     13\u001b[0m     \u001b[38;5;241m2\u001b[39m: \u001b[38;5;124m\"\u001b[39m\u001b[38;5;124mJoe\u001b[39m\u001b[38;5;124m\"\u001b[39m,\n\u001b[1;32m     14\u001b[0m }\n",
      "\u001b[0;31mIndexError\u001b[0m: list assignment index out of range"
     ]
    }
   ],
   "source": [
    "# Read the task before writing code here.\n",
    "# Try to answer the questions in your head first.\n",
    "\n",
    "# Write your code after this line\n",
    "\n",
    "# List version:\n",
    "people = [\"Martha\", \"Frank\", \"Joe\"]\n",
    "people[5] = \"James\" # This will error out!\n",
    "# Dictionary Version\n",
    "people_dict = {\n",
    "    0: \"Martha\",\n",
    "    1: \"Frank\",\n",
    "    2: \"Joe\",\n",
    "}\n",
    "people_dict[5] = \"James\""
   ]
  },
  {
   "cell_type": "markdown",
   "metadata": {},
   "source": [
    "## Bonus Exercise 5\n",
    "The aim is to deepen your understanding of Python's built-in capabilities for handling dictionaries.\n",
    "1. Given the dictionary ``person_info``, use dictionary methods to perform the following tasks:\n",
    "    - Retrieve the value of the key ``'age'`` and print it out\n",
    "    - Update the ``'city'`` to ``'New York'``\n",
    "    - Add a new key-value pair ``'occupation': 'Engineer'``\n",
    "2. For the dictionary ``person_info``, use a single line of Python code to get a list of all items (keys) in the inventory. \n",
    "                        <details>\n",
    "                            <summary><strong>Hint</strong></summary>\n",
    "                            Use the `.keys()` method.\n",
    "                        </details>\n",
    "3. Access the value of ``'email'`` inside ``'contact'``.\n",
    "    - Retrieve the value of `'email'` and save it in a variable called `email_address`.\n",
    "    - Print the value of `email_address`"
   ]
  },
  {
   "cell_type": "code",
   "execution_count": null,
   "metadata": {},
   "outputs": [
    {
     "name": "stdout",
     "output_type": "stream",
     "text": [
      "30\n",
      "johndoe@example.com\n"
     ]
    }
   ],
   "source": [
    "# Do NOT edit this code snippet\n",
    "person_info = {\n",
    "    \"name\": \"John Doe\",\n",
    "    \"age\": 30,\n",
    "    \"city\": \"San Francisco\",\n",
    "    \"contact\": {\n",
    "        \"email\": \"johndoe@example.com\",\n",
    "        \"phone\": 123456,\n",
    "    },\n",
    "}\n",
    "\n",
    "# Write your code after this line\n",
    "\n",
    "# Task 1\n",
    "print(person_info[\"age\"])\n",
    "person_info[\"city\"] = \"New York\"\n",
    "person_info[\"occupation\"] = \"Engineer\"\n",
    "\n",
    "# Task 2\n",
    "list(person_info.keys())\n",
    "\n",
    "# Task 3\n",
    "email_address = person_info[\"contact\"][\"email\"]\n",
    "print(email_address)"
   ]
  },
  {
   "cell_type": "markdown",
   "metadata": {},
   "source": [
    "## Feedback\n",
    "Please scan the QR code below to give us your feedback on **Chapter 10: Dictionaries**\n",
    "\n",
    "![QR Code feedback](../pictures/feedbackQR.png)"
   ]
  }
 ],
 "metadata": {
  "kernelspec": {
   "display_name": "usr",
   "language": "python",
   "name": "python3"
  },
  "language_info": {
   "codemirror_mode": {
    "name": "ipython",
    "version": 3
   },
   "file_extension": ".py",
   "mimetype": "text/x-python",
   "name": "python",
   "nbconvert_exporter": "python",
   "pygments_lexer": "ipython3",
   "version": "3.12.6"
  },
  "orig_nbformat": 4
 },
 "nbformat": 4,
 "nbformat_minor": 2
}
