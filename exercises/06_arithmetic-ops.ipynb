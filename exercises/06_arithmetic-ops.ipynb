{
 "cells": [
  {
   "cell_type": "markdown",
   "metadata": {},
   "source": [
    "# Arithmetic operations\n",
    "\n",
    "Now we know how to read in strings and numbers. Let's see how we can do some basic arithmetic operations with them.\n",
    "\n",
    "## Addition\n",
    "\n",
    "To add numbers in Python, we use the `+` operator. Let's add two numbers together:"
   ]
  },
  {
   "cell_type": "code",
   "execution_count": 1,
   "metadata": {
    "ExecuteTime": {
     "end_time": "2024-01-20T18:51:45.036316Z",
     "start_time": "2024-01-20T18:51:44.962884Z"
    }
   },
   "outputs": [
    {
     "name": "stdout",
     "output_type": "stream",
     "text": [
      "3\n"
     ]
    }
   ],
   "source": [
    "sum = 1 + 2\n",
    "print(sum)"
   ]
  },
  {
   "cell_type": "markdown",
   "metadata": {},
   "source": [
    "## Subtraction, Multiplication, Division\n",
    "\n",
    "All other arithmetic operations are done in a similar way. \n",
    "We subtract with the `-` operator, multiply with the `*` operator, and divide with the `/` operator.\n"
   ]
  },
  {
   "cell_type": "markdown",
   "metadata": {},
   "source": [
    "### All operators\n",
    "\n",
    "| Operation                  | Example                              | Result   | Code     |\n",
    "|----------------------------|--------------------------------------|----------|----------|\n",
    "| Addition                   | 3 plus 4                             | 7        | `3 + 4`  |\n",
    "| Subtraction                | 4 minus 1                            | 3        | `4 - 1`  |\n",
    "| Multiplication             | 5 times 3                            | 15       | `5 * 3`  |\n",
    "| Division                   | 5 divided by 3                       | 1,6666.. | `5 / 3`  |\n",
    "| Division without remainder | 5 divided by 3 but without remainder | 1        | `5 // 3` |\n",
    "| Modulo (Remainder)         | Remainder of 5/3                     | 2        | `5 % 3`  |\n",
    "| Power                      | 3 <sup> 3                            | 27       | `3 ** 3`   |\n",
    "\n",
    "---"
   ]
  },
  {
   "cell_type": "markdown",
   "metadata": {},
   "source": [
    "## Exercise 1: Input function with calculation\n",
    "\n",
    "We want to ask the user for their age, and then we print their birthyear. We can do this by using the input function and then subtracting the age from the current year."
   ]
  },
  {
   "cell_type": "code",
   "execution_count": 7,
   "metadata": {
    "ExecuteTime": {
     "end_time": "2024-01-20T18:54:24.897627Z",
     "start_time": "2024-01-20T18:54:23.590192Z"
    }
   },
   "outputs": [
    {
     "name": "stdout",
     "output_type": "stream",
     "text": [
      "Your age is: 21\n",
      "You were born in 2003 or 2002.\n"
     ]
    }
   ],
   "source": [
    "from datetime import datetime\n",
    "current_year = datetime.now().year\n",
    "# Write your code below this line\n",
    "age = input(\"Enter your age: \")\n",
    "birthyear = current_year - int(age)\n",
    "print(\"Your age is:\", age)\n",
    "print(\"You were born in \" + str(birthyear) + \" or \" + str(birthyear - 1) + \".\")"
   ]
  },
  {
   "cell_type": "markdown",
   "metadata": {},
   "source": [
    "## Exercise 2: Input function with complex calculation"
   ]
  },
  {
   "cell_type": "markdown",
   "metadata": {},
   "source": [
    "We want to write code, that takes the radius of a circle and then calculates the area of the circle. The formula for the area of a circle is: $A = \\pi r^2$\n",
    "\n",
    "assume $\\pi$ = 3.14159"
   ]
  },
  {
   "cell_type": "code",
   "execution_count": 6,
   "metadata": {
    "ExecuteTime": {
     "end_time": "2024-01-20T18:53:01.706304Z",
     "start_time": "2024-01-20T18:52:59.566109Z"
    }
   },
   "outputs": [
    {
     "name": "stdout",
     "output_type": "stream",
     "text": [
      "Radius of circle: 2\n",
      "The area of the circle is 12.56636\n"
     ]
    }
   ],
   "source": [
    "pi = 3.14159\n",
    "# write your code below this line\n",
    "\n",
    "radius = input(\"Enter the radius of the circle: \")\n",
    "area = pi * float(radius) ** 2\n",
    "print(\"Radius of circle:\", radius)\n",
    "print(\"The area of the circle is \" + str(area))"
   ]
  },
  {
   "cell_type": "markdown",
   "source": [
    "## Bonus Exercise 1: Calculator\n",
    "Please create a program which asks the user to input two numbers and which then calculates:\n",
    "- the sum $a + b$\n",
    "- the difference $a - b$\n",
    "- the product $a * b$\n",
    "- the quotient $a / b$\n",
    "- the resultant power $a^b$\n",
    "- the remainder $a$ $mod$ $b$\n",
    "- the division without remainder $\\lfloor \\frac{a}{b} \\rfloor$"
   ],
   "metadata": {
    "collapsed": false
   }
  },
  {
   "cell_type": "code",
   "execution_count": 4,
   "outputs": [
    {
     "name": "stdout",
     "output_type": "stream",
     "text": [
      "Results for a=12.0 and b=43.0.\n",
      "Sum (a + b): 55.0\n",
      "Difference (a - b): -31.0\n",
      "Product (a * b): 516.0\n",
      "Quotient (a / b): 0.27906976744186046\n",
      "Resultant Power (a^b): 2.539765269450581e+46\n",
      "Remainder (a % b): 12.0\n",
      "Division without remainder (a // b): 0.0\n"
     ]
    }
   ],
   "source": [
    "# write your code below this line\n",
    "a = float(input(\"Please provide two numbers.\\n a=\"))\n",
    "b = float((input(\"b=\")))\n",
    "print(\"Results for a=\" + str(a) + \" and b=\" + str(b) + \".\")\n",
    "print(\"Sum (a + b):\", a + b)\n",
    "print(\"Difference (a - b):\", a - b)\n",
    "print(\"Product (a * b):\", a * b)\n",
    "print(\"Quotient (a / b):\", a / b)\n",
    "print(\"Resultant Power (a^b):\", a ** b)\n",
    "print(\"Remainder (a % b):\", a % b)\n",
    "print(\"Division without remainder (a // b):\", a // b)"
   ],
   "metadata": {
    "collapsed": false,
    "ExecuteTime": {
     "end_time": "2024-01-20T18:51:58.501452Z",
     "start_time": "2024-01-20T18:51:52.706226Z"
    }
   }
  },
  {
   "cell_type": "markdown",
   "source": [
    "## Bonus Exercise 2: Getting rich!\n",
    "With some money to spare, you start becoming interested in investing. Reading up on how much money you will make at the end of your investing cycle ($n$ years) with an interest rate of $p\\%$ on your investments, you stumble upon the formula for Compound Interest:\n",
    "$\\big \\text{Compound Interest}\\ \\[\n",
    "A = P \\left(1 + \\frac{r}{n}\\right)^{nt}\n",
    "\\]$\n",
    "Create a program which asks the user for:\n",
    "- The principal (starting) amount of money $P$\n",
    "- The annual interest rate $r$\n",
    "- The number of times interest is compounded each year $n$ (eg. you get $r \\%$ interest on your money every month -> $n = 12$)\n",
    "- The number of years the money is invested $t$\n",
    "\n",
    "Then, using those numbers, calculate the final amount of your investment including the principal (starting) amount."
   ],
   "metadata": {
    "collapsed": false
   }
  },
  {
   "cell_type": "code",
   "execution_count": 5,
   "outputs": [
    {
     "name": "stdout",
     "output_type": "stream",
     "text": [
      "Results:\n",
      "Principal amount: 100.0\n",
      "Annual interest rate in percent: 1.0\n",
      "Compounding frequency: 1\n",
      "Time (years): 10.0\n",
      "Compound interest: 110.46221254112045\n"
     ]
    }
   ],
   "source": [
    "# write your code below this line\n",
    "# Input parameters from the user\n",
    "principal = float(input(\"Enter the principal amount: \"))\n",
    "rate = float(input(\"Enter the annual interest rate (in percent): \"))\n",
    "compounding_frequency = int(input(\"Enter the number of times interest is compounded per year: \"))\n",
    "time = float(input(\"Enter the time the money is invested for in years: \"))\n",
    "\n",
    "# Calculate and display the result\n",
    "compound_interest = principal * (1 + (rate/100) / compounding_frequency)**(compounding_frequency * time)\n",
    "\n",
    "print(\"Results:\")\n",
    "print(\"Principal amount:\", principal)\n",
    "print(\"Annual interest rate in percent:\", rate)\n",
    "print(\"Compounding frequency:\", compounding_frequency)\n",
    "print(\"Time (years):\", time)\n",
    "print(\"Compound interest:\", compound_interest)"
   ],
   "metadata": {
    "collapsed": false,
    "ExecuteTime": {
     "end_time": "2024-01-20T18:52:22.076140Z",
     "start_time": "2024-01-20T18:51:58.416457Z"
    }
   }
  },
  {
   "cell_type": "markdown",
   "source": [
    "## Feedback\n",
    "Please scan the QR code below to give us your feedback on **chapter 06: arithmetic operations**\n",
    "![QR Code feedback](../pictures/feedbackQR.png)"
   ],
   "metadata": {
    "collapsed": false
   }
  }
 ],
 "metadata": {
  "kernelspec": {
   "name": "python3",
   "language": "python",
   "display_name": "Python 3 (ipykernel)"
  },
  "language_info": {
   "codemirror_mode": {
    "name": "ipython",
    "version": 3
   },
   "file_extension": ".py",
   "mimetype": "text/x-python",
   "name": "python",
   "nbconvert_exporter": "python",
   "pygments_lexer": "ipython3",
   "version": "3.10.12"
  }
 },
 "nbformat": 4,
 "nbformat_minor": 2
}
