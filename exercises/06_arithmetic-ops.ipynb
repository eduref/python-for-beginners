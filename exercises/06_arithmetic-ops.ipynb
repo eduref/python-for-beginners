{
 "cells": [
  {
   "cell_type": "markdown",
   "metadata": {},
   "source": [
    "# Arithmetic operations\n",
    "\n",
    "Now we know how to read in strings and numbers. Let's see how we can do some basic arithmetic operations with them.\n",
    "\n",
    "### Addition\n",
    "\n",
    "To add numbers in Python, we use the `+` operator. Let's add two numbers together:"
   ]
  },
  {
   "cell_type": "code",
   "execution_count": 5,
   "metadata": {},
   "outputs": [
    {
     "name": "stdout",
     "output_type": "stream",
     "text": [
      "3\n"
     ]
    }
   ],
   "source": [
    "sum = 1 + 2\n",
    "print(sum)"
   ]
  },
  {
   "cell_type": "code",
   "execution_count": 9,
   "metadata": {},
   "outputs": [
    {
     "ename": "TypeError",
     "evalue": "unsupported operand type(s) for +: 'int' and 'str'",
     "output_type": "error",
     "traceback": [
      "\u001b[1;31m---------------------------------------------------------------------------\u001b[0m",
      "\u001b[1;31mTypeError\u001b[0m                                 Traceback (most recent call last)",
      "\u001b[1;32mc:\\Users\\vinzenz.zinecker\\OneDrive - Trelleborg AB\\Desktop\\eduref\\python-for-beginners\\exercises\\06_arithmetic-ops.ipynb Cell 3\u001b[0m line \u001b[0;36m2\n\u001b[0;32m      <a href='vscode-notebook-cell:/c%3A/Users/vinzenz.zinecker/OneDrive%20-%20Trelleborg%20AB/Desktop/eduref/python-for-beginners/exercises/06_arithmetic-ops.ipynb#X11sZmlsZQ%3D%3D?line=0'>1</a>\u001b[0m a \u001b[39m=\u001b[39m \u001b[39m\"\u001b[39m\u001b[39m5\u001b[39m\u001b[39m\"\u001b[39m\n\u001b[1;32m----> <a href='vscode-notebook-cell:/c%3A/Users/vinzenz.zinecker/OneDrive%20-%20Trelleborg%20AB/Desktop/eduref/python-for-beginners/exercises/06_arithmetic-ops.ipynb#X11sZmlsZQ%3D%3D?line=1'>2</a>\u001b[0m \u001b[39mprint\u001b[39m(\u001b[39m5\u001b[39;49m\u001b[39m*\u001b[39;49m\u001b[39m7\u001b[39;49m\u001b[39m+\u001b[39;49ma)\n",
      "\u001b[1;31mTypeError\u001b[0m: unsupported operand type(s) for +: 'int' and 'str'"
     ]
    }
   ],
   "source": [
    "a = \"5\"\n",
    "print(5+a)"
   ]
  },
  {
   "cell_type": "markdown",
   "metadata": {},
   "source": [
    "### Subtraction, Multiplication, Division\n",
    "\n",
    "All other arithmetic operations are done in a similar way. \n",
    "We subtract with the `-` operator, multiply with the `*` operator, and divide with the `/` operator.\n"
   ]
  },
  {
   "cell_type": "code",
   "execution_count": null,
   "metadata": {},
   "outputs": [],
   "source": []
  },
  {
   "cell_type": "markdown",
   "metadata": {},
   "source": [
    "### All operators\n",
    "\n",
    "| Operation                  | Example                              | Result   | Code     |\n",
    "|----------------------------|--------------------------------------|----------|----------|\n",
    "| Addition                   | 3 plus 4                             | 7        | `3 + 4`  |\n",
    "| Subtraction                | 4 minus 1                            | 3        | `4 - 1`  |\n",
    "| Multiplication             | 5 times 3                            | 15       | `5 * 3`  |\n",
    "| Division                   | 5 divided by 3                       | 1,6666.. | `5 / 3`  |\n",
    "| Division without remainder | 5 divided by 3 but without remainder | 1        | `5 // 3` |\n",
    "| Modulo (Remainder)         | Remainder of 5/3                     | 2        | `5 % 3`  |\n",
    "| Power                      | 3 <sup> 3                            | 27       | `3 ** 3`   |\n",
    "\n",
    "---"
   ]
  },
  {
   "cell_type": "markdown",
   "metadata": {},
   "source": [
    "### Task 1: Input function with calculation\n",
    "\n",
    "We want to ask the user for their age, and then we print their birthyear. We can do this by using the input function and then subtracting the age from the current year."
   ]
  },
  {
   "cell_type": "code",
   "execution_count": 1,
   "metadata": {},
   "outputs": [
    {
     "name": "stdout",
     "output_type": "stream",
     "text": [
      "You were born in 1999 or 1998.\n"
     ]
    }
   ],
   "source": [
    "age = input(\"Enter your age: \")\n",
    "birthyear = 2023 - int(age)\n",
    "print(\"You were born in \" + str(birthyear) + \" or \" + str(birthyear - 1) + \".\")"
   ]
  },
  {
   "cell_type": "markdown",
   "metadata": {},
   "source": [
    "### Task 2: Input function with complex calculation"
   ]
  },
  {
   "cell_type": "markdown",
   "metadata": {},
   "source": [
    "We want to write code, that takes the radius of a circle and then calculates the area of the circle. The formula for the area of a circle is: $A = \\pi r^2$\n",
    "\n",
    "assume $\\pi$ = 3.14159"
   ]
  },
  {
   "cell_type": "code",
   "execution_count": null,
   "metadata": {},
   "outputs": [
    {
     "name": "stdout",
     "output_type": "stream",
     "text": [
      "1.6666666666666667\n"
     ]
    }
   ],
   "source": [
    "pi = 3.14159\n",
    "# write your code here\n",
    "\n",
    "radius = input(\"Enter the radius of the circle: \")\n",
    "area = pi * float(radius) ** 2\n",
    "print(\"The area of the circle is \" + str(area))"
   ]
  }
 ],
 "metadata": {
  "kernelspec": {
   "display_name": "base",
   "language": "python",
   "name": "python3"
  },
  "language_info": {
   "codemirror_mode": {
    "name": "ipython",
    "version": 3
   },
   "file_extension": ".py",
   "mimetype": "text/x-python",
   "name": "python",
   "nbconvert_exporter": "python",
   "pygments_lexer": "ipython3",
   "version": "3.10.12"
  }
 },
 "nbformat": 4,
 "nbformat_minor": 2
}
