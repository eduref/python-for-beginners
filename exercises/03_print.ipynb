{
 "cells": [
  {
   "attachments": {},
   "cell_type": "markdown",
   "metadata": {},
   "source": [
    "# Printing\n",
    "\n",
    "To communicate with the user, we print out values.\n",
    "\n",
    "```py\n",
    "# Prints Test\n",
    "print(\"Test\")\n",
    "```\n",
    "\n",
    "Make sure to use Quotes \"\" like this: \"In quotes\"\n"
   ]
  },
  {
   "attachments": {},
   "cell_type": "markdown",
   "metadata": {},
   "source": [
    "## Exercise 1: Hello World\n",
    "\n",
    "In the following task, write a program that prints \"Hello, World!\""
   ]
  },
  {
   "cell_type": "code",
   "execution_count": 1,
   "metadata": {
    "ExecuteTime": {
     "end_time": "2024-01-20T18:47:15.492948Z",
     "start_time": "2024-01-20T18:47:15.484896Z"
    }
   },
   "outputs": [
    {
     "name": "stdout",
     "output_type": "stream",
     "text": [
      "Hello World\n"
     ]
    }
   ],
   "source": [
    "# write your code below this line\n",
    "print(\"Hello World\")"
   ]
  },
  {
   "cell_type": "markdown",
   "source": [
    "## Exercise 2: Welcoming your guests\n",
    "You are hosting a party and you don't want to be a bad host, right? Make sure to greet everyone that has come to your party!\n",
    "Please print out `Hello <Name>!` of all the names provided."
   ],
   "metadata": {
    "collapsed": false
   }
  },
  {
   "cell_type": "code",
   "execution_count": 2,
   "outputs": [
    {
     "name": "stdout",
     "output_type": "stream",
     "text": [
      "Hey Kerri Chandler\n",
      "Greetings,  LTJ Bukem\n",
      "Welcome Roy Davis Jr.\n"
     ]
    }
   ],
   "source": [
    "party_guest_1 = \"Kerri Chandler\"\n",
    "party_guest_2 = \"LTJ Bukem\"\n",
    "party_guest_3 = \"Roy Davis Jr.\"\n",
    "\n",
    "# write your code below this line\n",
    "print(\"Hey\", party_guest_1)\n",
    "print(\"Greetings, \", party_guest_2)\n",
    "print(\"Welcome\", party_guest_3)"
   ],
   "metadata": {
    "collapsed": false,
    "ExecuteTime": {
     "end_time": "2024-01-20T18:47:15.495017Z",
     "start_time": "2024-01-20T18:47:15.493456Z"
    }
   }
  },
  {
   "cell_type": "markdown",
   "source": [
    "## Bonus Exercise 1: Easy printing\n",
    "\n",
    "In the following task, print your first name and your last name, but in two different lines, eg:\n",
    "```python\n",
    "Gerhardt\n",
    "Eberstädter\n",
    "```"
   ],
   "metadata": {
    "collapsed": false
   }
  },
  {
   "cell_type": "code",
   "execution_count": 3,
   "outputs": [
    {
     "name": "stdout",
     "output_type": "stream",
     "text": [
      "Nils\n",
      "Holgersson\n"
     ]
    }
   ],
   "source": [
    "# write your code below this line\n",
    "print(\"Nils\")\n",
    "print(\"Holgersson\")"
   ],
   "metadata": {
    "collapsed": false,
    "ExecuteTime": {
     "end_time": "2024-01-20T18:47:15.498005Z",
     "start_time": "2024-01-20T18:47:15.495541Z"
    }
   }
  },
  {
   "cell_type": "markdown",
   "source": [
    "## Bonus Exercise 2: What does the ATM say?\n",
    "In this exercise, imagine you want to program an ATM: It needs to\n",
    "- Welcome the client\n",
    "- Show him his account balance in EUR\n",
    "- Ask him, how much he wants to withdraw in EUR\n",
    "Please print out a possible initial dialogue with a client, using the placeholders (=variables) we provide below"
   ],
   "metadata": {
    "collapsed": false
   }
  },
  {
   "cell_type": "code",
   "execution_count": 4,
   "outputs": [
    {
     "name": "stdout",
     "output_type": "stream",
     "text": [
      "Hello, Meister Eder\n",
      "Your available balance is 1000000€\n",
      "How much would you like to withdraw?\n"
     ]
    }
   ],
   "source": [
    "account_balance = 1000000\n",
    "client_name = \"Meister Eder\"\n",
    "\n",
    "# write your code below this line\n",
    "print(\"Hello,\", client_name)\n",
    "print(\"Your available balance is\", str(account_balance) + \"€\")\n",
    "print(\"How much would you like to withdraw?\")"
   ],
   "metadata": {
    "collapsed": false,
    "ExecuteTime": {
     "end_time": "2024-01-20T18:47:15.501446Z",
     "start_time": "2024-01-20T18:47:15.499615Z"
    }
   }
  },
  {
   "cell_type": "markdown",
   "source": [
    "## Feedback\n",
    "Please scan the QR code below to give us your feedback on **chapter 03: print**\n",
    "![QR Code feedback](../pictures/feedbackQR.png)"
   ],
   "metadata": {
    "collapsed": false
   }
  }
 ],
 "metadata": {
  "kernelspec": {
   "display_name": "Python 3",
   "language": "python",
   "name": "python3"
  },
  "language_info": {
   "codemirror_mode": {
    "name": "ipython",
    "version": 3
   },
   "file_extension": ".py",
   "mimetype": "text/x-python",
   "name": "python",
   "nbconvert_exporter": "python",
   "pygments_lexer": "ipython3",
   "version": "3.11.3"
  },
  "orig_nbformat": 4
 },
 "nbformat": 4,
 "nbformat_minor": 2
}
