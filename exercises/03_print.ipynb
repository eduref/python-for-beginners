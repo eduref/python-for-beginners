{
 "cells": [
  {
   "attachments": {},
   "cell_type": "markdown",
   "metadata": {},
   "source": [
    "# Printing\n",
    "\n",
    "To communicate with the user, we print out values.\n",
    "\n",
    "```py\n",
    "# Prints Test\n",
    "print(\"Test\")\n",
    "```\n",
    "\n",
    "Make sure to use Quotes \"\" like this: \"In quotes\"\n"
   ]
  },
  {
   "attachments": {},
   "cell_type": "markdown",
   "metadata": {},
   "source": [
    "## Exercise 1: Hello World\n",
    "\n",
    "In the following task, write a program that prints \"Hello, World!\""
   ]
  },
  {
   "cell_type": "code",
   "execution_count": 1,
   "metadata": {
    "ExecuteTime": {
     "end_time": "2024-01-20T18:47:15.492948Z",
     "start_time": "2024-01-20T18:47:15.484896Z"
    }
   },
   "outputs": [
    {
     "name": "stdout",
     "output_type": "stream",
     "text": [
      "Hello World\n"
     ]
    }
   ],
   "source": [
    "# write your code below this line\n",
    "print(\"Hello World\")"
   ]
  },
  {
   "cell_type": "markdown",
   "metadata": {
    "collapsed": false
   },
   "source": [
    "## Exercise 2: Welcoming your guests\n",
    "You are hosting a party and you don't want to be a bad host, right? Make sure to greet everyone that has come to your party!\n",
    "Please print out `Hello <Name>!` of all the names provided."
   ]
  },
  {
   "cell_type": "code",
   "execution_count": 13,
   "metadata": {
    "ExecuteTime": {
     "end_time": "2024-01-20T18:47:15.495017Z",
     "start_time": "2024-01-20T18:47:15.493456Z"
    },
    "collapsed": false
   },
   "outputs": [
    {
     "name": "stdout",
     "output_type": "stream",
     "text": [
      "Hey Kerri Chandler\n",
      "Greetings,LTJ Bukem\n",
      "Welcome Roy Davis Jr.\n"
     ]
    }
   ],
   "source": [
    "# Guest 1\n",
    "\"Kerri Chandler\"\n",
    "# Guest 2\n",
    "\"LTJ Bukem\"\n",
    "# Guest 3\n",
    "\"Roy Davis Jr.\"\n",
    "\n",
    "# write your code below this line\n",
    "\n",
    "print(\"Hey\", \"Kerri Chandler\")\n",
    "print(\"Greetings,\" + \"LTJ Bukem\")\n",
    "print(\"Welcome \" + \"Roy Davis Jr.\")"
   ]
  },
  {
   "cell_type": "markdown",
   "metadata": {
    "collapsed": false
   },
   "source": [
    "## Bonus Exercise 1: Easy printing\n",
    "\n",
    "In the following task, print your first name and your last name, but in two different lines, eg:\n",
    "```python\n",
    "Gerhardt\n",
    "Eberstädter\n",
    "```"
   ]
  },
  {
   "cell_type": "code",
   "execution_count": 3,
   "metadata": {
    "ExecuteTime": {
     "end_time": "2024-01-20T18:47:15.498005Z",
     "start_time": "2024-01-20T18:47:15.495541Z"
    },
    "collapsed": false
   },
   "outputs": [
    {
     "name": "stdout",
     "output_type": "stream",
     "text": [
      "Nils\n",
      "Holgersson\n"
     ]
    }
   ],
   "source": [
    "# write your code below this line\n",
    "print(\"Nils\")\n",
    "print(\"Holgersson\")"
   ]
  },
  {
   "cell_type": "markdown",
   "metadata": {
    "collapsed": false
   },
   "source": [
    "## Bonus Exercise 2: What does the ATM say?\n",
    "In this exercise, imagine you want to program an ATM: It needs to\n",
    "- Welcome the client\n",
    "- Show him his account balance in EUR\n",
    "- Ask him, how much he wants to withdraw in EUR\n",
    "Please print out a possible initial dialogue with a client, using the placeholders (=variables) we provide below"
   ]
  },
  {
   "cell_type": "code",
   "execution_count": null,
   "metadata": {
    "ExecuteTime": {
     "end_time": "2024-01-20T18:47:15.501446Z",
     "start_time": "2024-01-20T18:47:15.499615Z"
    },
    "collapsed": false
   },
   "outputs": [
    {
     "name": "stdout",
     "output_type": "stream",
     "text": [
      "Hello, Meister Eder\n",
      "Your available balance is 1000000€\n",
      "How much would you like to withdraw?\n"
     ]
    }
   ],
   "source": [
    "# Account balance: 1000000\n",
    "# Client Name: Meister Eder\n",
    "\n",
    "# write your code below this line\n",
    "print(\"Hello,\", \"Meister Eder\")\n",
    "print(\"Your available balance is\", \"1000000\" + \"€\")\n",
    "print(\"How much would you like to withdraw?\")"
   ]
  },
  {
   "cell_type": "markdown",
   "metadata": {},
   "source": [
    "## Bonus Exercise 3: ATM Advanced\n",
    "Please use the following variables (placeholders for storing values like numbers or text) to create an ATM which can:\n",
    "- uses the correct customer name\n",
    "- give information on the account\n",
    "\n",
    "Then ask the customer what they want to do\n",
    "- to withdraw, they should press `w`\n",
    "- to log out, tell them to press `q`\n",
    "\n",
    "Please use only string concatenation using the `+`, e.g. `\"hello\" + \" world\"`."
   ]
  },
  {
   "cell_type": "code",
   "execution_count": 21,
   "metadata": {},
   "outputs": [
    {
     "name": "stdout",
     "output_type": "stream",
     "text": [
      "FEDERAL BANK ATM \n",
      "\n",
      "-----------------\n",
      "\n",
      "Welcome, Angela Merkel (129472479h)!\n",
      "\n",
      "Your current account balance is \n",
      "100 EUR\n",
      "\n",
      "Your current available account balance is\n",
      "20 EUR\n",
      "\n",
      "\n",
      "To withdraw money, press w.\n",
      "To log out, press q.\n"
     ]
    }
   ],
   "source": [
    "customer_name = \"Angela Merkel\"\n",
    "customer_account_balance = \"100\"\n",
    "customer_account_number = \"129472479h\"\n",
    "customer_available_amount = \"20\"\n",
    "\n",
    "press_to_withdraw_letter = \"w\"\n",
    "press_to_logout_letter = \"q\"\n",
    "\n",
    "# write your code below this line\n",
    "print(\"FEDERAL BANK ATM \\n\") # the \\n breaks a line, like pressing ↩️\n",
    "print(\"-----------------\\n\")\n",
    "\n",
    "print(\"Welcome, \" + customer_name + \" (\" + customer_account_number + \")\" + \"!\\n\")\n",
    "\n",
    "print(\"Your current account balance is \\n\" + customer_account_balance + \" EUR\")\n",
    "print(\"\\nYour current available account balance is\\n\" + customer_available_amount + \" EUR\")\n",
    "print(\"\")\n",
    "print(\"\")\n",
    "print(\"To withdraw money, press \" + press_to_withdraw_letter + \".\")\n",
    "print(\"To log out, press \" + press_to_logout_letter + \".\")\n"
   ]
  },
  {
   "cell_type": "markdown",
   "metadata": {
    "collapsed": false
   },
   "source": [
    "## Feedback\n",
    "Please scan the QR code below to give us your feedback on **chapter 03: print**\n",
    "![QR Code feedback](../pictures/feedbackQR.png)"
   ]
  },
  {
   "cell_type": "markdown",
   "metadata": {},
   "source": [
    "### Code examples from the slides:"
   ]
  },
  {
   "cell_type": "code",
   "execution_count": 10,
   "metadata": {},
   "outputs": [
    {
     "name": "stdout",
     "output_type": "stream",
     "text": [
      "This is a normal text\n",
      "Thisisaconcatenatedtext\n"
     ]
    }
   ],
   "source": [
    "print(\"This is a normal text.\")\n",
    "print(\"This\" + \"is\" + \"a\" + \"concatenated\" + \"text.\")"
   ]
  },
  {
   "cell_type": "code",
   "execution_count": 11,
   "metadata": {},
   "outputs": [
    {
     "name": "stdout",
     "output_type": "stream",
     "text": [
      "This is a normal text.\n",
      "This is a concatenated text.\n"
     ]
    }
   ],
   "source": [
    "print(\"This is a normal text.\")\n",
    "print(\"This \" + \"is \" + \"a \" + \"concatenated \" + \"text.\")"
   ]
  },
  {
   "cell_type": "code",
   "execution_count": 12,
   "metadata": {},
   "outputs": [
    {
     "name": "stdout",
     "output_type": "stream",
     "text": [
      "Hello world\n",
      "Hello world\n",
      "Hello world\n"
     ]
    }
   ],
   "source": [
    "print(\"Hello world\")\n",
    "print(\"Hello \" + \"world\")\n",
    "print(\"Hello\", \"world\")"
   ]
  },
  {
   "cell_type": "code",
   "execution_count": null,
   "metadata": {},
   "outputs": [],
   "source": [
    "print(\"Customer\", \"1\")\n",
    "print(\"-------------------\")\n",
    "print(\"Your account balance is:\", \"100€\")\n",
    "print(\"\")\n",
    "print(\"Customer\", \"2\")\n",
    "print(\"-------------------\")\n",
    "print(\"Your account balance is:\", \"10€\")\n",
    "print(\"\")\n",
    "print(\"Customer\", \"3\")\n",
    "print(\"-------------------\")\n",
    "print(\"Your account balance is:\", \"1€\")"
   ]
  }
 ],
 "metadata": {
  "kernelspec": {
   "display_name": "mv_env",
   "language": "python",
   "name": "mv_env"
  },
  "language_info": {
   "codemirror_mode": {
    "name": "ipython",
    "version": 3
   },
   "file_extension": ".py",
   "mimetype": "text/x-python",
   "name": "python",
   "nbconvert_exporter": "python",
   "pygments_lexer": "ipython3",
   "version": "3.8.8"
  },
  "orig_nbformat": 4
 },
 "nbformat": 4,
 "nbformat_minor": 2
}
