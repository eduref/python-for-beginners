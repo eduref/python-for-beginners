{
 "cells": [
  {
   "cell_type": "markdown",
   "metadata": {},
   "source": [
    "## Meta\n",
    "- Zuerst einmal Einführung in Dictionaries\n",
    "- kreation von Dict\n",
    "- dann ändern von dict (hier ist die Wahl von strings für die nummern wichtig, da ints die mit 0 beginnen nicht funktionieren)"
   ]
  },
  {
   "cell_type": "markdown",
   "metadata": {},
   "source": [
    "## Python Dictionaries\n",
    "Dictionaries are used to store data values in key value pairs. The keys in a dictionary must be unique. The values can be of any type and can be duplicated. Values can also be dictionaries or lists. A dictionary is defined using curly brackets `{}`.\n",
    "### Creating a Dictionary\n",
    "For example a dictionary that describes a person could look like this:\n",
    "```python\n",
    "person = {\n",
    "    \"name\": \"John\",\n",
    "    \"age\": 36,\n",
    "    \"country\": \"Norway\"\n",
    "}\n",
    "```\n",
    "In this example `name`, `age` and `country` are the keys and `John`, `36` and `Norway` are the values.\n",
    "There are several operations that can be performed on dictionaries.\n",
    "### Accessing Items\n",
    "You can access the items of a dictionary by referring to its key name, inside square brackets:\n",
    "```python\n",
    "x = person[\"age\"]\n",
    "```\n",
    "### Change Values\n",
    "You can change the value of a specific item by referring to its key name:\n",
    "```python\n",
    "person[\"age\"] = 40\n",
    "```\n",
    "### Add new Items\n",
    "Add a new key value pair to the dictionary:\n",
    "```python\n",
    "person[\"city\"] = \"Oslo\"\n",
    "```\n",
    "### Remove Items\n",
    "To remove a key value pair in use the del keyword:\n",
    "```python\n",
    "del person[\"age\"]\n",
    "```\n"
   ]
  },
  {
   "cell_type": "markdown",
   "metadata": {},
   "source": [
    "## Exercise 1 - Creating Dictionaries\n",
    "Create two dictionaries for two people. Each person should have a name, age and country.\n",
    "Create the first dictionary with all key and values within the curly brackets.\n",
    "Create the second dictionary by first creating an empty dictionary and then adding the key value pairs one by one.\n",
    "Then create a list of the two dictionaries. Print the list."
   ]
  },
  {
   "cell_type": "code",
   "execution_count": 1,
   "metadata": {
    "ExecuteTime": {
     "end_time": "2023-07-12T18:51:51.267235Z",
     "start_time": "2023-07-12T18:51:51.263563Z"
    }
   },
   "outputs": [
    {
     "name": "stdout",
     "output_type": "stream",
     "text": [
      "[{'name': 'John', 'age': 36, 'country': 'Norway'}, {'name': 'John', 'age': 36, 'country': 'Norway'}]\n"
     ]
    }
   ],
   "source": [
    "# Create Person 1 from scratch\n",
    "person1={\n",
    "    \"name\":\"John\",\n",
    "    \"age\":36,\n",
    "    \"country\":\"Norway\"\n",
    "}\n",
    "# creating person 2 and adding the key value pairs\n",
    "person2={}\n",
    "person2[\"name\"]=\"John\"\n",
    "person2[\"age\"]=36\n",
    "person2[\"country\"]=\"Norway\"\n",
    "\n",
    "persons=[person1,person2]\n",
    "print(persons)"
   ]
  },
  {
   "cell_type": "markdown",
   "metadata": {},
   "source": [
    "## Exercise 2 - Changing Values\n",
    "Create a dictionary of mobile contact information. The key is the name of the person and the value is the phone number. Should the phone number be stores as a string or a number ? Now add two contacts to the dictionary. Print the dictionary.\n",
    "Change the phone number of one of the second contact. Print the dictionary again."
   ]
  },
  {
   "cell_type": "code",
   "execution_count": 2,
   "metadata": {
    "ExecuteTime": {
     "end_time": "2023-07-12T18:51:51.292606Z",
     "start_time": "2023-07-12T18:51:51.267696Z"
    }
   },
   "outputs": [
    {
     "name": "stdout",
     "output_type": "stream",
     "text": [
      "Contacts: {'John': '076146123321', 'Jane': '004921395325'}\n",
      "Contacts after move: {'John': '076146123321', 'Jane': '0044123456789'}\n"
     ]
    }
   ],
   "source": [
    "# Creating the contacts dictionary\n",
    "contacts={\n",
    "    \"John\":\"076146123321\",\n",
    "    \"Jane\":\"004921395325\"\n",
    "}\n",
    "print(\"Contacts:\",contacts)\n",
    "#Change Janes number after she moved to the UK\n",
    "contacts[\"Jane\"]=\"0044123456789\"\n",
    "print(\"Contacts after move:\",contacts)\n"
   ]
  }
 ],
 "metadata": {
  "kernelspec": {
   "display_name": "base",
   "language": "python",
   "name": "python3"
  },
  "language_info": {
   "codemirror_mode": {
    "name": "ipython",
    "version": 3
   },
   "file_extension": ".py",
   "mimetype": "text/x-python",
   "name": "python",
   "nbconvert_exporter": "python",
   "pygments_lexer": "ipython3",
   "version": "3.11.0"
  },
  "orig_nbformat": 4
 },
 "nbformat": 4,
 "nbformat_minor": 2
}
