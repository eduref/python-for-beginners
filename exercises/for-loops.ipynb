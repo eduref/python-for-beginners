{
 "cells": [
  {
   "cell_type": "markdown",
   "metadata": {},
   "source": [
    "# For-Loops\n",
    "\n",
    "Use for loops to run the same code many times:\n",
    "\n",
    "```python\n",
    "primes = [2, 3, 5, 7, 11, 13, 17, 19]\n",
    "for (prime in primes):\n",
    "  # All code inside this block runs for every prime number\n",
    "  print(prime)\n",
    "  # It runs 8 times\n",
    "```\n",
    "\n",
    "\n",
    "```diff\n",
    "Make sure you indent correctly:\n",
    "  The code inside should be two spaces indented like this\n",
    "and not like this\n",
    "```\n"
   ]
  },
  {
   "cell_type": "markdown",
   "metadata": {},
   "source": [
    "## Exercise 1: Sum list of numbers\n",
    "\n",
    "Sum up all numbers in the list.\n",
    "\n",
    "Then print out the sum."
   ]
  },
  {
   "cell_type": "code",
   "execution_count": 2,
   "metadata": {},
   "outputs": [
    {
     "name": "stdout",
     "output_type": "stream",
     "text": [
      "84\n"
     ]
    }
   ],
   "source": [
    "# Sum up these numbers\n",
    "numbers = [10, 12, -3, 4, 9, 53, -1]\n",
    "\n",
    "# Add your code after this line\n",
    "\n",
    "# 1. Create a variable to store the sum\n",
    "total = 0\n",
    "# 2. For every number ...\n",
    "for number in numbers:\n",
    "  # ... add it to the total\n",
    "  total += number\n",
    "\n",
    "# 3. Print the total number\n",
    "print(total)"
   ]
  },
  {
   "cell_type": "markdown",
   "metadata": {},
   "source": [
    "## Range\n",
    "\n",
    "Use the range function to loop through all numbers in a range:\n",
    "\n",
    "```python\n",
    "for i in range(0, 10):\n",
    "  print(i)\n",
    "```\n",
    "\n",
    "This code prints 0, 1, 2, 3, 4, 5, 6, 7, 8, 9 (but not 10)!"
   ]
  },
  {
   "cell_type": "markdown",
   "metadata": {},
   "source": [
    "## Exercise 2: Even numbers\n",
    "\n",
    "Check all numbers from 10 to 30. \n",
    "\n",
    "Print all even numbers. Ignore all odd numbers."
   ]
  },
  {
   "cell_type": "code",
   "execution_count": 5,
   "metadata": {},
   "outputs": [
    {
     "name": "stdout",
     "output_type": "stream",
     "text": [
      "10\n",
      "12\n",
      "14\n",
      "16\n",
      "18\n",
      "20\n",
      "22\n",
      "24\n",
      "26\n",
      "28\n",
      "30\n"
     ]
    }
   ],
   "source": [
    "# Write your code after this line\n",
    "\n",
    "# 1. For all numbers between 10 and (including) 30\n",
    "for i in range(10, 31):\n",
    "  # 2. Check if the number is even\n",
    "  if i % 2 == 0:\n",
    "    # 3. If it is even, print it\n",
    "    print(i)"
   ]
  },
  {
   "cell_type": "markdown",
   "metadata": {},
   "source": [
    "## Combine for loops and dicts\n",
    "\n",
    "Using the .keys() function of dictionary, you can write code for all keys of a dictionary.\n",
    "\n",
    "For example, the following code prints all food types with a rating:\n",
    "```python\n",
    "# Foods and their ratings\n",
    "favorite_foods = {\n",
    "    \"pizza\": 4.5,\n",
    "    \"sushi\": 5,\n",
    "    \"burger\": 4,\n",
    "    \"taco\": 3.5,\n",
    "    \"pasta\": 4\n",
    "}\n",
    "\n",
    "# Print all foods\n",
    "for food in favorite_foods.keys():\n",
    "    print(food)\n",
    "```"
   ]
  },
  {
   "cell_type": "markdown",
   "metadata": {},
   "source": [
    "## Exercise 3: Player Ratings\n",
    "\n",
    "Print all player names with their rating.\n",
    "\n",
    "The key is the player name, the rating is the number."
   ]
  },
  {
   "cell_type": "code",
   "execution_count": 13,
   "metadata": {},
   "outputs": [
    {
     "name": "stdout",
     "output_type": "stream",
     "text": [
      "Player242: 400\n",
      "Player801: 200\n",
      "Player992: 750\n",
      "Player623: 630\n"
     ]
    }
   ],
   "source": [
    "ratings = {\n",
    "  \"Player242\": 400,\n",
    "  \"Player801\": 200,\n",
    "  \"Player992\": 750,\n",
    "  \"Player623\": 630,\n",
    "}\n",
    "\n",
    "# Write your code after this line\n",
    "# 1. For each ratings:\n",
    "for playername in ratings.keys():\n",
    "  # 2. Print the player name and their rating\n",
    "  print(playername + \": \" + str(ratings[playername]))\n"
   ]
  },
  {
   "cell_type": "markdown",
   "metadata": {},
   "source": [
    "## For loop over strings\n",
    "\n",
    "You can write code that runs for every character in a string like this:\n",
    "\n",
    "```python\n",
    "example = \"string\"\n",
    "for character in example:\n",
    "  # Print every character on a new line\n",
    "  print(character)\n",
    "```\n",
    "\n",
    "To the for loop, a string is like the list of its characters."
   ]
  },
  {
   "cell_type": "markdown",
   "metadata": {},
   "source": [
    "## Exercise 4: Double characters\n",
    "\n",
    "Read in a string from the user.\n",
    "Create a new empty string.\n",
    "For every character in the input string, write it twice into the new string:\n",
    "\n",
    "Input: Abcdefg\n",
    "Output: AAbbccddeeffgg"
   ]
  },
  {
   "cell_type": "code",
   "execution_count": 16,
   "metadata": {},
   "outputs": [
    {
     "name": "stdout",
     "output_type": "stream",
     "text": [
      "The new string: AAbbccddeeffgg\n"
     ]
    }
   ],
   "source": [
    "# Write your code after this line\n",
    "# 1. Ask user for input\n",
    "user_string = input(\"Enter a string: \")\n",
    "\n",
    "# 2. Initialize an empty string to store the modified output\n",
    "doubled_string = \"\"\n",
    "\n",
    "# 3. Repeat each character in the input string and store in doubled_string\n",
    "for char in user_string:\n",
    "    doubled_string += char * 2\n",
    "\n",
    "# 4. Display the modified string\n",
    "print(\"The new string: \"+doubled_string)"
   ]
  },
  {
   "cell_type": "markdown",
   "metadata": {},
   "source": [
    "## Controlling loops: break and continue\n",
    "\n",
    "Break stops the for loops immediately:\n",
    "\n",
    "```py\n",
    "# Stop immediately when you see zero\n",
    "numbers = [1, 2, 3, 0, 5]\n",
    "for number in numbers:\n",
    "  if number == 0:\n",
    "    break\n",
    "  # The number is not zero, so we can divide by it\n",
    "  print(1 / number)\n",
    "```\n",
    "\n",
    "Continue ignores the current element and goes to the next element right away.\n",
    "\n",
    "```py\n",
    "# Count the blank spaces in a string\n",
    "string = \"This String has blank spaces\"\n",
    "not_empty_chars = 0\n",
    "for character in string:\n",
    "  if character == ' ':\n",
    "    continue # This does not stop the loop, it just goes to the next element!\n",
    "  not_empty_chars += 1\n",
    "print(not_empty_chars + \" characters are not blank\")\n",
    "```"
   ]
  },
  {
   "cell_type": "markdown",
   "metadata": {},
   "source": [
    "## Exercise 5: Guessing game\n",
    "\n",
    "The player must guess a number between one and ten.\n",
    "\n",
    "1. Set the target number to a number between 1 and 10\n",
    "2. Give the player three attempts. For each attempt:\n",
    "3. Ask the player for their guess.\n",
    "4. If the guess is smaller than one or bigger than 10, tell the player to try again with a new number and ignore his old input.\n",
    "5. If the guess is the target number, tell the player they won and end the loop\n",
    "6. If the guess is not the target number, tell the player that they should try again"
   ]
  },
  {
   "cell_type": "code",
   "execution_count": 17,
   "metadata": {},
   "outputs": [
    {
     "name": "stdout",
     "output_type": "stream",
     "text": [
      "Wrong guess. Try again.\n",
      "Please enter a number between 1 and 10.\n",
      "Congratulations! You guessed the correct number!\n"
     ]
    }
   ],
   "source": [
    "# Write your code after this line\n",
    "# 1. Set the target number\n",
    "target_number = 7\n",
    "\n",
    "# 2. For each of the three attempts:\n",
    "for _ in range(3):\n",
    "    # 3. Ask for the input\n",
    "    guess = int(input(\"Guess a number between 1 and 10: \"))\n",
    "\n",
    "    # 4. Test if the input is in bounds.\n",
    "    if guess < 1 or guess > 10:\n",
    "        print(\"Please enter a number between 1 and 10.\")\n",
    "        continue # Ask for a new number if it is not in the range\n",
    "    \n",
    "    # 5. Test if the input is the right number\n",
    "    if guess == target_number:\n",
    "        print(\"Congratulations! You guessed the correct number!\")\n",
    "        break # Break the loop - no reason to ask the player again if they already won\n",
    "    # 6. Otherwise, tell the player to try again\n",
    "    else:\n",
    "        print(\"Wrong guess. Try again.\")\n"
   ]
  }
 ],
 "metadata": {
  "kernelspec": {
   "display_name": "Python 3",
   "language": "python",
   "name": "python3"
  },
  "language_info": {
   "codemirror_mode": {
    "name": "ipython",
    "version": 3
   },
   "file_extension": ".py",
   "mimetype": "text/x-python",
   "name": "python",
   "nbconvert_exporter": "python",
   "pygments_lexer": "ipython3",
   "version": "3.11.4"
  }
 },
 "nbformat": 4,
 "nbformat_minor": 2
}
