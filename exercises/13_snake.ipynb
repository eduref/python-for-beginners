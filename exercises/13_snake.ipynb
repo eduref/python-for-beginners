{
 "cells": [
  {
   "cell_type": "markdown",
   "metadata": {},
   "source": [
    "## Game: Snake\n",
    "Now, it is your time to show off, what you have learned so far, by implementing the popular game \"Snake\"."
   ]
  },
  {
   "cell_type": "markdown",
   "metadata": {},
   "source": [
    "#### Step 0 - Import Libraries"
   ]
  },
  {
   "cell_type": "code",
   "execution_count": 33,
   "metadata": {},
   "outputs": [],
   "source": [
    "import tkinter as tk\n",
    "import random"
   ]
  },
  {
   "cell_type": "markdown",
   "metadata": {},
   "source": [
    "#### Step 1 - Initialize Game Variables\n",
    "Define the basic variables for the game like the size of the snake, the game speed, and the initial position of the snake and food."
   ]
  },
  {
   "cell_type": "code",
   "execution_count": 34,
   "metadata": {},
   "outputs": [],
   "source": [
    "# Snake game settings\n",
    "snake_position = [[100, 100]]  # Initial position\n",
    "snake_food = [200, 200]  # Initial food position\n",
    "snake_speed = 100  # Time in ms between updates\n",
    "snake_direction = None  # Initial direction\n",
    "window_size = \"600x400\"  # Size of game window"
   ]
  },
  {
   "cell_type": "markdown",
   "metadata": {},
   "source": [
    "#### Step 2 - Create the Game Window\n",
    "Using tkinter, create a basic window with a canvas where the game will be drawn."
   ]
  },
  {
   "cell_type": "code",
   "execution_count": 35,
   "metadata": {},
   "outputs": [],
   "source": [
    "# Create the window\n",
    "window = tk.Tk()\n",
    "window.title(\"Snake Game\")\n",
    "\n",
    "# Create a canvas for drawing\n",
    "canvas = tk.Canvas(window, bg=\"white\", height=400, width=600)\n",
    "canvas.pack()"
   ]
  },
  {
   "cell_type": "markdown",
   "metadata": {},
   "source": [
    "#### Step 3 - Drawing Functions\n",
    "Define functions to draw the snake and the food on the canvas."
   ]
  },
  {
   "cell_type": "code",
   "execution_count": 36,
   "metadata": {},
   "outputs": [],
   "source": [
    "def draw_snake():\n",
    "    for segment in snake_position:\n",
    "        canvas.create_rectangle(segment[0], segment[1], segment[0]+20, segment[1]+20, fill=\"green\")\n",
    "\n",
    "def draw_food():\n",
    "    canvas.create_oval(snake_food[0], snake_food[1], snake_food[0]+20, snake_food[1]+20, fill=\"red\")\n"
   ]
  },
  {
   "cell_type": "markdown",
   "metadata": {},
   "source": [
    "#### Step 4 - Game Logic\n",
    "Implement the basic game logic, such as moving the snake and checking for collisions."
   ]
  },
  {
   "cell_type": "code",
   "execution_count": 37,
   "metadata": {},
   "outputs": [],
   "source": [
    "def move_snake():\n",
    "    global snake_food  # Declare snake_food as global at the beginning\n",
    "\n",
    "    if snake_direction is None:\n",
    "        return True  # Skip moving the snake if no direction is set\n",
    "\n",
    "    # Calculate new head position\n",
    "    head_x, head_y = snake_position[0]\n",
    "    if snake_direction == 'Left':\n",
    "        head_x -= 20\n",
    "    elif snake_direction == 'Right':\n",
    "        head_x += 20\n",
    "    elif snake_direction == 'Up':\n",
    "        head_y -= 20\n",
    "    elif snake_direction == 'Down':\n",
    "        head_y += 20\n",
    "\n",
    "    new_head = [head_x, head_y]\n",
    "\n",
    "    # Check for game over conditions\n",
    "    if new_head in snake_position or head_x < 0 or head_x >= 600 or head_y < 0 or head_y >= 400:\n",
    "        return False  # Game over\n",
    "\n",
    "    # Move snake\n",
    "    snake_position.insert(0, new_head)\n",
    "\n",
    "    # Check for food collision\n",
    "    if new_head == snake_food:\n",
    "        snake_food = [random.randint(0, 29)*20, random.randint(0, 19)*20]  # New food position\n",
    "    else:\n",
    "        snake_position.pop()  # Remove tail segment\n",
    "\n",
    "    return True  # Continue game\n"
   ]
  },
  {
   "cell_type": "markdown",
   "metadata": {},
   "source": [
    "#### Step 5 - Key Bindings\n",
    "Add functions to change the snake's direction based on keyboard input."
   ]
  },
  {
   "cell_type": "code",
   "execution_count": 38,
   "metadata": {},
   "outputs": [],
   "source": [
    "def change_direction(new_direction):\n",
    "    global snake_direction\n",
    "    if snake_direction is None or new_direction in ['Left', 'Right', 'Up', 'Down']:\n",
    "        snake_direction = new_direction\n",
    "\n",
    "window.bind(\"<Left>\", lambda event: change_direction('Left'))\n",
    "window.bind(\"<Right>\", lambda event: change_direction('Right'))\n",
    "window.bind(\"<Up>\", lambda event: change_direction('Up'))\n",
    "window.bind(\"<Down>\", lambda event: change_direction('Down'))\n",
    "window.focus_set()"
   ]
  },
  {
   "cell_type": "markdown",
   "metadata": {},
   "source": [
    "#### Step 6 - Game Loop\n",
    "Create the main game loop that updates the game state."
   ]
  },
  {
   "cell_type": "code",
   "execution_count": 39,
   "metadata": {},
   "outputs": [],
   "source": [
    "def game_loop():\n",
    "    if move_snake():\n",
    "        canvas.delete(\"all\")  # Clear canvas\n",
    "        draw_snake()\n",
    "        draw_food()\n",
    "        window.after(snake_speed, game_loop)  # Schedule next update\n",
    "    else:\n",
    "        print(\"Game Over\")\n",
    "\n",
    "game_loop()\n"
   ]
  },
  {
   "cell_type": "markdown",
   "metadata": {},
   "source": [
    "#### Step 7 - Start the Game"
   ]
  },
  {
   "cell_type": "code",
   "execution_count": 40,
   "metadata": {},
   "outputs": [
    {
     "name": "stdout",
     "output_type": "stream",
     "text": [
      "Game Over\n"
     ]
    }
   ],
   "source": [
    "window.mainloop()"
   ]
  }
 ],
 "metadata": {
  "kernelspec": {
   "display_name": "Python 3",
   "language": "python",
   "name": "python3"
  },
  "language_info": {
   "codemirror_mode": {
    "name": "ipython",
    "version": 3
   },
   "file_extension": ".py",
   "mimetype": "text/x-python",
   "name": "python",
   "nbconvert_exporter": "python",
   "pygments_lexer": "ipython3",
   "version": "3.11.0"
  }
 },
 "nbformat": 4,
 "nbformat_minor": 2
}
