{
 "cells": [
  {
   "cell_type": "markdown",
   "source": [
    "# Variables and Data Types\n"
   ],
   "metadata": {
    "collapsed": false
   }
  },
  {
   "cell_type": "markdown",
   "source": [
    "## Variables\n",
    "Variables help use to store information in our code and be able to reuse things.\n",
    "```py\n",
    "firstName = \"Gertrud\"\n",
    "lastName = \"Zimmermann\"\n",
    "print(firstName)\n",
    "print(lastName)\n",
    "```\n",
    "```pycon\n",
    "Gertrud\n",
    "Zimmermann\n",
    "```"
   ],
   "metadata": {
    "collapsed": false
   }
  },
  {
   "cell_type": "markdown",
   "source": [
    "## Exercise 1:\n",
    "Save your first name, last name and age as strings/numbers in variables called\n",
    "- ``first_name``\n",
    "- ``last_name``\n",
    "- ``age``\n",
    "\n",
    "and print each variable."
   ],
   "metadata": {
    "collapsed": false
   }
  },
  {
   "cell_type": "code",
   "execution_count": null,
   "outputs": [],
   "source": [
    "# write your code below this line:\n",
    "first_name = \"Hildegard\"\n",
    "last_name = \"Müller\"\n",
    "age = 65\n",
    "print(first_name)\n",
    "print(last_name)\n",
    "print(age)"
   ],
   "metadata": {
    "collapsed": false
   }
  },
  {
   "cell_type": "markdown",
   "source": [
    "## Printing multiple variables I\n",
    "We can print multiple variables in one print command by seperating variables with commas:\n",
    "```python\n",
    "print(firstName, lastName)\n",
    "```\n",
    "```pycon\n",
    "Gertrud Zimmermann\n",
    "```"
   ],
   "metadata": {
    "collapsed": false
   }
  },
  {
   "cell_type": "markdown",
   "source": [
    "## Exercise 2:\n",
    "Print your first and last name in one line using the variables `first_name` and `last_name` you assigned in `Exercise 1`."
   ],
   "metadata": {
    "collapsed": false
   }
  },
  {
   "cell_type": "code",
   "execution_count": null,
   "outputs": [],
   "source": [
    "# write your code below this line:\n",
    "print(first_name, last_name)"
   ],
   "metadata": {
    "collapsed": false
   }
  },
  {
   "cell_type": "markdown",
   "source": [
    "## Printing multiple variables II\n",
    "We can print Strings together with variables in one print command:\n",
    "\n",
    "```python\n",
    "print(\"I am\", firstName, lastName)\n",
    "```\n",
    "```pycon\n",
    "I am Gertrud Zimmermann\n",
    "```"
   ],
   "metadata": {
    "collapsed": false
   }
  },
  {
   "cell_type": "markdown",
   "metadata": {},
   "source": [
    "## Exercise 3:\n",
    "Introduce yourself by printing:\n",
    "\n",
    "``Hi! My name is <your name> and I am <your age> years old.``\n",
    "\n",
    "Use the variables you assigned in `Exercise 1`!\n"
   ]
  },
  {
   "cell_type": "code",
   "execution_count": 1,
   "metadata": {
    "vscode": {
     "languageId": "plaintext"
    },
    "ExecuteTime": {
     "end_time": "2023-11-27T16:44:04.807182Z",
     "start_time": "2023-11-27T16:44:04.663597Z"
    }
   },
   "outputs": [
    {
     "ename": "NameError",
     "evalue": "name 'first_name' is not defined",
     "output_type": "error",
     "traceback": [
      "\u001B[0;31m---------------------------------------------------------------------------\u001B[0m",
      "\u001B[0;31mNameError\u001B[0m                                 Traceback (most recent call last)",
      "Cell \u001B[0;32mIn[1], line 2\u001B[0m\n\u001B[1;32m      1\u001B[0m \u001B[38;5;66;03m# write your code below this line\u001B[39;00m\n\u001B[0;32m----> 2\u001B[0m \u001B[38;5;28mprint\u001B[39m(\u001B[38;5;124m\"\u001B[39m\u001B[38;5;124mHi! My name is\u001B[39m\u001B[38;5;124m\"\u001B[39m, \u001B[43mfirst_name\u001B[49m, last_name, \u001B[38;5;124m\"\u001B[39m\u001B[38;5;124mand I am\u001B[39m\u001B[38;5;124m\"\u001B[39m, age, \u001B[38;5;124m\"\u001B[39m\u001B[38;5;124myears old.\u001B[39m\u001B[38;5;124m\"\u001B[39m)\n\u001B[1;32m      3\u001B[0m \u001B[38;5;66;03m# or with string concatenation:\u001B[39;00m\n\u001B[1;32m      4\u001B[0m \u001B[38;5;28mprint\u001B[39m(\u001B[38;5;124m\"\u001B[39m\u001B[38;5;124mHi! My name is\u001B[39m\u001B[38;5;124m\"\u001B[39m, first_name \u001B[38;5;241m+\u001B[39m \u001B[38;5;124m'\u001B[39m\u001B[38;5;124m \u001B[39m\u001B[38;5;124m'\u001B[39m \u001B[38;5;241m+\u001B[39m last_name, \u001B[38;5;124m\"\u001B[39m\u001B[38;5;124mand I am\u001B[39m\u001B[38;5;124m\"\u001B[39m, age, \u001B[38;5;124m\"\u001B[39m\u001B[38;5;124myears old.\u001B[39m\u001B[38;5;124m\"\u001B[39m)\n",
      "\u001B[0;31mNameError\u001B[0m: name 'first_name' is not defined"
     ]
    }
   ],
   "source": [
    "# write your code below this line\n",
    "print(\"Hi! My name is\", first_name, last_name, \"and I am\", age, \"years old.\")\n",
    "# or with string concatenation:\n",
    "print(\"Hi! My name is\", first_name + ' ' + last_name, \"and I am\", age, \"years old.\")"
   ]
  },
  {
   "cell_type": "markdown",
   "source": [
    "## Data types\n",
    "There are 3 different data types in python:\n",
    "- Strings: represent text (`\"hi\"`)\n",
    "- Integers: represent whole numbers (`2010`)\n",
    "- Floats: represent floating point numbers (`99.99`)"
   ],
   "metadata": {
    "collapsed": false
   }
  },
  {
   "cell_type": "markdown",
   "metadata": {},
   "source": [
    "## Exercise 4:\n",
    "\n",
    "Match the following values to the right data types:\n",
    "#### Values\n",
    "```python\n",
    "\"hello world\"\n",
    "100.111\n",
    "100\n",
    "# now assign the rest of the values!\n",
    "101235.5\n",
    "46\n",
    "\"505\"\n",
    "0.0\n",
    "10\n",
    "\"c\"\n",
    "```"
   ]
  },
  {
   "cell_type": "code",
   "execution_count": null,
   "metadata": {},
   "outputs": [],
   "source": [
    "# assign the values from above to the right variables\n",
    "string_1 = \"hello world\"\n",
    "string_2 = ?\n",
    "string_3 = ?\n",
    "\n",
    "integer_1 = 100\n",
    "integer_2 = ?\n",
    "integer_3 = ?\n",
    "\n",
    "float_1 = 101235.5\n",
    "float_2 = ?\n",
    "float_3 = ?\n"
   ]
  },
  {
   "cell_type": "markdown",
   "source": [
    "## Data Types II\n",
    "An example of assigning values to variables:\n",
    "```python\n",
    "standard_müsli_price = 0.99 #price in euros as a float\n",
    "```"
   ],
   "metadata": {
    "collapsed": false
   }
  },
  {
   "cell_type": "markdown",
   "source": [
    "## Exercise 5:\n",
    "You are going shopping later tonight and want to purchase two different Müslis:\n",
    "- Kölln Müsli\n",
    "    - price: 1.99\n",
    "    - quantity: 1\n",
    "    - name: \"Koelln Müsli\"\n",
    "- Seitenbacher Müsli\n",
    "    - price: 5.49\n",
    "    - quantity: 2\n",
    "    - name: \"Seitenbacher Müsli\"\n",
    "\n",
    "Save the price, quantity and name of the two Müslis in variables with fitting names and add the corresponding data type as a comment behind it.\n"
   ],
   "metadata": {
    "collapsed": false
   }
  },
  {
   "cell_type": "code",
   "execution_count": null,
   "outputs": [],
   "source": [
    "# write your code below this line\n",
    "koelln_price = 1.99 #float\n",
    "koellny_quantity = 1 #integer\n",
    "koelln_name = \"Kölln Müsli\" #string\n",
    "\n",
    "seitenbacher_price = 5.49 #float\n",
    "seitenbacher_quantity = 2 #integer\n",
    "seitenbacher_name = \"Seitenbacher Müsli\" #string"
   ],
   "metadata": {
    "collapsed": false
   }
  },
  {
   "cell_type": "markdown",
   "source": [],
   "metadata": {
    "collapsed": false
   }
  },
  {
   "cell_type": "markdown",
   "source": [
    "## Bonus exercises"
   ],
   "metadata": {
    "collapsed": false
   }
  },
  {
   "cell_type": "markdown",
   "source": [
    "## Bonus exercise 1\n",
    "Save the names of 5 actors/actresses in variables and name them accordingly."
   ],
   "metadata": {
    "collapsed": false
   }
  },
  {
   "cell_type": "code",
   "execution_count": 2,
   "outputs": [],
   "source": [
    "# write your code below this line\n",
    "actor_1 = \"Brad Pitt\"\n",
    "actor_2 = \"Matthew Perry\"\n",
    "actor_3 = \"Emma Stone\"\n",
    "actor_4 = \"George Clooney\"\n",
    "actor_5 = \"Jennifer Aniston\""
   ],
   "metadata": {
    "collapsed": false,
    "ExecuteTime": {
     "end_time": "2023-11-27T17:15:50.130986Z",
     "start_time": "2023-11-27T17:15:50.122247Z"
    }
   }
  },
  {
   "cell_type": "markdown",
   "source": [
    "## Bonus exercise 2\n",
    "Print out the sentence `This is the EduRef Python Basics course!` in one line using all the predefined variables."
   ],
   "metadata": {
    "collapsed": false
   }
  },
  {
   "cell_type": "code",
   "execution_count": 7,
   "outputs": [
    {
     "name": "stdout",
     "output_type": "stream",
     "text": [
      "This is the EduRef Python Basics course!\n"
     ]
    }
   ],
   "source": [
    "# do not change this part of the code\n",
    "var_1 = \"This\"\n",
    "var_2 = \"!\"\n",
    "var_3 = \"course\"\n",
    "var_4 = \" \"\n",
    "var_5 = \"EduRef Python Basics\"\n",
    "var_6 = \"is the\"\n",
    "\n",
    "# write your code below this line\n",
    "print(var_1,var_6,var_5 + var_4 + var_3 + var_2)"
   ],
   "metadata": {
    "collapsed": false,
    "ExecuteTime": {
     "end_time": "2023-11-27T17:24:07.687514Z",
     "start_time": "2023-11-27T17:24:07.683750Z"
    }
   }
  },
  {
   "cell_type": "markdown",
   "source": [
    "## Bonus exercise 3\n",
    "You are given information on different cars, which you are supposed to represent in python:\n",
    "\n",
    "| Name    | Price      | Power (HP) | # of Seats | Color  |\n",
    "|---------|------------|------------|------------|--------|\n",
    "| Audi    | 50000€     | 300        | 5          | black  |\n",
    "| Ferrari | 119999,99€ | 600        | 2          | red    |\n",
    "| Smart   | 20000€     | 80         | 2          | silver |\n",
    "\n",
    "Now save this data in correct variables with fitting names.\n",
    "The following data types should be used for each category:\n",
    "- Name: string\n",
    "- Price: float\n",
    "- Power: integer\n",
    "- \\# of Seats: integer\n",
    "- Color: string\n",
    "\n",
    "Then print all of the information."
   ],
   "metadata": {
    "collapsed": false
   }
  },
  {
   "cell_type": "code",
   "execution_count": 12,
   "outputs": [
    {
     "name": "stdout",
     "output_type": "stream",
     "text": [
      "Name: Audi  | Price: 50000.0  | Power: 300  | Seats:  5  | Color: black\n",
      "Name: Ferrari  | Price: 119999.99  | Power: 600  | Seats:  2  | Color: red\n",
      "Name: Smart  | Price: 20000.0  | Power: 80  | Seats:  2  | Color: silver\n"
     ]
    }
   ],
   "source": [
    "# write your code below this line:\n",
    "name_audi = \"Audi\"\n",
    "price_audi = 50000.00\n",
    "power_audi = 300\n",
    "no_seats_audi = 5\n",
    "color_audi = \"black\"\n",
    "\n",
    "name_ferrari = \"Ferrari\"\n",
    "price_ferrari = 119999.99\n",
    "power_ferrari = 600\n",
    "no_seats_ferrari = 2\n",
    "color_ferrari = \"red\"\n",
    "\n",
    "name_smart = \"Smart\"\n",
    "price_smart = 20000.00\n",
    "power_smart = 80\n",
    "no_seats_smart = 2\n",
    "color_smart = \"silver\"\n",
    "\n",
    "print(\"Name:\", name_audi,\" | \" + \"Price:\", price_audi, \" | \" + \"Power:\", power_audi,\" | \" + \"Seats: \", no_seats_audi, \" | \" + \"Color:\", color_audi)\n",
    "print(\"Name:\", name_ferrari,\" | \" + \"Price:\", price_ferrari, \" | \" + \"Power:\", power_ferrari,\" | \" + \"Seats: \", no_seats_ferrari, \" | \" + \"Color:\", color_ferrari)\n",
    "print(\"Name:\", name_smart,\" | \" + \"Price:\", price_smart, \" | \" + \"Power:\", power_smart,\" | \" + \"Seats: \", no_seats_smart, \" | \" + \"Color:\", color_smart)"
   ],
   "metadata": {
    "collapsed": false,
    "ExecuteTime": {
     "end_time": "2023-11-27T17:40:44.997386Z",
     "start_time": "2023-11-27T17:40:44.984913Z"
    }
   }
  },
  {
   "cell_type": "code",
   "execution_count": null,
   "outputs": [],
   "source": [],
   "metadata": {
    "collapsed": false
   }
  }
 ],
 "metadata": {
  "kernelspec": {
   "display_name": "Python 3",
   "language": "python",
   "name": "python3"
  },
  "language_info": {
   "codemirror_mode": {
    "name": "ipython",
    "version": 3
   },
   "file_extension": ".py",
   "mimetype": "text/x-python",
   "name": "python",
   "nbconvert_exporter": "python",
   "pygments_lexer": "ipython3",
   "version": "3.8.5"
  }
 },
 "nbformat": 4,
 "nbformat_minor": 2
}
