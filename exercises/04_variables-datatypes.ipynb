{
 "cells": [
  {
   "cell_type": "markdown",
   "metadata": {
    "collapsed": false
   },
   "source": [
    "# Variables and Data Types\n"
   ]
  },
  {
   "cell_type": "markdown",
   "metadata": {
    "collapsed": false
   },
   "source": [
    "## Variables\n",
    "Variables help us to store information in our code and be able to reuse things.\n",
    "```py\n",
    "firstName = \"Gertrud\"\n",
    "lastName = \"Zimmermann\"\n",
    "print(firstName)\n",
    "print(lastName)\n",
    "```\n",
    "```pycon\n",
    "Gertrud\n",
    "Zimmermann\n",
    "```"
   ]
  },
  {
   "cell_type": "markdown",
   "metadata": {
    "collapsed": false
   },
   "source": [
    "## Exercise 1:\n",
    "Save your first name, last name and age as text/numbers in variables called\n",
    "- ``first_name``\n",
    "- ``last_name``\n",
    "- ``age``\n",
    "\n",
    "and print each variable."
   ]
  },
  {
   "cell_type": "code",
   "execution_count": null,
   "metadata": {
    "collapsed": false
   },
   "outputs": [],
   "source": [
    "# write your code below this line:\n",
    "first_name = \"Hildegard\"\n",
    "last_name = \"Müller\"\n",
    "age = 65\n",
    "print(first_name)\n",
    "print(last_name)\n",
    "print(age)"
   ]
  },
  {
   "cell_type": "markdown",
   "metadata": {
    "collapsed": false
   },
   "source": [
    "## Printing multiple variables I\n",
    "We can print multiple variables in one print command by seperating variables with commas:\n",
    "```python\n",
    "print(firstName, lastName)\n",
    "```\n",
    "```pycon\n",
    "Gertrud Zimmermann\n",
    "```"
   ]
  },
  {
   "cell_type": "markdown",
   "metadata": {
    "collapsed": false
   },
   "source": [
    "## Exercise 2:\n",
    "Print your first and last name in one line using the variables `first_name` and `last_name` you assigned in `Exercise 1`."
   ]
  },
  {
   "cell_type": "code",
   "execution_count": null,
   "metadata": {
    "collapsed": false
   },
   "outputs": [],
   "source": [
    "# write your code below this line:\n",
    "print(first_name, last_name)"
   ]
  },
  {
   "cell_type": "markdown",
   "metadata": {
    "collapsed": false
   },
   "source": [
    "## Printing multiple variables II\n",
    "We can print Strings together with variables in one print command:\n",
    "\n",
    "```python\n",
    "print(\"I am\", firstName, lastName)\n",
    "```\n",
    "```pycon\n",
    "I am Gertrud Zimmermann\n",
    "```"
   ]
  },
  {
   "cell_type": "markdown",
   "metadata": {},
   "source": [
    "## Exercise 3:\n",
    "Introduce yourself by printing:\n",
    "\n",
    "``Hi! My name is <your name> and I am <your age> years old.``\n",
    "\n",
    "Use the variables you assigned in `Exercise 1`!\n"
   ]
  },
  {
   "cell_type": "code",
   "execution_count": null,
   "metadata": {},
   "outputs": [],
   "source": [
    "# write your code below this line\n",
    "print(\"Hi! My name is\", first_name, last_name, \"and I am\", age, \"years old.\")\n",
    "# or with string concatenation:\n",
    "print(\"Hi! My name is\", first_name + ' ' + last_name, \"and I am\", age, \"years old.\")"
   ]
  },
  {
   "cell_type": "markdown",
   "metadata": {
    "collapsed": false
   },
   "source": [
    "## Data types\n",
    "We first learn about 3 different data types in python:\n",
    "- Strings: represent text (`\"hi\"`)\n",
    "- Integers: represent whole numbers (`2010`)\n",
    "- Floats: represent floating point numbers (`99.99`)"
   ]
  },
  {
   "cell_type": "markdown",
   "metadata": {},
   "source": [
    "## Exercise 4:\n",
    "\n",
    "Match the following values to the right data types:\n",
    "#### Values\n",
    "```python\n",
    "\"hello world\"\n",
    "100.111\n",
    "100\n",
    "# now assign the rest of the values!\n",
    "101235.5\n",
    "46\n",
    "\"505\"\n",
    "0.0\n",
    "10\n",
    "\"c\"\n",
    "```"
   ]
  },
  {
   "cell_type": "code",
   "execution_count": null,
   "metadata": {},
   "outputs": [],
   "source": [
    "# assign the values from above to the right variables\n",
    "\n",
    "string_1 = \"hello world\"\n",
    "string_2 = ?\n",
    "string_3 = ?\n",
    "\n",
    "integer_1 = 100\n",
    "integer_2 = ?\n",
    "integer_3 = ?\n",
    "\n",
    "float_1 = 101235.5\n",
    "float_2 = ?\n",
    "float_3 = ?\n",
    "\n",
    "\n",
    "# write your code below this line\n",
    "string_1 = \"hello world\"\n",
    "string_2 = \"c\"\n",
    "string_3 = \"505\"\n",
    "\n",
    "integer_1 = 100\n",
    "integer_2 = 10\n",
    "integer_3 = 46\n",
    "\n",
    "float_1 = 101235.5\n",
    "float_2 = 100.111\n",
    "float_3 = 0.0"
   ]
  },
  {
   "cell_type": "markdown",
   "metadata": {
    "collapsed": false
   },
   "source": [
    "## Data Types II\n",
    "An example of assigning values to variables:\n",
    "```python\n",
    "standard_müsli_price = 0.99 #price in euros as a float\n",
    "```"
   ]
  },
  {
   "cell_type": "markdown",
   "metadata": {
    "collapsed": false
   },
   "source": [
    "## Exercise 5:\n",
    "You are going shopping later tonight and want to purchase two different Müslis:\n",
    "- Kölln Müsli\n",
    "    - price: 1.99\n",
    "    - quantity: 1\n",
    "    - name: \"Koelln Muesli\"\n",
    "- Seitenbacher Müsli\n",
    "    - price: 5.49\n",
    "    - quantity: 2\n",
    "    - name: \"Seitenbacher Muesli\"\n",
    "\n",
    "Save the price, quantity and name of the two Müslis in variables with fitting names and add the corresponding data type as a comment behind it.\n"
   ]
  },
  {
   "cell_type": "code",
   "execution_count": null,
   "metadata": {
    "collapsed": false
   },
   "outputs": [],
   "source": [
    "# write your code below this line\n",
    "koelln_price = 1.99 #float\n",
    "koellny_quantity = 1 #integer\n",
    "koelln_name = \"Kölln Müsli\" #string\n",
    "\n",
    "seitenbacher_price = 5.49 #float\n",
    "seitenbacher_quantity = 2 #integer\n",
    "seitenbacher_name = \"Seitenbacher Müsli\" #string"
   ]
  },
  {
   "cell_type": "markdown",
   "metadata": {
    "collapsed": false
   },
   "source": []
  },
  {
   "cell_type": "markdown",
   "metadata": {
    "collapsed": false
   },
   "source": [
    "## Bonus exercises"
   ]
  },
  {
   "cell_type": "markdown",
   "metadata": {
    "collapsed": false
   },
   "source": [
    "## Bonus exercise 1\n",
    "Save the names of 5 actors/actresses in variables and name them accordingly."
   ]
  },
  {
   "cell_type": "code",
   "execution_count": null,
   "metadata": {
    "collapsed": false
   },
   "outputs": [],
   "source": [
    "# write your code below this line\n",
    "actor_1 = \"Brad Pitt\"\n",
    "actor_2 = \"Matthew Perry\"\n",
    "actor_3 = \"Emma Stone\"\n",
    "actor_4 = \"George Clooney\"\n",
    "actor_5 = \"Jennifer Aniston\""
   ]
  },
  {
   "cell_type": "markdown",
   "metadata": {
    "collapsed": false
   },
   "source": [
    "## Bonus exercise 2\n",
    "Print out the sentence `This is the EduRef Python Basics course!` in one line using all the predefined variables."
   ]
  },
  {
   "cell_type": "code",
   "execution_count": null,
   "metadata": {
    "collapsed": false
   },
   "outputs": [],
   "source": [
    "# do not change this part of the code\n",
    "var_1 = \"This\"\n",
    "var_2 = \"!\"\n",
    "var_3 = \"course\"\n",
    "var_4 = \" \"\n",
    "var_5 = \"EduRef Python Basics\"\n",
    "var_6 = \"is the\"\n",
    "\n",
    "# write your code below this line\n",
    "print(var_1,var_6,var_5 + var_4 + var_3 + var_2)"
   ]
  },
  {
   "cell_type": "markdown",
   "metadata": {
    "collapsed": false
   },
   "source": [
    "## Bonus exercise 3\n",
    "You are given information on different cars, which you are supposed to represent in python:\n",
    "\n",
    "| Name    | Price      | Power (HP) | # of Seats | Color  |\n",
    "|---------|------------|------------|------------|--------|\n",
    "| Audi    | 50000€     | 300        | 5          | black  |\n",
    "| Ferrari | 119999,99€ | 600        | 2          | red    |\n",
    "| Smart   | 20000€     | 80         | 2          | silver |\n",
    "\n",
    "Now save this data in correct variables with fitting names.\n",
    "The following data types should be used for each category:\n",
    "- Name: string\n",
    "- Price: float\n",
    "- Power: integer\n",
    "- \\# of Seats: integer\n",
    "- Color: string\n",
    "\n",
    "Then print all of the information."
   ]
  },
  {
   "cell_type": "code",
   "execution_count": null,
   "metadata": {
    "collapsed": false
   },
   "outputs": [],
   "source": [
    "# write your code below this line:\n",
    "name_audi = \"Audi\"\n",
    "price_audi = 50000.00\n",
    "power_audi = 300\n",
    "no_seats_audi = 5\n",
    "color_audi = \"black\"\n",
    "\n",
    "name_ferrari = \"Ferrari\"\n",
    "price_ferrari = 119999.99\n",
    "power_ferrari = 600\n",
    "no_seats_ferrari = 2\n",
    "color_ferrari = \"red\"\n",
    "\n",
    "name_smart = \"Smart\"\n",
    "price_smart = 20000.00\n",
    "power_smart = 80\n",
    "no_seats_smart = 2\n",
    "color_smart = \"silver\"\n",
    "\n",
    "print(\"Name:\", name_audi,\" | \" + \"Price:\", price_audi, \" | \" + \"Power:\", power_audi,\" | \" + \"Seats: \", no_seats_audi, \" | \" + \"Color:\", color_audi)\n",
    "print(\"Name:\", name_ferrari,\" | \" + \"Price:\", price_ferrari, \" | \" + \"Power:\", power_ferrari,\" | \" + \"Seats: \", no_seats_ferrari, \" | \" + \"Color:\", color_ferrari)\n",
    "print(\"Name:\", name_smart,\" | \" + \"Price:\", price_smart, \" | \" + \"Power:\", power_smart,\" | \" + \"Seats: \", no_seats_smart, \" | \" + \"Color:\", color_smart)"
   ]
  },
  {
   "cell_type": "markdown",
   "metadata": {},
   "source": [
    "## Feedback\n",
    "Please scan the QR code below to give us your feedback on **chapter 04: variables-datatypes**  \n",
    "![QR Code feedback](../pictures/feedbackQR.png)"
   ]
  }
 ],
 "metadata": {
  "kernelspec": {
   "display_name": "Python 3",
   "language": "python",
   "name": "python3"
  },
  "language_info": {
   "codemirror_mode": {
    "name": "ipython",
    "version": 3
   },
   "file_extension": ".py",
   "mimetype": "text/x-python",
   "name": "python",
   "nbconvert_exporter": "python",
   "pygments_lexer": "ipython3",
   "version": "3.10.8"
  }
 },
 "nbformat": 4,
 "nbformat_minor": 2
}
