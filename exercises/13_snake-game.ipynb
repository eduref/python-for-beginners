{
 "cells": [
  {
   "cell_type": "markdown",
   "metadata": {},
   "source": [
    "# Game: Snake\n",
    "Now, it is your time to show off, what you have learned so far, by implementing the popular game \"Snake\"."
   ]
  },
  {
   "cell_type": "markdown",
   "metadata": {},
   "source": [
    "## Step 0 - Import Libraries"
   ]
  },
  {
   "cell_type": "code",
   "execution_count": null,
   "metadata": {},
   "outputs": [],
   "source": [
    "# Do NOT edit this code snippet\n",
    "import tkinter as tk\n",
    "import random"
   ]
  },
  {
   "cell_type": "markdown",
   "metadata": {},
   "source": [
    "## Step 1 - Initialize Game Variables\n",
    "Define the basic variables "
   ]
  },
  {
   "cell_type": "code",
   "execution_count": null,
   "metadata": {},
   "outputs": [],
   "source": [
    "# Do NOT edit this code snippet\n",
    "snake_position = [[100, 100]]  # Initial player position\n",
    "snake_food = [200, 200]  # Initial food position\n",
    "window_size = \"600x400\"  # Size of game window\n",
    "snake_speed = 100  # Move speed of the snake\n",
    "snake_direction = None  # Initial direction"
   ]
  },
  {
   "cell_type": "markdown",
   "metadata": {},
   "source": [
    "## Step 2 - Create the Game Window\n",
    "Using tkinter, create a basic window with a canvas where the game will be drawn."
   ]
  },
  {
   "cell_type": "code",
   "execution_count": null,
   "metadata": {},
   "outputs": [],
   "source": [
    "# Do NOT edit this code snippet\n",
    "# Create the window\n",
    "window = tk.Tk()\n",
    "window.title(\"Snake Game\")\n",
    "\n",
    "# Create a canvas for drawing\n",
    "canvas = tk.Canvas(window, bg=\"white\", height=400, width=600)\n",
    "canvas.pack()"
   ]
  },
  {
   "cell_type": "markdown",
   "metadata": {},
   "source": [
    "## Step 3 - Drawing Functions\n",
    "Define functions to draw the snake and the food on the canvas."
   ]
  },
  {
   "cell_type": "code",
   "execution_count": null,
   "metadata": {},
   "outputs": [],
   "source": [
    "# Do NOT edit this code snippet\n",
    "def draw_snake():\n",
    "    for segment in snake_position:\n",
    "        canvas.create_rectangle(segment[0], segment[1], segment[0]+20, segment[1]+20, fill=\"green\")\n",
    "\n",
    "def draw_food():\n",
    "    canvas.create_oval(snake_food[0], snake_food[1], snake_food[0]+20, snake_food[1]+20, fill=\"red\")\n"
   ]
  },
  {
   "cell_type": "markdown",
   "metadata": {},
   "source": [
    "## Step 4 - Game Logic\n",
    "Implement the basic game logic, such as moving the snake and checking for collisions.\n",
    "\n",
    "1. Define a method `move_snake` and add a global variable `snake_food` inside the method body\n",
    "2. If no direction is set (``snake_direction is None``), the snake shouldn't move. In this case, simply return True to indicate that the game should continue without moving the snake.\n",
    "3. The snake moves by adding a new segment (head) in the direction it's moving.\n",
    "    - First, get the current position of the snake's head (``snake_position[0]``).\n",
    "    - Depending on the snake's current direction (``snake_direction``), calculate the position of the new head.\n",
    "    - **Example:** If the direction is 'Left', the new head's x-coordinate should be 20 pixels less than the current head's x-coordinate.\n",
    "4. After calculating the new head position, check if this position causes the game to be over. Game over can occur in two scenarios: \n",
    "    - If the new head position is outside the game boundaries (e.g., x-coordinate is less than 0 or greater than or equal to 600, or y-coordinate is less than 0 or greater than or equal to 400)\n",
    "    - Or if the new head position collides with any part of the snake's body (if the new head is in ``snake_position``).\n",
    "    - Return False if any of these conditions are met.\n",
    "5. Add the new head position to the beginning of the snake's body (snake_position).\n",
    "    - This is done by inserting the new head coordinates at the start of the ``snake_position`` list.\n",
    "6. After moving the snake, check if the new head's position is the same as the food's position (snake_food).\n",
    "    - If the snake has eaten the food (positions match), generate a new food position randomly on the canvas. Use ``random.randint`` to ensure the food appears within the game boundaries.\n",
    "    - If the snake has not eaten the food, remove the last segment (tail) of the snake. This gives the effect of the snake moving forward.\n",
    "7. Finally, return True to indicate that the game should continue in the next frame."
   ]
  },
  {
   "cell_type": "code",
   "execution_count": null,
   "metadata": {},
   "outputs": [],
   "source": [
    "# Write your code after this line\n",
    "\n",
    "\n",
    "\n",
    "# Solution to step 4\n",
    "def move_snake():\n",
    "    # Task 1: Define method and add a global variable\n",
    "    global snake_food  \n",
    "\n",
    "    # Task 2: Skip moving the snake if no direction is set\n",
    "    if snake_direction is None:\n",
    "        return True\n",
    "    \n",
    "    # Task 3: Calculate new head position\n",
    "    head_x, head_y = snake_position[0]\n",
    "    if snake_direction == 'Left':\n",
    "        head_x -= 20\n",
    "    elif snake_direction == 'Right':\n",
    "        head_x += 20\n",
    "    elif snake_direction == 'Up':\n",
    "        head_y -= 20\n",
    "    elif snake_direction == 'Down':\n",
    "        head_y += 20\n",
    "\n",
    "    new_head = [head_x, head_y]\n",
    "\n",
    "    # Task 4: Check for game over conditions\n",
    "    if new_head in snake_position or head_x < 0 or head_x >= 600 or head_y < 0 or head_y >= 400:\n",
    "        return False  # Game over\n",
    "\n",
    "    # Task 5: Move snake\n",
    "    snake_position.insert(0, new_head)\n",
    "\n",
    "    # Task 6: Check for food collision\n",
    "    if new_head == snake_food:\n",
    "        snake_food = [random.randint(0, 29)*20, random.randint(0, 19)*20]  # New food position\n",
    "    else:\n",
    "        snake_position.pop()  # Remove tail segment\n",
    "\n",
    "    # Task 7: Continue game\n",
    "    return True \n"
   ]
  },
  {
   "cell_type": "markdown",
   "metadata": {},
   "source": [
    "## Step 5 - Key Bindings\n",
    "Add functions to change the snake's direction based on keyboard input.\n",
    "1. Define a method called ``change_direction``, which takes one parameter, ``new_direction``. Inside the method, declare ``snake_direction`` as a global variable.\n",
    "2. Write an if-statement to check and update the snake's direction.\n",
    "    - The condition of the if-statement should allow the direction to be changed if either no direction is currently set (snake_direction is None) or the ``new_direction`` is one of the valid directions ('Left', 'Right', 'Up', 'Down').\n",
    "    - If the condition is met, update snake_direction with the value of new_direction"
   ]
  },
  {
   "cell_type": "code",
   "execution_count": null,
   "metadata": {},
   "outputs": [],
   "source": [
    "# Do NOT edit this code\n",
    "window.bind(\"<Left>\", lambda event: change_direction('Left'))\n",
    "window.bind(\"<Right>\", lambda event: change_direction('Right'))\n",
    "window.bind(\"<Up>\", lambda event: change_direction('Up'))\n",
    "window.bind(\"<Down>\", lambda event: change_direction('Down'))\n",
    "window.focus_set()\n",
    "\n",
    "# Write your code after this line\n",
    "\n",
    "\n",
    "\n",
    "# Solutio to step 5\n",
    "def change_direction(new_direction):\n",
    "    # Task 1: Define method with parameter, and add global variable\n",
    "    global snake_direction\n",
    "\n",
    "    # Task 2: Checks the snake's direction\n",
    "    if snake_direction is None or new_direction in ['Left', 'Right', 'Up', 'Down']:\n",
    "        snake_direction = new_direction"
   ]
  },
  {
   "cell_type": "markdown",
   "metadata": {},
   "source": [
    "## Step 6 - Game Loop\n",
    "Create the main game loop that updates the game state."
   ]
  },
  {
   "cell_type": "code",
   "execution_count": null,
   "metadata": {},
   "outputs": [],
   "source": [
    "# Do NOT edit this code snippet\n",
    "def game_loop():\n",
    "    if move_snake():\n",
    "        canvas.delete(\"all\")  # Clear canvas\n",
    "        draw_snake()\n",
    "        draw_food()\n",
    "        window.after(snake_speed, game_loop)  # Schedule next update\n",
    "    else:\n",
    "        print(\"Game Over\")\n",
    "\n",
    "game_loop()\n"
   ]
  },
  {
   "cell_type": "markdown",
   "metadata": {},
   "source": [
    "## Step 7 - Start the Game"
   ]
  },
  {
   "cell_type": "code",
   "execution_count": null,
   "metadata": {},
   "outputs": [
    {
     "name": "stdout",
     "output_type": "stream",
     "text": [
      "Game Over\n"
     ]
    }
   ],
   "source": [
    "# Do NOT edit this code snippet\n",
    "window.mainloop()"
   ]
  },
  {
   "cell_type": "markdown",
   "metadata": {},
   "source": [
    "## Feedback\n",
    "Please scan the QR code below to give us your feedback on **Chapter 13: Snake Game**\n",
    "\n",
    "![QR Code feedback](../pictures/feedbackQR.png)"
   ]
  }
 ],
 "metadata": {
  "kernelspec": {
   "display_name": "Python 3",
   "language": "python",
   "name": "python3"
  },
  "language_info": {
   "codemirror_mode": {
    "name": "ipython",
    "version": 3
   },
   "file_extension": ".py",
   "mimetype": "text/x-python",
   "name": "python",
   "nbconvert_exporter": "python",
   "pygments_lexer": "ipython3",
   "version": "3.11.0"
  }
 },
 "nbformat": 4,
 "nbformat_minor": 2
}
