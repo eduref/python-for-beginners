{
 "cells": [
  {
   "cell_type": "markdown",
   "metadata": {},
   "source": [
    "# The input function\n",
    "\n",
    "The input function allows you to prompt the user for a value, and then returns a string containing the user's input. For example, the following program asks the user for their name, then prints it:"
   ]
  },
  {
   "cell_type": "code",
   "execution_count": 21,
   "metadata": {
    "ExecuteTime": {
     "end_time": "2024-01-20T12:40:46.846547Z",
     "start_time": "2024-01-20T12:40:44.710032Z"
    }
   },
   "outputs": [
    {
     "name": "stdout",
     "output_type": "stream",
     "text": [
      "Hello g!\n"
     ]
    }
   ],
   "source": [
    "user_input = input(\"Enter your name: \")\n",
    "\n",
    "print(\"Hello \" + user_input + \"!\")"
   ]
  },
  {
   "cell_type": "markdown",
   "metadata": {},
   "source": [
    "## Task 1: The input function\n",
    "\n",
    "Ask the user for any input, then print it out without changing anything."
   ]
  },
  {
   "cell_type": "code",
   "execution_count": 22,
   "metadata": {
    "ExecuteTime": {
     "end_time": "2024-01-20T12:40:47.915762Z",
     "start_time": "2024-01-20T12:40:46.831859Z"
    }
   },
   "outputs": [
    {
     "name": "stdout",
     "output_type": "stream",
     "text": [
      "g\n"
     ]
    }
   ],
   "source": [
    "# write your code below this line:\n",
    "\n",
    "print(input(\"type anything:\"))"
   ]
  },
  {
   "cell_type": "markdown",
   "metadata": {},
   "source": [
    "## Task 2: Multiple Inputs\n",
    "\n",
    "Read in the name and age of the user, then print them out in a sentence. Make sure the user can only put numbers for the age."
   ]
  },
  {
   "cell_type": "code",
   "execution_count": 23,
   "metadata": {
    "ExecuteTime": {
     "end_time": "2024-01-20T12:40:51.080735Z",
     "start_time": "2024-01-20T12:40:47.898852Z"
    }
   },
   "outputs": [
    {
     "name": "stdout",
     "output_type": "stream",
     "text": [
      "Hello g! You are 0 years old.\n"
     ]
    }
   ],
   "source": [
    "# write your code below this line\n",
    "\n",
    "name = input(\"Enter your name: \")\n",
    "age = int(input(\"Enter your age: \"))\n",
    "\n",
    "print(\"Hello \" + name + \"! You are \" + str(age) + \" years old.\")\n"
   ]
  },
  {
   "cell_type": "markdown",
   "source": [
    "## Bonus Exercise 1: Guess the number game I\n",
    "You want two people to play a game of guess the number:\n",
    "- ask user 1 for a number.\n",
    "- ask user 2 for a number.\n",
    "- then print both of their numbers so they can see if user 2 guessed user 1's number"
   ],
   "metadata": {
    "collapsed": false
   }
  },
  {
   "cell_type": "code",
   "execution_count": 24,
   "outputs": [
    {
     "name": "stdout",
     "output_type": "stream",
     "text": [
      "User one's number: 9, user two's number: 8\n"
     ]
    }
   ],
   "source": [
    "# write your code below this line\n",
    "\n",
    "number1 = input(\"Enter the first number:\")\n",
    "number2 = input(\"Enter the second number:\")\n",
    "print(\"User one's number:\", str(number1) + \", user two's number:\", number2)"
   ],
   "metadata": {
    "collapsed": false,
    "ExecuteTime": {
     "end_time": "2024-01-20T12:40:54.984518Z",
     "start_time": "2024-01-20T12:40:51.078943Z"
    }
   }
  },
  {
   "cell_type": "markdown",
   "source": [
    "## Bonus Exercise 2: Guess the number game II\n",
    "Now you want to play the same game against the computer:\n",
    "The computer can generate a random number in a certain range between 0 and <i>n-1</i> (=> [0,n) ) by calling the function `random.randrange(n)`. Save this number in a variable like you did with the numbers in the first game.\n",
    "Do the same as in Bonus Exercise 1, but now play against the computer!"
   ],
   "metadata": {
    "collapsed": false
   }
  },
  {
   "cell_type": "code",
   "execution_count": 25,
   "outputs": [
    {
     "name": "stdout",
     "output_type": "stream",
     "text": [
      "The computer's number was 73. \n",
      "Your number was 77\n"
     ]
    }
   ],
   "source": [
    "import random\n",
    "# write your code after this line\n",
    "\n",
    "n = 100\n",
    "number_computer = random.randrange(n+1)\n",
    "my_number = input(\"The computer has chosen its number.\\n Please pick your number: \")\n",
    "print(\"The computer's number was\", str(number_computer) + \". \\nYour number was\", my_number)"
   ],
   "metadata": {
    "collapsed": false,
    "ExecuteTime": {
     "end_time": "2024-01-20T12:40:56.587451Z",
     "start_time": "2024-01-20T12:40:54.979495Z"
    }
   }
  },
  {
   "cell_type": "markdown",
   "source": [
    "## Feedback\n",
    "Please scan the QR code below to give us your feedback on **chapter 05: input function**\n",
    "![QR Code feedback](../pictures/feedbackQR.png)"
   ],
   "metadata": {
    "collapsed": false
   }
  }
 ],
 "metadata": {
  "kernelspec": {
   "display_name": "base",
   "language": "python",
   "name": "python3"
  },
  "language_info": {
   "codemirror_mode": {
    "name": "ipython",
    "version": 3
   },
   "file_extension": ".py",
   "mimetype": "text/x-python",
   "name": "python",
   "nbconvert_exporter": "python",
   "pygments_lexer": "ipython3",
   "version": "3.10.8"
  }
 },
 "nbformat": 4,
 "nbformat_minor": 2
}
