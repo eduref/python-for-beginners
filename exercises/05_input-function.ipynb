{
 "cells": [
  {
   "cell_type": "markdown",
   "metadata": {},
   "source": [
    "# The input function\n",
    "\n",
    "The input function allows you to prompt the user for a value, and then returns a string containing the user's input. For example, the following program asks the user for their name, then prints it:"
   ]
  },
  {
   "cell_type": "code",
   "execution_count": 2,
   "metadata": {},
   "outputs": [
    {
     "name": "stdout",
     "output_type": "stream",
     "text": [
      "Hello Name!\n"
     ]
    }
   ],
   "source": [
    "user_input = input(\"Enter your name: \")\n",
    "\n",
    "print(\"Hello \" + user_input + \"!\")"
   ]
  },
  {
   "cell_type": "markdown",
   "metadata": {},
   "source": [
    "### Task 1: The input function\n",
    "\n",
    "Ask the user for any input, then print it out without changing anything."
   ]
  },
  {
   "cell_type": "code",
   "execution_count": 5,
   "metadata": {},
   "outputs": [
    {
     "name": "stdout",
     "output_type": "stream",
     "text": [
      "anything\n"
     ]
    }
   ],
   "source": [
    "print(input(\"type anything:\"))"
   ]
  },
  {
   "cell_type": "markdown",
   "metadata": {},
   "source": [
    "### Task 2: Multiple Inputs\n",
    "\n",
    "Read in the name and age of the user, then print them out in a sentence. Make sure the user can only put numbers for the age."
   ]
  },
  {
   "cell_type": "code",
   "execution_count": 4,
   "metadata": {},
   "outputs": [
    {
     "name": "stdout",
     "output_type": "stream",
     "text": [
      "Hello name! You are 0 years old.\n"
     ]
    }
   ],
   "source": [
    "name = input(\"Enter your name: \")\n",
    "age = int(input(\"Enter your age: \"))\n",
    "\n",
    "print(\"Hello \" + name + \"! You are \" + str(age) + \" years old.\")\n"
   ]
  },
  {
   "cell_type": "markdown",
   "source": [
    "## Feedback\n",
    "Please scan the QR code below to give us your feedback on **chapter 05: input function**\n",
    "![QR Code feedback](../pictures/feedbackQR.png)"
   ],
   "metadata": {
    "collapsed": false
   }
  },
  {
   "cell_type": "code",
   "execution_count": null,
   "outputs": [],
   "source": [],
   "metadata": {
    "collapsed": false
   }
  }
 ],
 "metadata": {
  "kernelspec": {
   "display_name": "base",
   "language": "python",
   "name": "python3"
  },
  "language_info": {
   "codemirror_mode": {
    "name": "ipython",
    "version": 3
   },
   "file_extension": ".py",
   "mimetype": "text/x-python",
   "name": "python",
   "nbconvert_exporter": "python",
   "pygments_lexer": "ipython3",
   "version": "3.10.8"
  }
 },
 "nbformat": 4,
 "nbformat_minor": 2
}
