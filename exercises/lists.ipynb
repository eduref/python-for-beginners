{
 "cells": [
  {
   "attachments": {},
   "cell_type": "markdown",
   "metadata": {},
   "source": [
    "#### Lists\n",
    "\n",
    "Storing and then printing the first ten prime numbers without lists looks like this:\n",
    "\n",
    "```py\n",
    "prime0 = 2\n",
    "prime1 = 3\n",
    "prime2 = 5\n",
    "...\n",
    "prime9 = 29\n",
    "\n",
    "print(prime0)\n",
    "...\n",
    "print(prime9)\n",
    "```\n",
    "\n",
    "With lists, we ca just write\n",
    "```py\n",
    "primes = [2, 3, 5, 7, 11, 13, 17, 19, 23, 29]\n",
    "```\n",
    "and then print the entire list in one line!\n",
    "```py\n",
    "print(primes)\n",
    "```\n",
    "```pycon\n",
    "[2, 3, 5, 7, 11, 13, 17, 19, 23, 29]\n",
    "```"
   ]
  },
  {
   "attachments": {},
   "cell_type": "markdown",
   "metadata": {},
   "source": [
    "## Exercise 1: Store Birthdays\n",
    "\n",
    "Now, write a list of the birthdays of your neighbors and yourself and print it out.\n",
    "\n",
    "Store the birthdays as strings!"
   ]
  },
  {
   "cell_type": "code",
   "execution_count": 1,
   "metadata": {
    "ExecuteTime": {
     "end_time": "2023-11-11T13:32:46.304961Z",
     "start_time": "2023-11-11T13:32:46.295142Z"
    }
   },
   "outputs": [
    {
     "name": "stdout",
     "output_type": "stream",
     "text": [
      "The birthdays are\n",
      "['1.1.2001', '2.2.2002', '3.3.2003']\n"
     ]
    }
   ],
   "source": [
    "# Write your code after this line\n",
    "\n",
    "birthdays = [\"1.1.2001\", \"2.2.2002\", \"3.3.2003\"]\n",
    "\n",
    "print(\"The birthdays are\")\n",
    "print(birthdays)"
   ]
  },
  {
   "attachments": {},
   "cell_type": "markdown",
   "metadata": {},
   "source": [
    "#### Indexing\n",
    "\n",
    "Many times, we dont just want to do things on all data at once. Instead, we want to select certain values and use them.\n",
    "To do so, we can index a list like this:\n",
    "\n",
    "```python\n",
    "print(primes[0])\n",
    "```\n",
    "\n",
    "This would print 2 in the test data above, as it is the first prime number.\n",
    "Note that the **first** element has the index **zero, not one** and the last element of an array with three values has the index two.\n",
    "\n"
   ]
  },
  {
   "attachments": {},
   "cell_type": "markdown",
   "metadata": {},
   "source": [
    "#### Changing values\n",
    "\n",
    "Now, let's also add the weekdays into the list.\n",
    "\n",
    "To do so, we change the value at a certain index like this:\n",
    "\n",
    "```\n",
    "data[5] = 100\n",
    "```\n",
    "\n",
    "This has changed the value at **Index 5** (the **sixth** entry) to the value 100."
   ]
  },
  {
   "attachments": {},
   "cell_type": "markdown",
   "metadata": {},
   "source": [
    "## Exercise 2: Individual Birthdays\n",
    "\n",
    "Now, print only your birthday from the previous birthdays list. Don't write the birthday again, **use an index into the list you wrote in the last task**!\n",
    "\n",
    "Then, add the weekday you were born on into the value. This should print the new value.\n",
    "\n",
    "For example, if you were born on the 1.1.2001, the new entry would be \"Monday 1.1.2001\""
   ]
  },
  {
   "cell_type": "code",
   "execution_count": 2,
   "metadata": {
    "ExecuteTime": {
     "end_time": "2023-11-11T13:55:40.186266Z",
     "start_time": "2023-11-11T13:55:40.162850Z"
    }
   },
   "outputs": [
    {
     "name": "stdout",
     "output_type": "stream",
     "text": [
      "My birthday is\n",
      "2.2.2002\n",
      "The new value is\n",
      "Sunday 4.4.2004\n"
     ]
    }
   ],
   "source": [
    "# Write your code after this line\n",
    "\n",
    "print(\"My birthday is\")\n",
    "print(birthdays[1])\n",
    "\n",
    "birthdays[1] = \"Sunday 4.4.2004\"\n",
    "\n",
    "print(\"The new value is\")\n",
    "print(birthdays[1])"
   ]
  },
  {
   "attachments": {},
   "cell_type": "markdown",
   "metadata": {},
   "source": [
    "## Appending values\n",
    "\n",
    "The length of your list could change while your program is running.\n",
    "\n",
    "Let's start with an empty list: ``values = []``\n",
    "\n",
    "We can get it's length using ``len(values)``. (This will be zero, because the list is empty)\n",
    "\n",
    "Now, we can append new entries using ``values.append(\"This is a new value\")``\n",
    "\n",
    "The list now looks like this: ``values = [\"This is a new value\"]``\n",
    "\n",
    "New entries are always added to the end of a list."
   ]
  },
  {
   "attachments": {},
   "cell_type": "markdown",
   "metadata": {},
   "source": [
    "## Exercise 3: Combine your knowledge!\n",
    "\n",
    "1. Create a new empty list called ``inputs``.\n",
    "2. Ask the user for a number. **Append it to inputs**. Make sure to cast it to a number using **int()** before you append it!\n",
    "3. Repeat step 2.\n",
    "4. Print the list ``inputs``.\n",
    "5. Double the first value and triple the second input. Store the results of these operations back into the list!\n",
    "6. Print the list again."
   ]
  },
  {
   "cell_type": "code",
   "execution_count": 5,
   "metadata": {
    "ExecuteTime": {
     "end_time": "2023-07-12T18:22:38.345489Z",
     "start_time": "2023-07-12T18:22:34.027246Z"
    }
   },
   "outputs": [
    {
     "name": "stdout",
     "output_type": "stream",
     "text": [
      "[14, 12]\n",
      "[28, 36]\n"
     ]
    }
   ],
   "source": [
    "# Write your code after this line\n",
    "\n",
    "# 1.\n",
    "inputs = []\n",
    "\n",
    "# 2.\n",
    "first_input = input(\"Enter a number\")\n",
    "inputs.append(int(first_input))\n",
    "\n",
    "# 3.\n",
    "second_input = input(\"Enter another number\")\n",
    "inputs.append(int(second_input))\n",
    "\n",
    "# 4.\n",
    "print(inputs)\n",
    "\n",
    "# 5.\n",
    "inputs[0] = 2 * inputs[0]\n",
    "inputs[1] = 3 * inputs[1]\n",
    "\n",
    "# 6.\n",
    "print(inputs)"
   ]
  },
  {
   "attachments": {},
   "cell_type": "markdown",
   "metadata": {},
   "source": [
    "## Potential errors / mistakes\n",
    "\n",
    "If you get an error like this:\n",
    "\n",
    "```\n",
    "---------------------------------------------------------------------------\n",
    "ValueError                                Traceback (most recent call last)\n",
    "\n",
    "...\n",
    "\n",
    "ValueError: invalid literal for int() with base 10: 'abc'\n",
    "```\n",
    "\n",
    "Then you have not entered a number! Make sure to only enter numbers into the input. The program will crash if you don't use numbers.\n",
    "\n",
    "If you instead **enter 5 and then 10 and your results are 55 and 101010**, then you forgot to convert the input to an int! Instead of treating your inputs as numbers, they are treated as strings and are simply written multiple times."
   ]
  }
 ],
 "metadata": {
  "kernelspec": {
   "name": "mv_env",
   "language": "python",
   "display_name": "mv_env"
  },
  "language_info": {
   "codemirror_mode": {
    "name": "ipython",
    "version": 3
   },
   "file_extension": ".py",
   "mimetype": "text/x-python",
   "name": "python",
   "nbconvert_exporter": "python",
   "pygments_lexer": "ipython3",
   "version": "3.11.3"
  },
  "orig_nbformat": 4
 },
 "nbformat": 4,
 "nbformat_minor": 2
}
