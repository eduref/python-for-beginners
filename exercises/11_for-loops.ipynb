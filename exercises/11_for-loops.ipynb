{
 "cells": [
  {
   "cell_type": "markdown",
   "metadata": {},
   "source": [
    "# For-Loops\n",
    "\n",
    "Use for loops to run the same code many times:\n",
    "\n",
    "```python\n",
    "primes = [2, 3, 5, 7, 11, 13, 17, 19]\n",
    "for (prime in primes):\n",
    "  # All code inside this block runs for every prime number\n",
    "  print(prime)\n",
    "  # It runs 8 times\n",
    "\n",
    "print(len(primes)) # 8, prints only once\n",
    "```\n",
    "\n",
    "\n",
    "```diff\n",
    "Make sure you indent correctly:\n",
    "  The code inside should be two spaces indented like this\n",
    "and not like this\n",
    "```\n"
   ]
  },
  {
   "cell_type": "markdown",
   "metadata": {},
   "source": [
    "## Exercise 1: Sum list of numbers\n",
    "\n",
    "Sum up all numbers in the list.\n",
    "\n",
    "Then print out the sum."
   ]
  },
  {
   "cell_type": "code",
   "execution_count": 2,
   "metadata": {},
   "outputs": [
    {
     "name": "stdout",
     "output_type": "stream",
     "text": [
      "84\n"
     ]
    }
   ],
   "source": [
    "# Sum up these numbers\n",
    "numbers = [10, 12, -3, 4, 9, 53, -1]\n",
    "\n",
    "# Add your code after this line\n",
    "\n",
    "# 1. Create a variable to store the sum\n",
    "total = 0\n",
    "# 2. For every number ...\n",
    "for number in numbers:\n",
    "  # ... add it to the total\n",
    "  total += number\n",
    "\n",
    "# 3. Print the total number\n",
    "print(total)"
   ]
  },
  {
   "cell_type": "markdown",
   "metadata": {},
   "source": [
    "## Range\n",
    "\n",
    "Use the range function to loop through all numbers in a range:\n",
    "\n",
    "```python\n",
    "for i in range(0, 10):\n",
    "  print(i)\n",
    "```\n",
    "\n",
    "This code prints 0, 1, 2, 3, 4, 5, 6, 7, 8, 9 (but not 10)!"
   ]
  },
  {
   "cell_type": "markdown",
   "metadata": {},
   "source": [
    "## Exercise 2: Even numbers\n",
    "\n",
    "Check all numbers from 10 to 30. \n",
    "\n",
    "Print all even numbers. Ignore all odd numbers."
   ]
  },
  {
   "cell_type": "code",
   "execution_count": 5,
   "metadata": {},
   "outputs": [
    {
     "name": "stdout",
     "output_type": "stream",
     "text": [
      "10\n",
      "12\n",
      "14\n",
      "16\n",
      "18\n",
      "20\n",
      "22\n",
      "24\n",
      "26\n",
      "28\n",
      "30\n"
     ]
    }
   ],
   "source": [
    "# Write your code after this line\n",
    "\n",
    "# 1. For all numbers between 10 and (including) 30\n",
    "for i in range(10, 31):\n",
    "  # 2. Check if the number is even\n",
    "  if i % 2 == 0:\n",
    "    # 3. If it is even, print it\n",
    "    print(i)"
   ]
  },
  {
   "cell_type": "markdown",
   "metadata": {},
   "source": [
    "## Combine for loops and dicts\n",
    "\n",
    "Using the .keys() function of dictionary, you can write code for all keys of a dictionary.\n",
    "\n",
    "For example, the following code prints all food types with a rating:\n",
    "```python\n",
    "# Foods and their ratings\n",
    "favorite_foods = {\n",
    "    \"pizza\": 4.5,\n",
    "    \"sushi\": 5,\n",
    "    \"burger\": 4,\n",
    "    \"taco\": 3.5,\n",
    "    \"pasta\": 4\n",
    "}\n",
    "\n",
    "# Print all foods\n",
    "for food in favorite_foods.keys():\n",
    "    print(food)\n",
    "```"
   ]
  },
  {
   "cell_type": "markdown",
   "metadata": {},
   "source": [
    "## Exercise 3: Player Ratings\n",
    "\n",
    "Print all player names with their rating.\n",
    "\n",
    "The key is the player name, the rating is the number."
   ]
  },
  {
   "cell_type": "code",
   "execution_count": 13,
   "metadata": {},
   "outputs": [
    {
     "name": "stdout",
     "output_type": "stream",
     "text": [
      "Player242: 400\n",
      "Player801: 200\n",
      "Player992: 750\n",
      "Player623: 630\n"
     ]
    }
   ],
   "source": [
    "ratings = {\n",
    "  \"Player242\": 400,\n",
    "  \"Player801\": 200,\n",
    "  \"Player992\": 750,\n",
    "  \"Player623\": 630,\n",
    "}\n",
    "\n",
    "# Write your code after this line\n",
    "# 1. For each ratings:\n",
    "for playername in ratings.keys():\n",
    "  # 2. Print the player name and their rating\n",
    "  print(playername + \": \" + str(ratings[playername]))\n"
   ]
  },
  {
   "cell_type": "markdown",
   "metadata": {},
   "source": [
    "## For loop over strings\n",
    "\n",
    "You can write code that runs for every character in a string like this:\n",
    "\n",
    "```python\n",
    "example = \"string\"\n",
    "for character in example:\n",
    "  # Print every character on a new line\n",
    "  print(character)\n",
    "```\n",
    "\n",
    "To the for loop, a string is like the list of its characters."
   ]
  },
  {
   "cell_type": "markdown",
   "metadata": {},
   "source": [
    "## Exercise 4: Double characters\n",
    "\n",
    "Read in a string from the user.\n",
    "Create a new empty string.\n",
    "For every character in the input string, write it twice into the new string:\n",
    "\n",
    "Input: Abcdefg\n",
    "Output: AAbbccddeeffgg"
   ]
  },
  {
   "cell_type": "code",
   "execution_count": 16,
   "metadata": {},
   "outputs": [
    {
     "name": "stdout",
     "output_type": "stream",
     "text": [
      "The new string: AAbbccddeeffgg\n"
     ]
    }
   ],
   "source": [
    "# Write your code after this line\n",
    "# 1. Ask user for input\n",
    "user_string = input(\"Enter a string: \")\n",
    "\n",
    "# 2. Initialize an empty string to store the modified output\n",
    "doubled_string = \"\"\n",
    "\n",
    "# 3. Repeat each character in the input string and store in doubled_string\n",
    "for char in user_string:\n",
    "    doubled_string += char * 2\n",
    "\n",
    "# 4. Display the modified string\n",
    "print(\"The new string: \"+doubled_string)"
   ]
  },
  {
   "cell_type": "markdown",
   "metadata": {},
   "source": [
    "## Controlling loops: break and continue\n",
    "\n",
    "Break stops the for loops immediately:\n",
    "\n",
    "```py\n",
    "# Stop immediately when you see zero\n",
    "numbers = [1, 2, 3, 0, 5]\n",
    "for number in numbers:\n",
    "  if number == 0:\n",
    "    break\n",
    "  # The number is not zero, so we can divide by it\n",
    "  print(1 / number)\n",
    "```\n",
    "\n",
    "Continue ignores the current element and goes to the next element right away.\n",
    "\n",
    "```py\n",
    "# Count the blank spaces in a string\n",
    "string = \"This String has blank spaces\"\n",
    "not_empty_chars = 0\n",
    "for character in string:\n",
    "  if character == ' ':\n",
    "    continue # This does not stop the loop, it just goes to the next element!\n",
    "  not_empty_chars += 1\n",
    "print(not_empty_chars + \" characters are not blank\")\n",
    "```"
   ]
  },
  {
   "cell_type": "markdown",
   "metadata": {},
   "source": [
    "## Exercise 5: Guessing game\n",
    "\n",
    "The player must guess a number between one and ten.\n",
    "\n",
    "1. Set the target number to a number between 1 and 10\n",
    "2. Give the player three attempts. For each attempt:\n",
    "3. Ask the player for their guess.\n",
    "4. If the guess is smaller than one or bigger than 10, tell the player to try again with a new number and ignore his old input.\n",
    "5. If the guess is the target number, tell the player they won and end the loop\n",
    "6. If the guess is not the target number, tell the player that they should try again"
   ]
  },
  {
   "cell_type": "code",
   "execution_count": 17,
   "metadata": {},
   "outputs": [
    {
     "name": "stdout",
     "output_type": "stream",
     "text": [
      "Wrong guess. Try again.\n",
      "Please enter a number between 1 and 10.\n",
      "Congratulations! You guessed the correct number!\n"
     ]
    }
   ],
   "source": [
    "# Write your code after this line\n",
    "# 1. Set the target number\n",
    "target_number = 7\n",
    "\n",
    "# 2. For each of the three attempts:\n",
    "for _ in range(3):\n",
    "    # 3. Ask for the input\n",
    "    guess = int(input(\"Guess a number between 1 and 10: \"))\n",
    "\n",
    "    # 4. Test if the input is in bounds.\n",
    "    if guess < 1 or guess > 10:\n",
    "        print(\"Please enter a number between 1 and 10.\")\n",
    "        continue # Ask for a new number if it is not in the range\n",
    "    \n",
    "    # 5. Test if the input is the right number\n",
    "    if guess == target_number:\n",
    "        print(\"Congratulations! You guessed the correct number!\")\n",
    "        break # Break the loop - no reason to ask the player again if they already won\n",
    "    # 6. Otherwise, tell the player to try again\n",
    "    else:\n",
    "        print(\"Wrong guess. Try again.\")\n"
   ]
  },
  {
   "cell_type": "markdown",
   "metadata": {},
   "source": [
    "## Bonus Exercise 1: Average of numbers\n",
    "\n",
    "Modify your code from exercise 1 to calculate the average of the numbers."
   ]
  },
  {
   "cell_type": "code",
   "execution_count": 3,
   "metadata": {},
   "outputs": [
    {
     "name": "stdout",
     "output_type": "stream",
     "text": [
      "12.0\n"
     ]
    }
   ],
   "source": [
    "# Sum up these numbers\n",
    "numbers = [10, 12, -3, 4, 9, 53, -1]\n",
    "\n",
    "# Add your code after this line\n",
    "\n",
    "# 1. Create a variable to store the sum\n",
    "total = 0\n",
    "# 2. For every number ...\n",
    "for number in numbers:\n",
    "  # ... add it to the total\n",
    "  total += number\n",
    "\n",
    "# 3. Print the total number\n",
    "print(total / len(numbers))"
   ]
  },
  {
   "cell_type": "markdown",
   "metadata": {},
   "source": [
    "## Bonus Exercise 2: Fizz Buzz\n",
    "\n",
    "Fizz Buzz is a children's game. You count up from one and print the number:\n",
    "\n",
    "1\n",
    "2\n",
    "\n",
    "If the number is divisible by three, print \"Fizz\" instead:\n",
    "\n",
    "1\n",
    "2\n",
    "Fizz\n",
    "4\n",
    "\n",
    "If the number is divisible by five, print Buzz instead:\n",
    "\n",
    "1\n",
    "2\n",
    "Fizz\n",
    "4\n",
    "Buzz\n",
    "Fizz\n",
    "7\n",
    "8\n",
    "Fizz\n",
    "Buzz\n",
    "\n",
    "If it is divisible by three and five, print FizzBuzz:\n",
    "\n",
    "...\n",
    "13\n",
    "14\n",
    "FizzBuzz\n",
    "16\n",
    "17\n",
    "Fizz\n",
    "...\n",
    "\n",
    "Start from one, and print all numbers until 100 in this format."
   ]
  },
  {
   "cell_type": "code",
   "execution_count": 28,
   "metadata": {},
   "outputs": [
    {
     "name": "stdout",
     "output_type": "stream",
     "text": [
      "1\n",
      "2\n",
      "Fizz\n",
      "4\n",
      "Buzz\n",
      "Fizz\n",
      "7\n",
      "8\n",
      "Fizz\n",
      "Buzz\n",
      "11\n",
      "Fizz\n",
      "13\n",
      "14\n",
      "FizzBuzz\n",
      "16\n",
      "17\n",
      "Fizz\n",
      "19\n",
      "Buzz\n",
      "Fizz\n",
      "22\n",
      "23\n",
      "Fizz\n",
      "Buzz\n",
      "26\n",
      "Fizz\n",
      "28\n",
      "29\n",
      "FizzBuzz\n",
      "31\n",
      "32\n",
      "Fizz\n",
      "34\n",
      "Buzz\n",
      "Fizz\n",
      "37\n",
      "38\n",
      "Fizz\n",
      "Buzz\n",
      "41\n",
      "Fizz\n",
      "43\n",
      "44\n",
      "FizzBuzz\n",
      "46\n",
      "47\n",
      "Fizz\n",
      "49\n",
      "Buzz\n",
      "Fizz\n",
      "52\n",
      "53\n",
      "Fizz\n",
      "Buzz\n",
      "56\n",
      "Fizz\n",
      "58\n",
      "59\n",
      "FizzBuzz\n",
      "61\n",
      "62\n",
      "Fizz\n",
      "64\n",
      "Buzz\n",
      "Fizz\n",
      "67\n",
      "68\n",
      "Fizz\n",
      "Buzz\n",
      "71\n",
      "Fizz\n",
      "73\n",
      "74\n",
      "FizzBuzz\n",
      "76\n",
      "77\n",
      "Fizz\n",
      "79\n",
      "Buzz\n",
      "Fizz\n",
      "82\n",
      "83\n",
      "Fizz\n",
      "Buzz\n",
      "86\n",
      "Fizz\n",
      "88\n",
      "89\n",
      "FizzBuzz\n",
      "91\n",
      "92\n",
      "Fizz\n",
      "94\n",
      "Buzz\n",
      "Fizz\n",
      "97\n",
      "98\n",
      "Fizz\n",
      "Buzz\n"
     ]
    }
   ],
   "source": [
    "# Write your code after this line\n",
    "\n",
    "for i in range(1, 101):\n",
    "    # Check for divisible by 3 and 5 by checking for divisible by 15.\n",
    "    # This check must come *before* the others.\n",
    "    if i % 15 == 0:\n",
    "        print(\"FizzBuzz\")\n",
    "    elif i % 5 == 0:\n",
    "        print(\"Buzz\")\n",
    "    elif i % 3 == 0:\n",
    "        print(\"Fizz\")\n",
    "    else:\n",
    "        print(str(i))\n"
   ]
  },
  {
   "cell_type": "markdown",
   "metadata": {},
   "source": [
    "## Bonus Exercise 3: Find the highscore\n",
    "\n",
    "Find the player with the highest score and print their name and score.\n",
    "\n",
    "To find the highscore, go through the data and store the highest score you have seen so far. When the loop sees a score higher than the current highscore, update the current highscore and store the player who achieved the score.\n",
    "\n",
    "After the loop is done, print the player name and their score."
   ]
  },
  {
   "cell_type": "code",
   "execution_count": 4,
   "metadata": {},
   "outputs": [
    {
     "name": "stdout",
     "output_type": "stream",
     "text": [
      "Player992: 750\n"
     ]
    }
   ],
   "source": [
    "ratings = {\n",
    "  \"Player242\": 400,\n",
    "  \"Player801\": 200,\n",
    "  \"Player992\": 750,\n",
    "  \"Player623\": 630,\n",
    "}\n",
    "\n",
    "# Write your code after this line\n",
    "# Create variables to store the highscore\n",
    "highscore = 0\n",
    "best_player = \"\"\n",
    "\n",
    "for playername in ratings.keys():\n",
    "  # If the current player is better than the highscore:\n",
    "  if ratings[playername] > highscore:\n",
    "    # Update the highscore to the current player\n",
    "    highscore = ratings[playername]\n",
    "    best_player = playername\n",
    "\n",
    "# Print the player with the high score\n",
    "print(best_player + \" has the highest score: \" + str(highscore))"
   ]
  },
  {
   "cell_type": "markdown",
   "metadata": {},
   "source": [
    "# Bonus Exercise 4: Palindromes\n",
    "\n",
    "A palindrome is a string that reads the same forwards and backwards. Here are some examples: otto, anna, radar, 123454321, ....\n",
    "\n",
    "To check if a string is a palindrome, you must compare the first character to the last, the 2nd to the 2nd last and so on:\n",
    "\n",
    "```\n",
    "a n n a\n",
    "| | | | \n",
    "a  =  a\n",
    "  n=n\n",
    "\n",
    "a l l e\n",
    "a =/= e, therefore, alle is not a palindrome\n",
    "```\n",
    "\n",
    "Another way to check the string is to first create the reversed string, then check if they (the original and the reversed) are equal.\n",
    "\n",
    "Your code should ask the user for a string to check."
   ]
  },
  {
   "cell_type": "code",
   "execution_count": 26,
   "metadata": {},
   "outputs": [
    {
     "name": "stdout",
     "output_type": "stream",
     "text": [
      "The string abba is a palindrome\n",
      "The string abba is a palindrome\n"
     ]
    }
   ],
   "source": [
    "# Write your code after this line\n",
    "\n",
    "to_check = input(\"Please enter the string to check\")\n",
    "\n",
    "# Using the reverse of the string\n",
    "reversed_str = \"\"\n",
    "for char in to_check:\n",
    "    reversed_str = char + reversed_str\n",
    "\n",
    "if reversed_str == to_check:\n",
    "    print(\"The string \"+to_check+\" is a palindrome\")\n",
    "else:\n",
    "    print(\"The string \"+to_check+\" is not a palindrome\")\n",
    "\n",
    "# Comparing the characters:\n",
    "# Assume it is a palindrome until we find a wrong character:\n",
    "is_palindrome = True\n",
    "# Test all character pairs until the middle of the string\n",
    "for start_index in range(0, 1 + int(len(to_check) / 2)):\n",
    "    # Using the start index (the first char), find out where the second char is\n",
    "    end_index = len(to_check) - start_index - 1\n",
    "    if to_check[start_index] != to_check[end_index]:\n",
    "        # If they don't match, the string is not a palindrome\n",
    "        is_palindrome = False\n",
    "        break\n",
    "\n",
    "if is_palindrome:\n",
    "    print(\"The string \"+to_check+\" is a palindrome\")\n",
    "else:\n",
    "    print(\"The string \"+to_check+\" is not a palindrome\")"
   ]
  },
  {
   "cell_type": "markdown",
   "metadata": {},
   "source": [
    "## Bonus Exercise 5: Prime numbers\n",
    "\n",
    "*This bonus exercise is quite difficult. Don't be discouraged if you can't solve it.*\n",
    "\n",
    "Print all prime numbers between 2 and 100.\n",
    "\n",
    "A number is prime if it is only divisible by one and itself. Therefore, to check if a number is prime, you must check for all smaller numbers if the large number is divisible by the small number.\n",
    "\n",
    "Only if the number is not divisible by any smaller number (except one, of course), print it.\n",
    "\n",
    "To check this for all smaller numbers, you will need a second for loop inside of the first for loop. The second loop runs again for every number of the first loop. Remember to indent the code in the second loop twice - once for the first loop, and once more for the second loop"
   ]
  },
  {
   "cell_type": "code",
   "execution_count": null,
   "metadata": {},
   "outputs": [],
   "source": [
    "# Write your code after this line\n",
    "# For each number..\n",
    "for i in range(2, 101):\n",
    "    is_prime = True\n",
    "\n",
    "    # Check if i is divisible by any number j smaller than i:\n",
    "    for j in range(2, i):\n",
    "        # If it is divisible...\n",
    "        if i % j == 0:\n",
    "            # i is divisible by j and is therefore not prime.\n",
    "            is_prime = False\n",
    "    if is_prime:\n",
    "        # Print the number only if it is prime.\n",
    "        print(i)"
   ]
  }
 ],
 "metadata": {
  "kernelspec": {
   "display_name": "Python 3",
   "language": "python",
   "name": "python3"
  },
  "language_info": {
   "codemirror_mode": {
    "name": "ipython",
    "version": 3
   },
   "file_extension": ".py",
   "mimetype": "text/x-python",
   "name": "python",
   "nbconvert_exporter": "python",
   "pygments_lexer": "ipython3",
   "version": "3.11.6"
  }
 },
 "nbformat": 4,
 "nbformat_minor": 2
}
