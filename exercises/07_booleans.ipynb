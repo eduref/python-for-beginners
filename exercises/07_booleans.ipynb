{
 "cells": [
  {
   "cell_type": "markdown",
   "metadata": {},
   "source": [
    "# Booleans\n",
    "\n",
    "Booleans are a built-in-data type representing the **truth value of an expression**.\n",
    "\n",
    "Reserved keywords: True, False"
   ]
  },
  {
   "cell_type": "markdown",
   "metadata": {},
   "source": [
    "You can store booleans in variables, e.g.:\n",
    ">```python\n",
    ">positive_variable = True\n",
    ">negative_variable = False\n",
    ">```"
   ]
  },
  {
   "cell_type": "markdown",
   "metadata": {},
   "source": [
    "We can compare two variables using the following operators:\n",
    "\n",
    "| Meaning                    | Operator                |\n",
    "| -------------------------- | ----------------------- |\n",
    "| Equal to                   | `==`                    |\n",
    "| Not equal to               | `!=`                    |\n",
    "| Larger than                | `>`                     |\n",
    "| Larger than or equal to    | `>=`                    |\n",
    "| Smaller than               | `<`                     |\n",
    "| Smaller than or equal to   | `<=`                    |\n"
   ]
  },
  {
   "cell_type": "markdown",
   "metadata": {},
   "source": [
    "Combine boolean expressions using boolean operators:\n",
    "- and\n",
    "- or\n",
    "- not"
   ]
  },
  {
   "cell_type": "markdown",
   "metadata": {},
   "source": [
    "---"
   ]
  },
  {
   "cell_type": "markdown",
   "metadata": {},
   "source": [
    "## Exercise 1: Boolean operations\n",
    "\n",
    "Write a program that compares two numbers (**a** and **b**) and prints whether **a** is greater than **b**."
   ]
  },
  {
   "cell_type": "code",
   "execution_count": 1,
   "metadata": {
    "ExecuteTime": {
     "end_time": "2024-01-20T18:55:44.881932Z",
     "start_time": "2024-01-20T18:55:44.878518Z"
    }
   },
   "outputs": [
    {
     "name": "stdout",
     "output_type": "stream",
     "text": [
      "True\n"
     ]
    }
   ],
   "source": [
    "# write your code after this line\n",
    "a = 12\n",
    "b = 9\n",
    "\n",
    "print(a > b)"
   ]
  },
  {
   "cell_type": "markdown",
   "metadata": {},
   "source": [
    "## Exercise 2: Email spelling check\n",
    "\n",
    "Expressions with a truth value do not necessarily need to be based on two numerical values.\n",
    "\n",
    "We want to replicate a spelling check that is used when creating new online accounts. Follow these steps:\n",
    "\n",
    "1. Ask the user twice to enter his/her email address using the input() function.\n",
    "\n",
    "2. In a full sentence, print whether the email addresses are the same or not (e.g. \"It is true that both email addresses are the same.\")\n",
    "\n",
    "Hint: you can print a boolean by putting an expression `(something == anything)` inside the `str()` function"
   ]
  },
  {
   "cell_type": "code",
   "execution_count": 2,
   "metadata": {
    "ExecuteTime": {
     "end_time": "2024-01-20T18:56:05.999304Z",
     "start_time": "2024-01-20T18:55:44.883689Z"
    }
   },
   "outputs": [
    {
     "name": "stdout",
     "output_type": "stream",
     "text": [
      "It is True that both email addresses are the same.\n"
     ]
    }
   ],
   "source": [
    "# write your code after this line\n",
    "email1 = input(\"Please enter your email address: \")\n",
    "email2 = input(\"Please re-enter your email address: \")\n",
    "\n",
    "print(\"It is \" + str(email1 == email2) + \" that both email addresses are the same.\")"
   ]
  },
  {
   "cell_type": "markdown",
   "metadata": {},
   "source": [
    "## Exercise 3: Number of true expressions\n",
    "\n",
    "Store two numbers (**a** and **b**) and store the truth value of the following expressions in different variables:\n",
    "- **a** is larger than **b**\n",
    "- **a** is not equal to **b**\n",
    "- **a** is an even number\n",
    "- **b** is an odd number\n",
    "\n",
    "Print the number of true statements based on the selected values for **a** and **b**."
   ]
  },
  {
   "cell_type": "code",
   "execution_count": 3,
   "metadata": {
    "ExecuteTime": {
     "end_time": "2024-01-20T18:56:06.008488Z",
     "start_time": "2024-01-20T18:56:05.994500Z"
    }
   },
   "outputs": [
    {
     "name": "stdout",
     "output_type": "stream",
     "text": [
      "2 of these statements are true\n"
     ]
    }
   ],
   "source": [
    "# write your code after this line\n",
    "a = 13\n",
    "b = 8\n",
    "\n",
    "bool1 = (a > b)\n",
    "bool2 = (a != b)\n",
    "bool3 = (a % 2 == 0)\n",
    "bool4 = (b % 2 == 1)\n",
    "\n",
    "print(str(bool1 + bool2 + bool3 + bool4) + \" of these statements are true\")"
   ]
  },
  {
   "cell_type": "markdown",
   "metadata": {},
   "source": [
    "## Exercise 4: Boolean algebra\n",
    "\n",
    "Create 3 variables (**p**, **q** and **r**) and store a boolean value (True/False) in each of them.\n",
    "\n",
    "Now print whether the foollowing boolean expression is true or false: \n",
    "> (**p** and **q** are true) or (**q** is false or **r** is true)\n",
    "\n",
    "*This is equivalent to the mathematical expression (**p**∧**q**)∨(¬**q**∧**r**)*"
   ]
  },
  {
   "cell_type": "code",
   "execution_count": 4,
   "metadata": {
    "ExecuteTime": {
     "end_time": "2024-01-20T18:56:06.008829Z",
     "start_time": "2024-01-20T18:56:06.003703Z"
    }
   },
   "outputs": [
    {
     "name": "stdout",
     "output_type": "stream",
     "text": [
      "True\n"
     ]
    }
   ],
   "source": [
    "# write your code after this line\n",
    "p = True\n",
    "q = True\n",
    "r = False\n",
    "\n",
    "result = (p and q) or (not q and r)\n",
    "\n",
    "print(result)"
   ]
  },
  {
   "cell_type": "markdown",
   "metadata": {},
   "source": [
    "---"
   ]
  },
  {
   "cell_type": "markdown",
   "metadata": {},
   "source": [
    "## Bonus exercises\n",
    "\n",
    "If you are much faster than the others, try solving the following exercises:"
   ]
  },
  {
   "cell_type": "markdown",
   "metadata": {},
   "source": [
    "### Bonus exercise 1: Divisibility check\n",
    "\n",
    "Write a program that takes two numbers (**num** and **divisor**) and prints whether **num** is divisible by **divisor**.\n",
    "\n",
    "*Hint: remember the modulo operator (%)?*"
   ]
  },
  {
   "cell_type": "code",
   "execution_count": 5,
   "metadata": {
    "ExecuteTime": {
     "end_time": "2024-01-20T18:56:06.010680Z",
     "start_time": "2024-01-20T18:56:06.007546Z"
    }
   },
   "outputs": [
    {
     "name": "stdout",
     "output_type": "stream",
     "text": [
      "False\n"
     ]
    }
   ],
   "source": [
    "# write your code after this line\n",
    "num = 12\n",
    "divisor = 7\n",
    "\n",
    "print(num % divisor == 0)"
   ]
  },
  {
   "cell_type": "markdown",
   "metadata": {},
   "source": [
    "### Bonus exercise 2: Leap year check\n",
    "\n",
    "Write a program that stores a year in a variable and prints whether it is a leap year. A leap year is either divisible by 4 but not by 100 or is divisible by 400.\n",
    "\n",
    "*Hint: remember the modulo operator (%)?*"
   ]
  },
  {
   "cell_type": "code",
   "execution_count": 6,
   "metadata": {
    "ExecuteTime": {
     "end_time": "2024-01-20T18:56:06.015099Z",
     "start_time": "2024-01-20T18:56:06.011823Z"
    }
   },
   "outputs": [
    {
     "name": "stdout",
     "output_type": "stream",
     "text": [
      "True\n"
     ]
    }
   ],
   "source": [
    "# write your code after this line\n",
    "year = 2020\n",
    "\n",
    "print(((year % 4 == 0) and (year % 100 != 0)) or (year % 400 == 0))"
   ]
  },
  {
   "cell_type": "markdown",
   "metadata": {},
   "source": [
    "### Bonus exercise 3: Palindrome check\n",
    "\n",
    "Ask the user for a word and then print whether it is a palindrome (reads the same backward as forward).\n",
    "\n",
    "*Hint: [::-1] is used to reverse a string*"
   ]
  },
  {
   "cell_type": "code",
   "execution_count": 7,
   "metadata": {
    "ExecuteTime": {
     "end_time": "2024-01-20T18:56:17.845453Z",
     "start_time": "2024-01-20T18:56:06.015549Z"
    }
   },
   "outputs": [
    {
     "name": "stdout",
     "output_type": "stream",
     "text": [
      "False\n"
     ]
    }
   ],
   "source": [
    "# write your code after this line\n",
    "word = input(\"Please enter a word: \")\n",
    "\n",
    "print(word == word[::-1])"
   ]
  },
  {
   "cell_type": "markdown",
   "source": [
    "## Feedback\n",
    "Please scan the QR code below to give us your feedback on **chapter 07: booleans**\n",
    "![QR Code feedback](../pictures/feedbackQR.png)"
   ],
   "metadata": {
    "collapsed": false
   }
  }
 ],
 "metadata": {
  "kernelspec": {
   "display_name": "base",
   "language": "python",
   "name": "python3"
  },
  "language_info": {
   "codemirror_mode": {
    "name": "ipython",
    "version": 3
   },
   "file_extension": ".py",
   "mimetype": "text/x-python",
   "name": "python",
   "nbconvert_exporter": "python",
   "pygments_lexer": "ipython3",
   "version": "3.7.4"
  }
 },
 "nbformat": 4,
 "nbformat_minor": 2
}
