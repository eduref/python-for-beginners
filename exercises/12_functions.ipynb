{
 "cells": [
  {
   "cell_type": "markdown",
   "metadata": {},
   "source": [
    "# Functions\n",
    "\n",
    "Functions are a way to group code together. They are useful for reusing code and for creating more readable programs.\n",
    "\n",
    "Ingredients of a function:  \n",
    "    - **Name**: How you call the function  \n",
    "    - **Parameters**: The variables that the function needs to do its job  \n",
    "    - **Body**: The code that the function runs when it is called  \n",
    "    - **Return value**: The value that the function gives back when it is done  \n",
    "\n",
    "Functions are defined using the `def` keyword. The name of the function is followed by parentheses and a colon. The body of the function is indented.\n",
    "\n",
    "example:\n",
    "\n",
    "```python  \n",
    "def add(a, b):\n",
    "    return a + b\n",
    "```\n",
    "\n",
    "    "
   ]
  },
  {
   "cell_type": "markdown",
   "metadata": {},
   "source": [
    "## Exercise 1\n",
    "\n",
    "Write a function that has no arguments and prints \"Hello, I am a function\"."
   ]
  },
  {
   "cell_type": "code",
   "execution_count": null,
   "metadata": {},
   "outputs": [],
   "source": [
    "# Write your code after this line\n",
    "\n",
    "def hello():\n",
    "    print(\"Hello, I am a function\")\n",
    "\n",
    "hello()"
   ]
  },
  {
   "cell_type": "markdown",
   "metadata": {},
   "source": [
    "Arguments are the variables that the function needs to do its job. In the case before, the function does not need any arguments.\n",
    "\n",
    "There are multiple types of arguments:\n",
    "    - **Positional arguments**: The arguments are passed in the order they are defined in the function.\n",
    "    - **Keyword arguments**: The arguments are passed with their name.\n",
    "    - **Default arguments**: The arguments have a default value that is used if the argument is not passed.\n",
    "    - **Variable/Arbitrary arguments**: The number of arguments is variable."
   ]
  },
  {
   "cell_type": "markdown",
   "metadata": {},
   "source": [
    "## Exercise 2\n",
    "\n",
    "Write one function that has two arguments and prints these arguments.\n",
    "\n",
    "Call it with positional arguments, keyword arguments and a mix of both.\n"
   ]
  },
  {
   "cell_type": "code",
   "execution_count": 1,
   "metadata": {},
   "outputs": [
    {
     "name": "stdout",
     "output_type": "stream",
     "text": [
      "first arguments:  Hello\n",
      "second argument:  World\n",
      "first arguments:  Hello\n",
      "second argument:  World\n",
      "first arguments:  Hello\n",
      "second argument:  Hello\n"
     ]
    }
   ],
   "source": [
    "# write your code after this line\n",
    "\n",
    "def my_function(argument1, argument2):\n",
    "    print(\"first arguments: \", argument1)\n",
    "    print(\"second argument: \", argument2)\n",
    "\n",
    "# positional arguments\n",
    "my_function(\"Hello\", \"World\")\n",
    "\n",
    "# keyword arguments\n",
    "my_function(argument2=\"World\", argument1=\"Hello\")\n",
    "\n",
    "# mixed arguments\n",
    "my_function(\"Hello\", argument2=\"World\")"
   ]
  },
  {
   "cell_type": "markdown",
   "metadata": {},
   "source": [
    "## Default arguments\n",
    "\n",
    "Default arguments are arguments that have a default value. If the argument is not passed, the default value is used.\n",
    "\n",
    "example:\n",
    "\n",
    "```python\n",
    "def subtract(a, b=0):\n",
    "    print(a - b)\n",
    "```\n",
    "\n",
    "## Exercise 3\n",
    "\n",
    "Write a function that takes four arguments. The function prints out the sum of all arguments. To be flexible, all arguments have a default value of 0.\n",
    "\n",
    "\n",
    "\n"
   ]
  },
  {
   "cell_type": "code",
   "execution_count": 2,
   "metadata": {},
   "outputs": [
    {
     "name": "stdout",
     "output_type": "stream",
     "text": [
      "10\n",
      "6\n",
      "3\n"
     ]
    }
   ],
   "source": [
    "# write your code after this line\n",
    "\n",
    "def add_function(a= 0, b = 0, c = 0, d = 0):\n",
    "    print(a + b + c + d)\n",
    "\n",
    "add_function(1, 2, 3, 4)\n",
    "add_function(1, 2, 3)\n",
    "add_function(1, 2)"
   ]
  },
  {
   "cell_type": "markdown",
   "metadata": {},
   "source": [
    "## The return statement\n",
    "\n",
    "The return statement is used to give back a value from a function. It can be used to give back the result of a computation or to exit the function early.\n",
    "\n",
    "Example:\n",
    "\n",
    "```python\n",
    "def add(a, b):\n",
    "    return a + b\n",
    "```\n",
    "x = add(1, 2)"
   ]
  },
  {
   "cell_type": "markdown",
   "metadata": {},
   "source": [
    "## Exercise 4\n",
    "\n",
    "Write a function that checks whether a number is even or odd. The function takes one argument and returns True if the number is even and False if the number is odd.\n",
    "\n",
    "Reminder: The modulo operator `%` gives the remainder of a division. `a % b` gives the remainder of `a` divided by `b`."
   ]
  },
  {
   "cell_type": "code",
   "execution_count": 4,
   "metadata": {},
   "outputs": [
    {
     "name": "stdout",
     "output_type": "stream",
     "text": [
      "True\n",
      "False\n"
     ]
    }
   ],
   "source": [
    "## write your code after this line\n",
    "\n",
    "def is_even(number):\n",
    "    return number % 2 == 0\n",
    "\n",
    "print(is_even(2))\n",
    "print(is_even(3))"
   ]
  },
  {
   "cell_type": "markdown",
   "metadata": {},
   "source": [
    "# Now you know how to write functions! Congratulations!\n",
    "\n",
    "\n",
    "## Bonus exercise\n",
    "\n",
    "Write a function that takes a list of numbers and returns the sum of all even numbers in the list. Tip: Reuse the function from exercise 4."
   ]
  },
  {
   "cell_type": "code",
   "execution_count": null,
   "metadata": {},
   "outputs": [],
   "source": [
    "## write your code after this line\n",
    "\n",
    "def sum_even(numbers):\n",
    "    sum = 0\n",
    "    for number in numbers:\n",
    "        if is_even(number):\n",
    "            sum += number\n",
    "    return sum"
   ]
  },
  {
   "cell_type": "markdown",
   "metadata": {},
   "source": [
    "## Bonus exercise 2\n",
    "\n",
    "You are very quick, so lets try a more difficult exercise. \n",
    "The fibonacci sequence is a sequence of numbers where each number is the sum of the two previous numbers. The first two numbers are 0 and 1.\n",
    "So the sequence is 0, 1, 1, 2, 3, 5, 8, 13, 21, ...\n",
    "\n",
    "We want a function that takes a number `n` and returns the `n`th number in the fibonacci sequence. For example, `fibonacci(5)` should return 3, because the 5th number in the fibonacci sequence is 3. `fibonacci(7)` should return 8, because the 7th number in the fibonacci sequence is 8.\n",
    "\n",
    "Hint: You can use recursion to solve this problem. Recursion means that a function calls itself. For example:\n",
    "\n",
    "```python\n",
    "def countdown(n):\n",
    "    if n == 0:\n",
    "        print(\"Blastoff!\")\n",
    "    else:\n",
    "        print(n)\n",
    "        countdown(n - 1)\n",
    "\n",
    "countdown(3)\n",
    "```"
   ]
  },
  {
   "cell_type": "code",
   "execution_count": 6,
   "metadata": {},
   "outputs": [
    {
     "name": "stdout",
     "output_type": "stream",
     "text": [
      "10946\n",
      "10946\n"
     ]
    }
   ],
   "source": [
    "## write your code after this line\n",
    "\n",
    "def fibonacci(n):\n",
    "    if n == 0 or n == 1:\n",
    "        return 1\n",
    "    else:\n",
    "        return fibonacci(n-1) + fibonacci(n-2)\n",
    "    \n",
    "print(fibonacci(20))\n",
    "\n",
    "\n",
    "def fibonacci_without_recursion(n):\n",
    "    if n == 0 or n == 1:\n",
    "        return 1\n",
    "    else:\n",
    "        a = 1\n",
    "        b = 1\n",
    "        for i in range(2, n+1):\n",
    "            c = a + b\n",
    "            a = b\n",
    "            b = c\n",
    "        return c\n",
    "    \n",
    "print(fibonacci_without_recursion(20))"
   ]
  },
  {
   "cell_type": "markdown",
   "metadata": {},
   "source": [
    "## Feedback \n",
    "Please scan the QR code below to give us your feedback on **chapter 05: input function**  \n",
    "![QR Code feedback](../pictures/feedbackQR.png)"
   ]
  }
 ],
 "metadata": {
  "kernelspec": {
   "display_name": "base",
   "language": "python",
   "name": "python3"
  },
  "language_info": {
   "codemirror_mode": {
    "name": "ipython",
    "version": 3
   },
   "file_extension": ".py",
   "mimetype": "text/x-python",
   "name": "python",
   "nbconvert_exporter": "python",
   "pygments_lexer": "ipython3",
   "version": "3.10.8"
  }
 },
 "nbformat": 4,
 "nbformat_minor": 2
}
