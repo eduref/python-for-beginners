{
 "cells": [
  {
   "attachments": {},
   "cell_type": "markdown",
   "metadata": {},
   "source": [
    "# Lists\n",
    "\n",
    "You can store many common variables in a single list.\n",
    "For example, storing many prime numbers in one list.\n",
    "\n",
    "```py\n",
    "primes = [2, 3, 5, 7, 11, 13, 17, 19, 23, 29]\n",
    "```\n",
    "\n",
    "Lists have a length. You can get it with `len(list_name)`\n",
    "\n",
    "```py\n",
    "length = len(primes)\n",
    "```\n",
    "\n",
    "length is 10 here, because our list contains 10 prime numbers."
   ]
  },
  {
   "attachments": {},
   "cell_type": "markdown",
   "metadata": {},
   "source": [
    "## Exercise 1: Store Birthdays\n",
    "\n",
    "Now, write a list of the birthdays of your neighbors and yourself and print it out.\n",
    "\n",
    "Also, print the length of the list.\n",
    "\n",
    "Store the birthdays as strings!"
   ]
  },
  {
   "cell_type": "code",
   "execution_count": 31,
   "metadata": {
    "ExecuteTime": {
     "end_time": "2023-07-12T18:21:55.989944Z",
     "start_time": "2023-07-12T18:21:55.963221Z"
    }
   },
   "outputs": [
    {
     "name": "stdout",
     "output_type": "stream",
     "text": [
      "The birthdays are\n",
      "['1.1.2001', '2.2.2002', '3.3.2003']\n",
      "Amount of birthdays in the list:\n",
      "3\n"
     ]
    }
   ],
   "source": [
    "# Write your code after this line\n",
    "\n",
    "birthdays = [\"1.1.2001\", \"2.2.2002\", \"3.3.2003\"]\n",
    "\n",
    "print(\"The birthdays are\")\n",
    "print(birthdays)\n",
    "print(\"Amount of birthdays in the list:\")\n",
    "print(len(birthdays))"
   ]
  },
  {
   "attachments": {},
   "cell_type": "markdown",
   "metadata": {},
   "source": [
    "## Appending values\n",
    "\n",
    "Let's start with an empty list: ``values = []``\n",
    "\n",
    "Now, we can append new entries using ``values.append(\"This is a new value\")``\n",
    "The list now looks like this: ``values = [\"This is a new value\"]``\n",
    "\n",
    "New entries are always added to the end of a list."
   ]
  },
  {
   "attachments": {},
   "cell_type": "markdown",
   "metadata": {},
   "source": [
    "## Exercise 2: Append values!\n",
    "\n",
    "1. Create a new empty list called ``inputs``.\n",
    "2. Ask the user for a number. **Append it to inputs**. Make sure to cast it to a number using **int()** before you append it!\n",
    "3. Repeat step 2.\n",
    "4. Print the list ``inputs``."
   ]
  },
  {
   "cell_type": "code",
   "execution_count": 32,
   "metadata": {
    "ExecuteTime": {
     "end_time": "2023-07-12T18:22:38.345489Z",
     "start_time": "2023-07-12T18:22:34.027246Z"
    }
   },
   "outputs": [
    {
     "ename": "ValueError",
     "evalue": "invalid literal for int() with base 10: ''",
     "output_type": "error",
     "traceback": [
      "\u001B[1;31m---------------------------------------------------------------------------\u001B[0m",
      "\u001B[1;31mValueError\u001B[0m                                Traceback (most recent call last)",
      "Cell \u001B[1;32mIn[32], line 8\u001B[0m\n\u001B[0;32m      6\u001B[0m \u001B[39m# 2.\u001B[39;00m\n\u001B[0;32m      7\u001B[0m first_input \u001B[39m=\u001B[39m \u001B[39minput\u001B[39m(\u001B[39m\"\u001B[39m\u001B[39mEnter a number\u001B[39m\u001B[39m\"\u001B[39m)\n\u001B[1;32m----> 8\u001B[0m inputs\u001B[39m.\u001B[39mappend(\u001B[39mint\u001B[39;49m(first_input))\n\u001B[0;32m     10\u001B[0m \u001B[39m# 3.\u001B[39;00m\n\u001B[0;32m     11\u001B[0m second_input \u001B[39m=\u001B[39m \u001B[39minput\u001B[39m(\u001B[39m\"\u001B[39m\u001B[39mEnter another number\u001B[39m\u001B[39m\"\u001B[39m)\n",
      "\u001B[1;31mValueError\u001B[0m: invalid literal for int() with base 10: ''"
     ]
    }
   ],
   "source": [
    "# Write your code after this line\n",
    "\n",
    "# 1.\n",
    "inputs = []\n",
    "\n",
    "# 2.\n",
    "first_input = input(\"Enter a number\")\n",
    "inputs.append(int(first_input))\n",
    "\n",
    "# 3.\n",
    "second_input = input(\"Enter another number\")\n",
    "inputs.append(int(second_input))\n",
    "\n",
    "# 4.\n",
    "print(inputs)"
   ]
  },
  {
   "attachments": {},
   "cell_type": "markdown",
   "metadata": {},
   "source": [
    "## Indexing\n",
    "\n",
    "Many times, we dont just want to do things on all data at once. Instead, we want to select certain values and use them.\n",
    "To do so, we can index a list like this:\n",
    "\n",
    "```python\n",
    "print(primes[0])\n",
    "```\n",
    "\n",
    "This would print 2 in the test data above, as it is the first prime number.\n",
    "Note that the **first** element has the index **zero, not one** and the last element of an array with three values has the index two.\n",
    "\n"
   ]
  },
  {
   "attachments": {},
   "cell_type": "markdown",
   "metadata": {},
   "source": [
    "## Changing values\n",
    "\n",
    "Now, let's also add the weekdays into the list.\n",
    "\n",
    "To do so, we change the value at a certain index like this:\n",
    "\n",
    "```\n",
    "data[5] = 100\n",
    "```\n",
    "\n",
    "This has changed the value at **Index 5** (the **sixth** entry) to the value 100."
   ]
  },
  {
   "attachments": {},
   "cell_type": "markdown",
   "metadata": {},
   "source": [
    "## Exercise 3: Individual Birthdays\n",
    "\n",
    "Now, print only your birthday from the previous birthdays list. Don't write the birthday again, **use an index into the list you wrote in the last task**!\n",
    "\n",
    "Then, change your birthday in the list: It should also include the weekday you were born on.\n",
    "\n",
    "For example, if you were born on the 1.1.2001, the new entry would be \"Monday 1.1.2001\"\n",
    "\n",
    "Then, print the changed list."
   ]
  },
  {
   "cell_type": "code",
   "execution_count": null,
   "metadata": {
    "ExecuteTime": {
     "end_time": "2023-07-12T18:21:55.990568Z",
     "start_time": "2023-07-12T18:21:55.974063Z"
    }
   },
   "outputs": [
    {
     "name": "stdout",
     "output_type": "stream",
     "text": [
      "My birthday is\n",
      "2.2.2002\n",
      "The new list is\n",
      "['1.1.2001', 'Sunday 4.4.2004', '3.3.2003']\n"
     ]
    }
   ],
   "source": [
    "birthdays = [\"1.1.2001\", \"2.2.2002\", \"3.3.2003\"]\n",
    "\n",
    "# Write your code after this line\n",
    "\n",
    "print(\"My birthday is\")\n",
    "print(birthdays[1])\n",
    "\n",
    "birthdays[1] = \"Sunday 4.4.2004\"\n",
    "\n",
    "print(\"The new list is\")\n",
    "print(birthdays)"
   ]
  },
  {
   "attachments": {},
   "cell_type": "markdown",
   "metadata": {},
   "source": [
    "## Removing entries\n",
    "\n",
    "We can remove an entry at a given index (pop) or with a given value (remove):\n",
    "\n",
    "```py\n",
    "example_list = [10, 15, 25]\n",
    "example_list.pop(2) # Removes the last element\n",
    "example_list.remove(10) # Removes the element with the value 10\n",
    "print(example_list) # [15] (we removed 10 and 25)\n",
    "```"
   ]
  },
  {
   "attachments": {},
   "cell_type": "markdown",
   "metadata": {},
   "source": [
    "## Exercise 4: Add and then remove\n",
    "\n",
    "1. Create a list with a few words. Print it.\n",
    "2. Ask the user for another word. Append it to the end.\n",
    "3. Print the new list\n",
    "4. Remove the new word (you can decide if you want to use pop or remove)\n",
    "5. Print the new list"
   ]
  },
  {
   "cell_type": "code",
   "execution_count": null,
   "metadata": {},
   "outputs": [
    {
     "name": "stdout",
     "output_type": "stream",
     "text": [
      "['These', 'are', 'some', 'words']\n",
      "['These', 'are', 'some', 'words', 'example']\n",
      "['These', 'are', 'some', 'words']\n"
     ]
    }
   ],
   "source": [
    "# Write your code after this line\n",
    "\n",
    "# 1.\n",
    "words = [\"These\", \"are\", \"some\", \"words\"]\n",
    "print(words)\n",
    "\n",
    "# 2.\n",
    "new_word = input(\"Please enter another word\")\n",
    "words.append(new_word)\n",
    "\n",
    "# 3.\n",
    "print(words)\n",
    "\n",
    "# 4.\n",
    "# Using remove:\n",
    "words.remove(new_word)\n",
    "# Using pop:\n",
    "# words.pop(4) # Only works when the new list has 5 elements!\n",
    "\n",
    "# 5.\n",
    "print(words)"
   ]
  },
  {
   "attachments": {},
   "cell_type": "markdown",
   "metadata": {},
   "source": [
    "## Lists of lists\n",
    "\n",
    "Lists can also contain other lists!\n",
    "\n",
    "```python\n",
    "tic_tac_toe_board = [\n",
    "    ['X', 'O', 'X'],\n",
    "    ['O', 'X', 'O'],\n",
    "    [' ', ' ', 'X']\n",
    "]\n",
    "```\n",
    "\n",
    "Access the elements like this:\n",
    "```python\n",
    "# First row, second and third column:\n",
    "tic_tac_toe_board[0][1] # O\n",
    "tic_tac_toe_board[0][2] # X\n",
    "```"
   ]
  },
  {
   "attachments": {},
   "cell_type": "markdown",
   "metadata": {},
   "source": [
    "## Exercise 5: Tic Tac Toe\n",
    "\n",
    "1. Create an empty tic-tac-toe board (3x3, all entries are ' ')\n",
    "2. Ask the user for the row and column where they want to place their X\n",
    "3. Convert them to numbers. Set the correct square in the board.\n",
    "4. Print the board"
   ]
  },
  {
   "cell_type": "code",
   "execution_count": 4,
   "metadata": {},
   "outputs": [
    {
     "name": "stdout",
     "output_type": "stream",
     "text": [
      "[[' ', ' ', ' '], [' ', 'X', ' '], [' ', ' ', ' ']]\n"
     ]
    }
   ],
   "source": [
    "# Write your code after this line\n",
    "\n",
    "# 1.\n",
    "board = [\n",
    "    [' ', ' ', ' '], \n",
    "    [' ', ' ', ' '], \n",
    "    [' ', ' ', ' ']\n",
    "]\n",
    "\n",
    "# 2.\n",
    "row = input(\"Which row would you like to place your X into?\")\n",
    "column = input(\"Which column would you like to place your X into?\")\n",
    "\n",
    "# 3.\n",
    "board[int(row)][int(column)] = 'X'\n",
    "\n",
    "# 4.\n",
    "print(board)"
   ]
  },
  {
   "cell_type": "markdown",
   "source": [],
   "metadata": {
    "collapsed": false
   }
  },
  {
   "cell_type": "markdown",
   "source": [
    "# Chapter Review:\n",
    "Please follow this link to review how hard the exercises and topics covered in this chapter where:"
   ],
   "metadata": {
    "collapsed": false
   }
  },
  {
   "cell_type": "markdown",
   "source": [],
   "metadata": {
    "collapsed": false
   }
  },
  {
   "attachments": {},
   "cell_type": "markdown",
   "metadata": {},
   "source": [
    "## Bonus Exercise 1: Ask for user's birthday\n",
    "\n",
    "1. Ask the user for their birthday. Store it in a variable.\n",
    "2. Create a new list with 4 values: The first three should be just like task one, the fourth value should be the user's birthday\n",
    "3. Print the result"
   ]
  },
  {
   "cell_type": "code",
   "execution_count": null,
   "metadata": {},
   "outputs": [
    {
     "name": "stdout",
     "output_type": "stream",
     "text": [
      "['1.1.2001', '2.2.2002', '3.3.2003', '']\n"
     ]
    }
   ],
   "source": [
    "# Write your own code after this line\n",
    "\n",
    "birthday = input(\"Please enter your birthday\")\n",
    "\n",
    "birthdays = [\"1.1.2001\", \"2.2.2002\", \"3.3.2003\", birthday]\n",
    "\n",
    "print(birthdays)"
   ]
  },
  {
   "attachments": {},
   "cell_type": "markdown",
   "metadata": {},
   "source": [
    "## Bonus Exercise 2: Conditionals\n",
    "\n",
    "Now, let's use if together with the Exercise 2.\n",
    "\n",
    "Start by copying your solution from Exercise 2 into the new solution.\n",
    "\n",
    "At the end of the solution to Exercise 2:\n",
    "1. If the second value is larger than the first value: Print that the second value is greater than the first value.\n",
    "2. If it is not, then ask for a third number. Double it, then add it to the list.\n",
    "3. Print the new list at the end (regardless of what happens before)\n",
    "\n",
    "If you get something like \"1010\" instead of 20, or \"55\" instead of 10, make sure to use the int() function to convert the inputs to integers before adding them to the list."
   ]
  },
  {
   "cell_type": "code",
   "execution_count": null,
   "metadata": {},
   "outputs": [
    {
     "name": "stdout",
     "output_type": "stream",
     "text": [
      "[2, 1]\n",
      "[2, 1, 10]\n"
     ]
    }
   ],
   "source": [
    "# Write your code after this line\n",
    "\n",
    "# 1.\n",
    "inputs = []\n",
    "\n",
    "# 2.\n",
    "first_input = input(\"Enter a number\")\n",
    "inputs.append(int(first_input))\n",
    "\n",
    "# 3.\n",
    "second_input = input(\"Enter another number\")\n",
    "inputs.append(int(second_input))\n",
    "\n",
    "# 4.\n",
    "print(inputs)\n",
    "\n",
    "# B1.\n",
    "if inputs[1] > inputs[0]:\n",
    "    print(\"Second value is greater than first value\")\n",
    "# B2.\n",
    "else:\n",
    "    third_input = int(input(\"Enter a third number\"))\n",
    "    third_input = third_input * 2\n",
    "    inputs.append(third_input)\n",
    "\n",
    "# B3\n",
    "print(inputs)"
   ]
  },
  {
   "attachments": {},
   "cell_type": "markdown",
   "metadata": {},
   "source": [
    "## Bonus Exercise 3: Combine your knowledge\n",
    "\n",
    "Now, let's combine our knowledge until this point.\n",
    "\n",
    "Check if the user can enter a number, and then 3x that number:\n",
    "\n",
    "1. Create an empty list called inputs (again)\n",
    "2. Ask the user for their favourite number, convert it to an int, and append it to the list\n",
    "3. Now, ask them for three times the first number. Convert the input to an int, and store it in a variable.\n",
    "4. Check if their input is actually three times the first input\n",
    "5. If it is, add it to the list. Otherwise, add three times the first value to the list yourself and print out an error message\n",
    "6. Always print the resulting list in the end.\n",
    "\n",
    "The list should always contain a number, and then three times that number, even if the user entered the wrong number in the second input!"
   ]
  },
  {
   "cell_type": "code",
   "execution_count": null,
   "metadata": {},
   "outputs": [
    {
     "name": "stdout",
     "output_type": "stream",
     "text": [
      "[10, 30]\n"
     ]
    }
   ],
   "source": [
    "# Write your code after this line\n",
    "\n",
    "# 1.\n",
    "inputs = []\n",
    "\n",
    "# 2.\n",
    "inputs.append(int(input(\"What is your favourite number?\")))\n",
    "\n",
    "# 3.\n",
    "answer = int(input(\"What is 3x your favourite number?\"))\n",
    "\n",
    "# 4.\n",
    "if answer == 3*inputs[0]:\n",
    "# 5.\n",
    "    inputs.append(answer)\n",
    "else:\n",
    "    inputs.append(3 * inputs[0])\n",
    "    print(\"You did not enter the correct number (3 * favourite)\")\n",
    "\n",
    "# 6.\n",
    "print(inputs)"
   ]
  },
  {
   "attachments": {},
   "cell_type": "markdown",
   "metadata": {},
   "source": [
    "## Bonus exercise 4: Remove bad values\n",
    "\n",
    "We want a list with only primes.\n",
    "\n",
    "1. Create a list of all numbers from 1 to 10\n",
    "2. Print the list\n",
    "3. Remove all numbers that are not primes. Use both remove and pop at least once.\n",
    "4. Print the new list"
   ]
  },
  {
   "cell_type": "code",
   "execution_count": 34,
   "metadata": {},
   "outputs": [
    {
     "name": "stdout",
     "output_type": "stream",
     "text": [
      "[1, 2, 3, 4, 5, 6, 7, 8, 9, 10]\n",
      "[2, 3, 5, 7]\n"
     ]
    }
   ],
   "source": [
    "# Write your code after this line\n",
    "\n",
    "# 1.\n",
    "numbers = [1, 2, 3, 4, 5, 6, 7, 8, 9, 10]\n",
    "\n",
    "# 2.\n",
    "print(numbers)\n",
    "\n",
    "# 3.\n",
    "numbers.pop(0) # Remove the first element (it is 1)\n",
    "numbers.remove(4) # 4 = 2 * 2\n",
    "numbers.remove(6) # 6 = 2 * 3\n",
    "numbers.remove(8) # 8 = 2 * 4\n",
    "numbers.remove(9) # 9 = 3 * 3\n",
    "numbers.remove(10) # 10 = 2 * 5\n",
    "\n",
    "# 4.\n",
    "print(numbers)"
   ]
  },
  {
   "attachments": {},
   "cell_type": "markdown",
   "metadata": {},
   "source": [
    "## Potential errors / mistakes\n",
    "\n",
    "If you get an error like this:\n",
    "\n",
    "```\n",
    "---------------------------------------------------------------------------\n",
    "ValueError                                Traceback (most recent call last)\n",
    "\n",
    "...\n",
    "\n",
    "ValueError: invalid literal for int() with base 10: 'abc'\n",
    "```\n",
    "\n",
    "Then you have not entered a number! Make sure to only enter numbers into the input. The program will crash if you don't use numbers.\n",
    "\n",
    "If you instead **enter 5 and then 10 and your results are 55 and 101010**, then you forgot to convert the input to an int! Instead of treating your inputs as numbers, they are treated as strings and are simply written multiple times."
   ]
  },
  {
   "attachments": {},
   "cell_type": "markdown",
   "metadata": {},
   "source": [
    "## Bonus exercise 5: Add a bot\n",
    "\n",
    "Start with your solution to the regular exercise 5.\n",
    "1. Now, the computer places an 'O'. Make sure it does not overwrite the X of the user!\n",
    "2. Print the new board with the X and O.\n",
    "\n",
    "The computer is not allowed to place an O where the user placed an X!\n",
    "\n",
    "Bonus task of the bonus task:\n",
    "If you want, you can add some logic to the robot and make it smart. You can also ask the user for their next X, and place it as well, and so on."
   ]
  },
  {
   "cell_type": "code",
   "execution_count": 6,
   "metadata": {},
   "outputs": [
    {
     "name": "stdout",
     "output_type": "stream",
     "text": [
      "[[' ', ' ', ' '], [' ', ' ', ' '], [' ', ' ', 'X']]\n",
      "[[' ', ' ', ' '], [' ', 'O', ' '], [' ', ' ', 'X']]\n"
     ]
    }
   ],
   "source": [
    "# Write your code after this line\n",
    "# Solution to exercise 5:\n",
    "board = [\n",
    "    [' ', ' ', ' '], \n",
    "    [' ', ' ', ' '], \n",
    "    [' ', ' ', ' ']\n",
    "]\n",
    "row = input(\"Which row would you like to place your X into?\")\n",
    "column = input(\"Which column would you like to place your X into?\")\n",
    "board[int(row)][int(column)] = 'X'\n",
    "print(board)\n",
    "# Solution to bonus exercise 5:\n",
    "\n",
    "# 1.\n",
    "# The best position is in the center of the board,\n",
    "# so let's try to place the O there.\n",
    "best_row = 1\n",
    "best_column = 1\n",
    "if board[best_row][best_column] == ' ':\n",
    "    # The position is still free\n",
    "    board[best_row][best_column] = 'O'\n",
    "else:\n",
    "    # The user placed an X there, so we place in the corner.\n",
    "    board[2][2] = 'O'\n",
    "\n",
    "# 2.\n",
    "print(board)"
   ]
  },
  {
   "cell_type": "markdown",
   "source": [
    "## Feedback\n",
    "Please scan the QR code below to give us your feedback on **chapter 09: lists**\n",
    "![QR Code feedback](../pictures/feedbackQR.png)"
   ],
   "metadata": {
    "collapsed": false
   }
  }
 ],
 "metadata": {
  "kernelspec": {
   "display_name": "Python 3",
   "language": "python",
   "name": "python3"
  },
  "language_info": {
   "codemirror_mode": {
    "name": "ipython",
    "version": 3
   },
   "file_extension": ".py",
   "mimetype": "text/x-python",
   "name": "python",
   "nbconvert_exporter": "python",
   "pygments_lexer": "ipython3",
   "version": "3.11.4"
  },
  "orig_nbformat": 4,
  "vscode": {
   "interpreter": {
    "hash": "c261aea317cc0286b3b3261fbba9abdec21eaa57589985bb7a274bf54d6cc0a7"
   }
  }
 },
 "nbformat": 4,
 "nbformat_minor": 2
}
