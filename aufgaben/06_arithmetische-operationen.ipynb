{
 "cells": [
  {
   "cell_type": "markdown",
   "metadata": {},
   "source": [
    "# Arithmetische Operationen\n",
    "\n",
    "Jetzt wissen wir, wie man Zeichenketten und Zahlen einliest. Lass uns sehen, wie wir einige grundlegende arithmetische Operationen damit durchführen können.\n",
    "\n",
    "## Addition\n",
    "\n",
    "Um Zahlen in Python zu addieren, verwenden wir den `+` Operator. Lass uns zwei Zahlen addieren:"
   ]
  },
  {
   "cell_type": "code",
   "execution_count": 1,
   "metadata": {},
   "outputs": [
    {
     "name": "stdout",
     "output_type": "stream",
     "text": [
      "3\n"
     ]
    }
   ],
   "source": [
    "summe = 1 + 2\n",
    "print(summe)"
   ]
  },
  {
   "cell_type": "markdown",
   "metadata": {},
   "source": [
    "## Subtraktion, Multiplikation, Division\n",
    "\n",
    "Alle anderen arithmetischen Operationen werden auf ähnliche Weise durchgeführt.\n",
    "Wir subtrahieren mit dem `-` Operator, multiplizieren mit dem `*` Operator und dividieren mit dem `/` Operator.\n"
   ]
  },
  {
   "cell_type": "markdown",
   "metadata": {},
   "source": [
    "### Alle Operatoren\n",
    "\n",
    "| Operation                  | Beispiel                             | Ergebnis | Code     |\n",
    "|---------------------------|--------------------------------------|----------|----------|\n",
    "| Addition                  | 3 plus 4                             | 7        | `3 + 4`  |\n",
    "| Subtraktion               | 4 minus 1                            | 3        | `4 - 1`  |\n",
    "| Multiplikation            | 5 mal 3                              | 15       | `5 * 3`  |\n",
    "| Division                  | 5 geteilt durch 3                    | 1,6666.. | `5 / 3`  |\n",
    "| Division ohne Rest        | 5 geteilt durch 3 ohne Rest          | 1        | `5 // 3` |\n",
    "| Modulo (Rest)             | Rest von 5/3                         | 2        | `5 % 3`  |\n",
    "| Potenz                    | 3 hoch 3                             | 27       | `3 ** 3` |\n",
    "\n",
    "---"
   ]
  },
  {
   "cell_type": "markdown",
   "metadata": {},
   "source": [
    "## Übung 1: Eingabefunktion mit Berechnung\n",
    "\n",
    "Wir möchten den Benutzer nach seinem Alter fragen und dann sein Geburtsjahr ausgeben. Das können wir tun, indem wir die Eingabefunktion verwenden und dann das Alter vom aktuellen Jahr subtrahieren."
   ]
  },
  {
   "cell_type": "code",
   "execution_count": null,
   "metadata": {},
   "outputs": [],
   "source": [
    "from datetime import datetime\n",
    "aktuelles_jahr = datetime.now().year\n",
    "# Schreibe deinen Code unter diese Zeile\n",
    "alter = input(\"Gib dein Alter ein: \")\n",
    "geburtsjahr = aktuelles_jahr - int(alter)\n",
    "print(\"Dein Alter ist:\", alter)\n",
    "print(\"Du wurdest \" + str(geburtsjahr) + \" oder \" + str(geburtsjahr - 1) + \" geboren.\")"
   ]
  },
  {
   "cell_type": "markdown",
   "metadata": {},
   "source": [
    "## Übung 2: Eingabefunktion mit komplexer Berechnung\n",
    "\n",
    "Wir möchten Code schreiben, der den Radius eines Kreises einliest und dann die Fläche des Kreises berechnet. Die Formel für die Fläche eines Kreises ist: $A = \\pi r^2$\n",
    "\n",
    "nimm an $\\pi$ = 3.14159"
   ]
  },
  {
   "cell_type": "code",
   "execution_count": null,
   "metadata": {},
   "outputs": [],
   "source": [
    "pi = 3.14159\n",
    "# Schreibe deinen Code unter diese Zeile\n",
    "radius = input(\"Gib den Radius des Kreises ein: \")\n",
    "flaeche = pi * float(radius) ** 2\n",
    "print(\"Radius des Kreises:\", radius)\n",
    "print(\"Die Fläche des Kreises beträgt \" + str(flaeche))"
   ]
  },
  {
   "cell_type": "markdown",
   "metadata": {},
   "source": [
    "## Übung 3: Prüfe ob eine Zahl gerade oder ungerade ist\n",
    "Das Programm wird den Benutzer auffordern, eine Zahl einzugeben.\n",
    "Verwende den Modulo-Operator um die Parität zu prüfen und gib dann eine entsprechende Nachricht aus."
   ]
  },
  {
   "cell_type": "code",
   "execution_count": null,
   "metadata": {},
   "outputs": [],
   "source": [
    "# Schreibe deinen Code unter diese Zeile\n",
    "zahl = int(input(\"Gib eine Zahl ein: \"))\n",
    "ist_gerade = (zahl % 2) == 0\n",
    "print(\"Ist die Zahl gerade?\", ist_gerade)"
   ]
  },
  {
   "cell_type": "markdown",
   "metadata": {},
   "source": [
    "## Bonus Übung 1: Taschenrechner\n",
    "Bitte erstelle ein Programm, das den Benutzer auffordert, zwei Zahlen einzugeben und dann Folgendes berechnet:\n",
    "- die Summe $a + b$\n",
    "- die Differenz $a - b$\n",
    "- das Produkt $a * b$\n",
    "- den Quotienten $a / b$\n",
    "- die resultierende Potenz $a^b$\n",
    "- den Rest $a$ $mod$ $b$\n",
    "- die Division ohne Rest $\\lfloor \\frac{a}{b} \\rfloor$"
   ]
  },
  {
   "cell_type": "code",
   "execution_count": null,
   "metadata": {},
   "outputs": [],
   "source": [
    "# Schreibe deinen Code unter diese Zeile\n",
    "a = float(input(\"Bitte gib zwei Zahlen ein.\\n a=\"))\n",
    "b = float((input(\"b=\")))\n",
    "print(\"Ergebnisse für a=\" + str(a) + \" und b=\" + str(b) + \".\")\n",
    "print(\"Summe (a + b):\", a + b)\n",
    "print(\"Differenz (a - b):\", a - b)\n",
    "print(\"Produkt (a * b):\", a * b)\n",
    "print(\"Quotient (a / b):\", a / b)\n",
    "print(\"Resultierende Potenz (a^b):\", a ** b)\n",
    "print(\"Rest (a % b):\", a % b)\n",
    "print(\"Division ohne Rest (a // b):\", a // b)"
   ]
  },
  {
   "cell_type": "markdown",
   "metadata": {},
   "source": [
    "## Bonus Übung 2: Reich werden!\n",
    "Mit etwas Geld zum Sparen beginnst du, dich für Investitionen zu interessieren. Beim Nachlesen, wie viel Geld du am Ende deines Anlagezyklus ($n$ Jahre) mit einem Zinssatz von $p\\%$ auf deine Investitionen haben wirst, stößt du auf die Formel für Zinseszins:\n",
    "\n",
    "$A = P \\left(1 + \\frac{r}{n}\\right)^{nt}$\n",
    "\n",
    "Erstelle ein Programm, das den Benutzer nach Folgendem fragt:\n",
    "- Dem Anfangsbetrag $P$\n",
    "- Dem jährlichen Zinssatz $r$\n",
    "- Der Anzahl der Zinszahlungen pro Jahr $n$ (z.B. du bekommst jeden Monat $r \\%$ Zinsen auf dein Geld -> $n = 12$)\n",
    "- Der Anzahl der Jahre, in denen das Geld investiert wird $t$\n",
    "\n",
    "Berechne dann mit diesen Zahlen den Endbetrag deiner Investition einschließlich des Anfangsbetrags."
   ]
  },
  {
   "cell_type": "code",
   "execution_count": null,
   "metadata": {},
   "outputs": [],
   "source": [
    "# Schreibe deinen Code unter diese Zeile\n",
    "# Eingabeparameter vom Benutzer\n",
    "anfangsbetrag = float(input(\"Gib den Anfangsbetrag ein: \"))\n",
    "zinssatz = float(input(\"Gib den jährlichen Zinssatz (in Prozent) ein: \"))\n",
    "zins_frequenz = int(input(\"Gib die Anzahl der Zinszahlungen pro Jahr ein: \"))\n",
    "zeit = float(input(\"Gib die Anlagedauer in Jahren ein: \"))\n",
    "\n",
    "# Berechne und zeige das Ergebnis\n",
    "zinseszins = anfangsbetrag * (1 + (zinssatz/100) / zins_frequenz)**(zins_frequenz * zeit)\n",
    "\n",
    "print(\"Ergebnisse:\")\n",
    "print(\"Anfangsbetrag:\", anfangsbetrag)\n",
    "print(\"Jährlicher Zinssatz in Prozent:\", zinssatz)\n",
    "print(\"Zinsfrequenz:\", zins_frequenz)\n",
    "print(\"Zeit (Jahre):\", zeit)\n",
    "print(\"Zinseszins:\", zinseszins)"
   ]
  },
  {
   "cell_type": "markdown",
   "metadata": {},
   "source": [
    "## Feedback\n",
    "Bitte scanne den QR-Code unten, um uns dein Feedback zu **Kapitel 06: Arithmetische Operationen** zu geben\n",
    "![QR Code feedback](../pictures/feedbackQR.png)"
   ]
  }
 ],
 "metadata": {
  "kernelspec": {
   "display_name": "usr",
   "language": "python",
   "name": "python3"
  },
  "language_info": {
   "codemirror_mode": {
    "name": "ipython",
    "version": 3
   },
   "file_extension": ".py",
   "mimetype": "text/x-python",
   "name": "python",
   "nbconvert_exporter": "python",
   "pygments_lexer": "ipython3",
   "version": "3.12.6"
  }
 },
 "nbformat": 4,
 "nbformat_minor": 2
}
