{
 "cells": [
  {
   "cell_type": "markdown",
   "metadata": {},
   "source": [
    "# Arithmetische Operationen\n",
    "\n",
    "Jetzt wissen wir, wie wir Strings und Zahlen einlesen können. Lass uns anschauen, wie wir einige grundlegende arithmetische Operationen damit durchführen können.\n",
    "\n",
    "## Addition\n",
    "\n",
    "Um Zahlen in Python zu addieren, verwenden wir den `+` Operator. Lass uns zwei Zahlen addieren:"
   ]
  },
  {
   "cell_type": "code",
   "metadata": {
    "ExecuteTime": {
     "end_time": "2024-11-28T18:06:31.148673Z",
     "start_time": "2024-11-28T18:06:31.144142Z"
    }
   },
   "source": [
    "summe = 1 + 2\n",
    "print(summe)"
   ],
   "outputs": [
    {
     "name": "stdout",
     "output_type": "stream",
     "text": [
      "3\n"
     ]
    }
   ],
   "execution_count": 1
  },
  {
   "cell_type": "markdown",
   "metadata": {},
   "source": [
    "## Subtraktion, Multiplikation, Division\n",
    "\n",
    "Alle anderen arithmetischen Operationen funktionieren auf ähnliche Weise.\n",
    "Wir subtrahieren mit dem `-` Operator, multiplizieren mit dem `*` Operator und dividieren mit dem `/` Operator.\n"
   ]
  },
  {
   "cell_type": "markdown",
   "metadata": {},
   "source": [
    "### Alle Operatoren\n",
    "\n",
    "| Operation                  | Beispiel                              | Ergebnis | Code     |\n",
    "|----------------------------|---------------------------------------|----------|----------|\n",
    "| Addition                   | 3 plus 4                              | 7        | `3 + 4`  |\n",
    "| Subtraktion                | 4 minus 1                             | 3        | `4 - 1`  |\n",
    "| Multiplikation             | 5 mal 3                               | 15       | `5 * 3`  |\n",
    "| Division                   | 5 geteilt durch 3                     | 1,6666.. | `5 / 3`  |\n",
    "| Division ohne Rest         | 5 geteilt durch 3 ohne Rest           | 1        | `5 // 3` |\n",
    "| Modulo (Rest)              | Rest von 5/3                          | 2        | `5 % 3`  |\n",
    "| Potenz                     | 3 <sup> 3                             | 27       | `3 ** 3` |\n",
    "\n",
    "---"
   ]
  },
  {
   "cell_type": "markdown",
   "metadata": {},
   "source": [
    "## Übung 1: Eingabefunktion mit Berechnung\n",
    "\n",
    "Wir möchten den Nutzer nach seinem Alter fragen und dann sein Geburtsjahr ausgeben. Das können wir machen, indem wir die Eingabefunktion nutzen und dann das Alter vom aktuellen Jahr abziehen."
   ]
  },
  {
   "cell_type": "code",
   "metadata": {
    "ExecuteTime": {
     "end_time": "2024-11-28T18:06:33.701622Z",
     "start_time": "2024-11-28T18:06:31.149846Z"
    }
   },
   "source": [
    "from datetime import datetime\n",
    "aktuelles_jahr = datetime.now().year\n",
    "# Schreibe deinen Code unter diese Zeile\n",
    "alter = input(\"Gib dein Alter ein: \")\n",
    "geburtsjahr = aktuelles_jahr - int(alter)\n",
    "print(\"Dein Alter ist:\", alter)\n",
    "print(\"Du wurdest \" + str(geburtsjahr) + \" oder \" + str(geburtsjahr - 1) + \" geboren.\")"
   ],
   "outputs": [
    {
     "name": "stdout",
     "output_type": "stream",
     "text": [
      "Dein Alter ist: 23\n",
      "Du wurdest 2001 oder 2000 geboren.\n"
     ]
    }
   ],
   "execution_count": 2
  },
  {
   "cell_type": "markdown",
   "metadata": {},
   "source": [
    "## Übung 2: Eingabefunktion mit komplexer Berechnung"
   ]
  },
  {
   "cell_type": "markdown",
   "metadata": {},
   "source": [
    "Wir möchten Code schreiben, der den Radius eines Kreises einliest und dann die Fläche des Kreises berechnet. Die Formel für die Fläche eines Kreises ist: $A = \\pi r^2$\n",
    "\n",
    "Nimm an $\\pi$ = 3.14159"
   ]
  },
  {
   "cell_type": "code",
   "metadata": {
    "ExecuteTime": {
     "end_time": "2024-11-28T18:06:36.566277Z",
     "start_time": "2024-11-28T18:06:33.704330Z"
    }
   },
   "source": [
    "pi = 3.14159\n",
    "# Schreibe deinen Code unter diese Zeile\n",
    "radius = input(\"Gib den Radius des Kreises ein: \")\n",
    "flaeche = pi * float(radius) ** 2\n",
    "print(\"Radius des Kreises:\", radius)\n",
    "print(\"Die Fläche des Kreises ist \" + str(flaeche))"
   ],
   "outputs": [
    {
     "name": "stdout",
     "output_type": "stream",
     "text": [
      "Radius des Kreises: 3\n",
      "Die Fläche des Kreises ist 28.27431\n"
     ]
    }
   ],
   "execution_count": 3
  },
  {
   "cell_type": "markdown",
   "metadata": {},
   "source": [
    "## Bonus Übung 1: Taschenrechner\n",
    "Bitte erstelle ein Programm, das den Nutzer nach zwei Zahlen fragt und dann berechnet:\n",
    "- die Summe $a + b$\n",
    "- die Differenz $a - b$\n",
    "- das Produkt $a * b$\n",
    "- den Quotienten $a / b$\n",
    "- die resultierende Potenz $a^b$\n",
    "- den Rest $a$ $mod$ $b$\n",
    "- die Division ohne Rest $\\lfloor \\frac{a}{b} \\rfloor$"
   ]
  },
  {
   "cell_type": "code",
   "metadata": {
    "ExecuteTime": {
     "end_time": "2024-11-28T18:06:39.761906Z",
     "start_time": "2024-11-28T18:06:36.567996Z"
    }
   },
   "source": [
    "# Schreibe deinen Code unter diese Zeile\n",
    "a = float(input(\"Bitte gib zwei Zahlen ein.\\n a=\"))\n",
    "b = float((input(\"b=\")))\n",
    "print(\"Ergebnisse für a=\" + str(a) + \" und b=\" + str(b) + \".\")\n",
    "print(\"Summe (a + b):\", a + b)\n",
    "print(\"Differenz (a - b):\", a - b)\n",
    "print(\"Produkt (a * b):\", a * b)\n",
    "print(\"Quotient (a / b):\", a / b)\n",
    "print(\"Resultierende Potenz (a^b):\", a ** b)\n",
    "print(\"Rest (a % b):\", a % b)\n",
    "print(\"Division ohne Rest (a // b):\", a // b)"
   ],
   "outputs": [
    {
     "name": "stdout",
     "output_type": "stream",
     "text": [
      "Ergebnisse für a=1.0 und b=2.0.\n",
      "Summe (a + b): 3.0\n",
      "Differenz (a - b): -1.0\n",
      "Produkt (a * b): 2.0\n",
      "Quotient (a / b): 0.5\n",
      "Resultierende Potenz (a^b): 1.0\n",
      "Rest (a % b): 1.0\n",
      "Division ohne Rest (a // b): 0.0\n"
     ]
    }
   ],
   "execution_count": 4
  },
  {
   "cell_type": "markdown",
   "metadata": {},
   "source": [
    "## Bonus Übung 2: Reich werden!\n",
    "Mit etwas Geld übrig beginnst du, dich für Investitionen zu interessieren. Beim Lesen darüber, wie viel Geld du am Ende deines Anlagezyklus ($n$ Jahre) mit einem Zinssatz von $p\\%$ auf deine Investitionen haben wirst, stößt du auf die Zinseszins-Formel:\n",
    "$\\big \\text{Zinseszins}\\ \\[\n",
    "A = P \\left(1 + \\frac{r}{n}\\right)^{nt}\n",
    "\\]$\n",
    "Erstelle ein Programm, das den Nutzer nach Folgendem fragt:\n",
    "- Dem Anfangsbetrag $P$\n",
    "- Dem jährlichen Zinssatz $r$\n",
    "- Der Anzahl der Zinszahlungen pro Jahr $n$ (z.B. du bekommst jeden Monat $r \\%$ Zinsen auf dein Geld -> $n = 12$)\n",
    "- Der Anzahl der Jahre, in denen das Geld angelegt wird $t$\n",
    "\n",
    "Berechne dann mit diesen Zahlen den Endbetrag deiner Investition inklusive des Anfangsbetrags."
   ]
  },
  {
   "cell_type": "code",
   "metadata": {
    "ExecuteTime": {
     "end_time": "2024-11-28T18:06:57.521730Z",
     "start_time": "2024-11-28T18:06:39.766208Z"
    }
   },
   "source": [
    "# Schreibe deinen Code unter diese Zeile\n",
    "# Parameter vom Nutzer einlesen\n",
    "anfangsbetrag = float(input(\"Gib den Anfangsbetrag ein: \"))\n",
    "zinssatz = float(input(\"Gib den jährlichen Zinssatz (in Prozent) ein: \"))\n",
    "zinsperioden = int(input(\"Gib die Anzahl der Zinszahlungen pro Jahr ein: \"))\n",
    "laufzeit = float(input(\"Gib die Anlagedauer in Jahren ein: \"))\n",
    "\n",
    "# Berechnung und Ausgabe des Ergebnisses\n",
    "zinseszins = anfangsbetrag * (1 + (zinssatz/100) / zinsperioden)**(zinsperioden * laufzeit)\n",
    "\n",
    "print(\"Ergebnisse:\")\n",
    "print(\"Anfangsbetrag:\", anfangsbetrag)\n",
    "print(\"Jährlicher Zinssatz in Prozent:\", zinssatz)\n",
    "print(\"Anzahl Zinsperioden:\", zinsperioden)\n",
    "print(\"Laufzeit (Jahre):\", laufzeit)\n",
    "print(\"Zinseszins:\", zinseszins)"
   ],
   "outputs": [
    {
     "name": "stdout",
     "output_type": "stream",
     "text": [
      "Ergebnisse:\n",
      "Anfangsbetrag: 10.0\n",
      "Jährlicher Zinssatz in Prozent: 3.0\n",
      "Anzahl Zinsperioden: 12\n",
      "Laufzeit (Jahre): 10.0\n",
      "Zinseszins: 13.493535471908247\n"
     ]
    }
   ],
   "execution_count": 5
  },
  {
   "cell_type": "markdown",
   "metadata": {},
   "source": [
    "## Feedback\n",
    "Bitte scanne den QR-Code unten, um uns dein Feedback zu **Kapitel 06: Arithmetische Operationen** zu geben.\n",
    "![QR Code feedback](../pictures/feedbackQR.png)"
   ]
  }
 ],
 "metadata": {
  "kernelspec": {
   "name": "python3",
   "language": "python",
   "display_name": "Python 3 (ipykernel)"
  }
 },
 "nbformat": 4,
 "nbformat_minor": 2
}
