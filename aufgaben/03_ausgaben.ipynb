{
 "cells": [
  {
   "cell_type": "markdown",
   "metadata": {},
   "source": [
    "# Ausgabe mit print\n",
    "\n",
    "Um mit dem Benutzer zu kommunizieren, geben wir Werte aus.\n",
    "\n",
    "```py\n",
    "# Gibt Test aus\n",
    "print(\"Test\")\n",
    "```\n",
    "\n",
    "Achte darauf Anführungszeichen \"\" wie hier zu verwenden: \"In Anführungszeichen\"\n"
   ]
  },
  {
   "cell_type": "markdown",
   "metadata": {},
   "source": [
    "## Übung 1: Hallo Welt\n",
    "\n",
    "Schreibe ein Programm, das \"Hallo, Welt!\" ausgibt."
   ]
  },
  {
   "cell_type": "code",
   "metadata": {
    "ExecuteTime": {
     "end_time": "2024-11-28T18:03:27.709619Z",
     "start_time": "2024-11-28T18:03:27.703875Z"
    }
   },
   "source": [
    "# Schreibe deinen Code unter diese Zeile\n",
    "print(\"Hallo Welt\")"
   ],
   "outputs": [
    {
     "name": "stdout",
     "output_type": "stream",
     "text": [
      "Hallo Welt\n"
     ]
    }
   ],
   "execution_count": 1
  },
  {
   "cell_type": "markdown",
   "metadata": {},
   "source": [
    "## Übung 2: Begrüßung deiner Gäste\n",
    "Du gibst eine Party und willst kein schlechter Gastgeber sein, oder? Begrüße alle deine Partygäste!\n",
    "Gib bitte `Hallo <Name>!` für alle angegebenen Namen aus.\n",
    "\n",
    "Nutze dabei beide Arten Strings zu verbinden: mit ``+`` und mit ``,``\n",
    "<details>\n",
    "    <summary><strong>Tipp</strong></summary>\n",
    "        Die zwei Möglichkeiten sind:\n",
    "        <code>\"hallo\", \"welt\"</code>\n",
    "        und\n",
    "        <code>\"hallo \" + \"welt\"</code>\n",
    "</details>\n"
   ]
  },
  {
   "cell_type": "code",
   "metadata": {
    "ExecuteTime": {
     "end_time": "2024-11-28T18:03:27.717015Z",
     "start_time": "2024-11-28T18:03:27.714549Z"
    }
   },
   "source": [
    "# Gast 1\n",
    "\"Kerri Chandler\"\n",
    "# Gast 2\n",
    "\"LTJ Bukem\"\n",
    "# Gast 3\n",
    "\"Roy Davis Jr.\"\n",
    "\n",
    "# Schreibe deinen Code unter diese Zeile\n",
    "print(\"Hey\", \"Kerri Chandler\")\n",
    "print(\"Grüße,\" + \" LTJ Bukem\")\n",
    "print(\"Willkommen \" + \"Roy Davis Jr.\")"
   ],
   "outputs": [
    {
     "name": "stdout",
     "output_type": "stream",
     "text": [
      "Hey Kerri Chandler\n",
      "Grüße, LTJ Bukem\n",
      "Willkommen Roy Davis Jr.\n"
     ]
    }
   ],
   "execution_count": 2
  },
  {
   "cell_type": "markdown",
   "metadata": {},
   "source": [
    "## Bonus Übung 1: Einfache Ausgabe\n",
    "\n",
    "Gib deinen Vor- und Nachnamen in zwei verschiedenen Zeilen aus, z.B.:\n",
    "```python\n",
    "Gerhardt\n",
    "Eberstädter\n",
    "```"
   ]
  },
  {
   "cell_type": "code",
   "metadata": {
    "ExecuteTime": {
     "end_time": "2024-11-28T18:03:27.721877Z",
     "start_time": "2024-11-28T18:03:27.719026Z"
    }
   },
   "source": [
    "# Schreibe deinen Code unter diese Zeile\n",
    "print(\"Nils\")\n",
    "print(\"Holgersson\")"
   ],
   "outputs": [
    {
     "name": "stdout",
     "output_type": "stream",
     "text": [
      "Nils\n",
      "Holgersson\n"
     ]
    }
   ],
   "execution_count": 3
  },
  {
   "cell_type": "markdown",
   "metadata": {},
   "source": [
    "## Bonus Übung 2: Was sagt der Geldautomat?\n",
    "Stelle dir vor, du willst einen Geldautomaten programmieren. Er muss:\n",
    "- Den Kunden begrüßen\n",
    "- Ihm seinen Kontostand in EUR anzeigen\n",
    "- Fragen, wie viel er abheben möchte in EUR\n",
    "Gib einen möglichen ersten Dialog mit einem Kunden aus."
   ]
  },
  {
   "cell_type": "code",
   "metadata": {
    "ExecuteTime": {
     "end_time": "2024-11-28T18:03:27.725282Z",
     "start_time": "2024-11-28T18:03:27.722972Z"
    }
   },
   "source": [
    "# Kontostand: 1000000\n",
    "# Kundenname: Meister Eder\n",
    "\n",
    "# Schreibe deinen Code unter diese Zeile\n",
    "print(\"Hallo,\", \"Meister Eder\")\n",
    "print(\"Ihr verfügbarer Kontostand beträgt\", \"1000000\" + \"€\")\n",
    "print(\"Wie viel möchten Sie abheben?\")"
   ],
   "outputs": [
    {
     "name": "stdout",
     "output_type": "stream",
     "text": [
      "Hallo, Meister Eder\n",
      "Ihr verfügbarer Kontostand beträgt 1000000€\n",
      "Wie viel möchten Sie abheben?\n"
     ]
    }
   ],
   "execution_count": 4
  },
  {
   "cell_type": "markdown",
   "metadata": {},
   "source": [
    "## Bonus Übung 3: Erweiterter Geldautomat\n",
    "Nutze die folgenden Variablen um einen Geldautomaten zu programmieren, der:\n",
    "- den richtigen Kundennamen verwendet\n",
    "- Kontoinformationen anzeigt\n",
    "\n",
    "Frage den Kunden dann was er tun möchte\n",
    "- zum Abheben soll er `w` drücken\n",
    "- zum Ausloggen soll er `q` drücken\n",
    "\n",
    "Bitte verwende nur String-Verkettung mit `+`, z.B. `\"hallo\" + \" welt\"`."
   ]
  },
  {
   "cell_type": "code",
   "metadata": {
    "ExecuteTime": {
     "end_time": "2024-11-28T18:03:27.731733Z",
     "start_time": "2024-11-28T18:03:27.728260Z"
    }
   },
   "source": [
    "kunde_name = \"Angela Merkel\"\n",
    "kunde_kontostand = \"100\"\n",
    "kunde_kontonummer = \"129472479h\"\n",
    "kunde_verfuegbar = \"20\"\n",
    "\n",
    "taste_abheben = \"w\"\n",
    "taste_beenden = \"q\"\n",
    "\n",
    "# Schreibe deinen Code unter diese Zeile\n",
    "print(\"SPARKASSEN GELDAUTOMAT \\n\")\n",
    "print(\"-----------------\\n\")\n",
    "\n",
    "print(\"Willkommen, \" + kunde_name + \" (\" + kunde_kontonummer + \")\" + \"!\\n\")\n",
    "\n",
    "print(\"Ihr aktueller Kontostand beträgt \\n\" + kunde_kontostand + \" EUR\")\n",
    "print(\"\\nIhr verfügbarer Betrag beträgt\\n\" + kunde_verfuegbar + \" EUR\")\n",
    "print(\"\")\n",
    "print(\"\")\n",
    "print(\"Zum Geld abheben drücke \" + taste_abheben + \".\")\n",
    "print(\"Zum Beenden drücke \" + taste_beenden + \".\")"
   ],
   "outputs": [
    {
     "name": "stdout",
     "output_type": "stream",
     "text": [
      "SPARKASSEN GELDAUTOMAT \n",
      "\n",
      "-----------------\n",
      "\n",
      "Willkommen, Angela Merkel (129472479h)!\n",
      "\n",
      "Ihr aktueller Kontostand beträgt \n",
      "100 EUR\n",
      "\n",
      "Ihr verfügbarer Betrag beträgt\n",
      "20 EUR\n",
      "\n",
      "\n",
      "Zum Geld abheben drücke w.\n",
      "Zum Beenden drücke q.\n"
     ]
    }
   ],
   "execution_count": 5
  }
 ],
 "metadata": {
  "kernelspec": {
   "display_name": "Python 3",
   "language": "python",
   "name": "python3"
  }
 },
 "nbformat": 4,
 "nbformat_minor": 2
}
