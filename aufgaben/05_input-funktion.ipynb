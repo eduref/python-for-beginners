{
 "cells": [
  {
   "cell_type": "markdown",
   "metadata": {},
   "source": [
    "# Die input-Funktion\n",
    "\n",
    "Die input-Funktion ermöglicht es dir, den Benutzer nach einer Eingabe zu fragen und gibt dann einen String mit der Benutzereingabe zurück. Das folgende Programm fragt zum Beispiel nach deinem Namen und gibt ihn dann aus:"
   ]
  },
  {
   "cell_type": "code",
   "metadata": {
    "ExecuteTime": {
     "end_time": "2024-11-28T18:05:57.415168Z",
     "start_time": "2024-11-28T18:05:53.890789Z"
    }
   },
   "source": [
    "benutzer_eingabe = input(\"Gib deinen Namen ein: \")\n",
    "\n",
    "print(\"Hallo \" + benutzer_eingabe + \"!\")"
   ],
   "outputs": [
    {
     "name": "stdout",
     "output_type": "stream",
     "text": [
      "Hallo Alex!\n"
     ]
    }
   ],
   "execution_count": 4
  },
  {
   "cell_type": "markdown",
   "metadata": {},
   "source": [
    "## Übung 1: Die input-Funktion\n",
    "\n",
    "Frage den Benutzer nach einer beliebigen Eingabe und gib sie unverändert aus."
   ]
  },
  {
   "cell_type": "code",
   "metadata": {
    "ExecuteTime": {
     "end_time": "2024-11-28T18:05:59.739141Z",
     "start_time": "2024-11-28T18:05:57.418941Z"
    }
   },
   "source": [
    "# Schreibe deinen Code unter diese Zeile:\n",
    "\n",
    "print(input(\"Gib irgendetwas ein:\"))"
   ],
   "outputs": [
    {
     "name": "stdout",
     "output_type": "stream",
     "text": [
      "Hi\n"
     ]
    }
   ],
   "execution_count": 5
  },
  {
   "cell_type": "markdown",
   "metadata": {},
   "source": [
    "## Übung 2: Mehrere Eingaben\n",
    "\n",
    "Lies den Namen und das Alter des Benutzers ein und gib sie in einem Satz aus. Stelle sicher, dass für das Alter nur Zahlen eingegeben werden können."
   ]
  },
  {
   "cell_type": "code",
   "metadata": {
    "ExecuteTime": {
     "end_time": "2024-11-28T18:06:06.061675Z",
     "start_time": "2024-11-28T18:05:59.741354Z"
    }
   },
   "source": [
    "# Schreibe deinen Code unter diese Zeile:\n",
    "\n",
    "name = input(\"Gib deinen Namen ein: \")\n",
    "alter = int(input(\"Gib dein Alter ein: \"))\n",
    "\n",
    "print(\"Hallo \" + name + \"! Du bist \" + str(alter) + \" Jahre alt.\")"
   ],
   "outputs": [
    {
     "name": "stdout",
     "output_type": "stream",
     "text": [
      "Hallo Alex! Du bist 23 Jahre alt.\n"
     ]
    }
   ],
   "execution_count": 6
  },
  {
   "cell_type": "markdown",
   "source": [
    "## Bonus Übung 1: Zahlenraten Spiel I\n",
    "Du möchtest, dass zwei Personen ein Zahlenratespiel spielen:\n",
    "- Frage Spieler 1 nach einer Zahl\n",
    "- Frage Spieler 2 nach einer Zahl\n",
    "- Gib dann beide Zahlen aus, damit sie sehen können, ob Spieler 2 die Zahl von Spieler 1 erraten hat"
   ],
   "metadata": {}
  },
  {
   "cell_type": "code",
   "source": [
    "# Schreibe deinen Code unter diese Zeile:\n",
    "\n",
    "zahl1 = input(\"Gib die erste Zahl ein:\")\n",
    "zahl2 = input(\"Gib die zweite Zahl ein:\")\n",
    "print(\"Zahl von Spieler 1:\", str(zahl1) + \", Zahl von Spieler 2:\", zahl2)"
   ],
   "metadata": {
    "ExecuteTime": {
     "end_time": "2024-11-28T18:06:09.721472Z",
     "start_time": "2024-11-28T18:06:06.065136Z"
    }
   },
   "outputs": [
    {
     "name": "stdout",
     "output_type": "stream",
     "text": [
      "Zahl von Spieler 1: 1, Zahl von Spieler 2: 2\n"
     ]
    }
   ],
   "execution_count": 7
  },
  {
   "cell_type": "markdown",
   "source": [
    "## Bonus Übung 2: Zahlenraten Spiel II\n",
    "Jetzt möchtest du das gleiche Spiel gegen den Computer spielen:\n",
    "Der Computer kann eine Zufallszahl in einem bestimmten Bereich zwischen 0 und <i>n-1</i> (=> [0,n) ) durch den Aufruf der Funktion `random.randrange(n)` generieren. Speichere diese Zahl in einer Variable wie bei den Zahlen im ersten Spiel.\n",
    "Mache das Gleiche wie in Bonus Übung 1, aber spiele jetzt gegen den Computer!"
   ],
   "metadata": {}
  },
  {
   "cell_type": "code",
   "source": [
    "import random\n",
    "# Schreibe deinen Code unter diese Zeile:\n",
    "\n",
    "n = 100\n",
    "computer_zahl = random.randrange(n+1)\n",
    "meine_zahl = input(\"Der Computer hat seine Zahl gewählt.\\n Bitte wähle deine Zahl: \")\n",
    "print(\"Die Zahl des Computers war\", str(computer_zahl) + \". \\nDeine Zahl war\", meine_zahl)"
   ],
   "metadata": {
    "ExecuteTime": {
     "end_time": "2024-11-28T18:06:12.798264Z",
     "start_time": "2024-11-28T18:06:09.723475Z"
    }
   },
   "outputs": [
    {
     "name": "stdout",
     "output_type": "stream",
     "text": [
      "Die Zahl des Computers war 96. \n",
      "Deine Zahl war 3\n"
     ]
    }
   ],
   "execution_count": 8
  },
  {
   "cell_type": "markdown",
   "source": [
    "## Feedback\n",
    "Bitte scanne den QR-Code unten, um uns dein Feedback zu **Kapitel 05: input-Funktion** zu geben\n",
    "![QR Code feedback](../pictures/feedbackQR.png)"
   ],
   "metadata": {}
  }
 ],
 "metadata": {
  "kernelspec": {
   "display_name": "base",
   "language": "python",
   "name": "python3"
  },
  "language_info": {
   "codemirror_mode": {
    "name": "ipython",
    "version": 3
   },
   "file_extension": ".py",
   "mimetype": "text/x-python",
   "name": "python",
   "nbconvert_exporter": "python",
   "pygments_lexer": "ipython3",
   "version": "3.10.8"
  }
 },
 "nbformat": 4,
 "nbformat_minor": 2
}
