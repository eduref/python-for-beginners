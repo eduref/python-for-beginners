{
 "cells": [
  {
   "cell_type": "markdown",
   "metadata": {},
   "source": [
    "# For-Schleifen\n",
    "\n",
    "Verwende For-Schleifen, um den gleichen Code mehrmals auszuführen:\n",
    "\n",
    "```python\n",
    "primzahlen = [2, 3, 5, 7, 11, 13, 17, 19]\n",
    "for (primzahl in primzahlen):\n",
    "  # Der gesamte Code in diesem Block wird für jede Primzahl ausgeführt\n",
    "  print(primzahl)\n",
    "  # Er läuft 8 mal\n",
    "\n",
    "print(len(primzahlen)) # 8, wird nur einmal ausgegeben\n",
    "```\n",
    "\n",
    "```diff\n",
    "Achte auf die korrekte Einrückung:\n",
    "  Der Code innerhalb sollte zwei Leerzeichen eingerückt sein wie hier\n",
    "und nicht wie hier\n",
    "```\n"
   ]
  },
  {
   "cell_type": "markdown",
   "metadata": {},
   "source": [
    "## Übung 1: Liste von Zahlen summieren\n",
    "\n",
    "Summiere alle Zahlen in der Liste.\n",
    "\n",
    "Gib dann die Summe aus."
   ]
  },
  {
   "cell_type": "code",
   "metadata": {
    "ExecuteTime": {
     "end_time": "2024-11-28T18:57:48.118724Z",
     "start_time": "2024-11-28T18:57:48.113124Z"
    }
   },
   "source": [
    "# Summiere diese Zahlen\n",
    "zahlen = [10, 12, -3, 4, 9, 53, -1]\n",
    "\n",
    "# Schreibe deinen Code unter diese Zeile\n",
    "\n",
    "# 1. Erstelle eine Variable für die Summe\n",
    "summe = 0\n",
    "# 2. Für jede Zahl ...\n",
    "for zahl in zahlen:\n",
    "  # ... addiere sie zur Summe\n",
    "  summe += zahl\n",
    "\n",
    "# 3. Gib die Gesamtsumme aus\n",
    "print(summe)"
   ],
   "outputs": [
    {
     "name": "stdout",
     "output_type": "stream",
     "text": [
      "84\n"
     ]
    }
   ],
   "execution_count": 1
  },
  {
   "cell_type": "markdown",
   "metadata": {},
   "source": [
    "## Range (Bereich)\n",
    "\n",
    "Verwende die range-Funktion um durch alle Zahlen in einem Bereich zu iterieren:\n",
    "\n",
    "```python\n",
    "for i in range(0, 10):\n",
    "  print(i)\n",
    "```\n",
    "\n",
    "Dieser Code gibt 0, 1, 2, 3, 4, 5, 6, 7, 8, 9 aus (aber nicht 10)!"
   ]
  },
  {
   "cell_type": "markdown",
   "metadata": {},
   "source": [
    "## Übung 2: Gerade Zahlen\n",
    "\n",
    "Prüfe alle Zahlen von 10 bis 30.\n",
    "\n",
    "Gib alle geraden Zahlen aus. Ignoriere alle ungeraden Zahlen."
   ]
  },
  {
   "cell_type": "code",
   "metadata": {
    "ExecuteTime": {
     "end_time": "2024-11-28T18:57:48.122688Z",
     "start_time": "2024-11-28T18:57:48.120128Z"
    }
   },
   "source": [
    "# Schreibe deinen Code unter diese Zeile\n",
    "\n",
    "# 1. Für alle Zahlen zwischen 10 und (einschließlich) 30\n",
    "for i in range(10, 31):\n",
    "  # 2. Prüfe ob die Zahl gerade ist\n",
    "  if i % 2 == 0:\n",
    "    # 3. Wenn sie gerade ist, gib sie aus\n",
    "    print(i)"
   ],
   "outputs": [
    {
     "name": "stdout",
     "output_type": "stream",
     "text": [
      "10\n",
      "12\n",
      "14\n",
      "16\n",
      "18\n",
      "20\n",
      "22\n",
      "24\n",
      "26\n",
      "28\n",
      "30\n"
     ]
    }
   ],
   "execution_count": 2
  },
  {
   "cell_type": "markdown",
   "metadata": {},
   "source": [
    "## For-Schleifen und Wörterbücher kombinieren\n",
    "\n",
    "Mit der .keys()-Funktion eines Wörterbuchs kannst du Code für alle Schlüssel eines Wörterbuchs schreiben.\n",
    "\n",
    "Zum Beispiel gibt der folgende Code alle Essensarten mit ihrer Bewertung aus:\n",
    "```python\n",
    "# Essen und ihre Bewertungen\n",
    "lieblingsessen = {\n",
    "    \"pizza\": 4.5,\n",
    "    \"sushi\": 5,\n",
    "    \"burger\": 4,\n",
    "    \"taco\": 3.5,\n",
    "    \"pasta\": 4\n",
    "}\n",
    "\n",
    "# Gib alles Essen aus\n",
    "for essen in lieblingsessen.keys():\n",
    "    print(essen)\n",
    "```"
   ]
  },
  {
   "cell_type": "markdown",
   "metadata": {},
   "source": [
    "## Übung 3: Spieler-Bewertungen\n",
    "\n",
    "Gib alle Spielernamen mit ihrer Bewertung aus.\n",
    "\n",
    "Der Schlüssel ist der Spielername, die Bewertung ist die Zahl."
   ]
  },
  {
   "cell_type": "code",
   "metadata": {
    "ExecuteTime": {
     "end_time": "2024-11-28T18:57:48.128097Z",
     "start_time": "2024-11-28T18:57:48.123991Z"
    }
   },
   "source": [
    "bewertungen = {\n",
    "  \"Spieler242\": 400,\n",
    "  \"Spieler801\": 200,\n",
    "  \"Spieler992\": 750,\n",
    "  \"Spieler623\": 630,\n",
    "}\n",
    "\n",
    "# Schreibe deinen Code unter diese Zeile\n",
    "# 1. Für jede Bewertung:\n",
    "for spielername in bewertungen.keys():\n",
    "  # 2. Gib den Spielernamen und ihre Bewertung aus\n",
    "  print(spielername + \": \" + str(bewertungen[spielername]))\n"
   ],
   "outputs": [
    {
     "name": "stdout",
     "output_type": "stream",
     "text": [
      "Spieler242: 400\n",
      "Spieler801: 200\n",
      "Spieler992: 750\n",
      "Spieler623: 630\n"
     ]
    }
   ],
   "execution_count": 3
  },
  {
   "cell_type": "markdown",
   "metadata": {},
   "source": [
    "## For-Schleife über Zeichenketten\n",
    "\n",
    "Du kannst Code schreiben, der für jedes Zeichen in einer Zeichenkette ausgeführt wird:\n",
    "\n",
    "```python\n",
    "beispiel = \"zeichenkette\"\n",
    "for zeichen in beispiel:\n",
    "  # Gib jedes Zeichen in einer neuen Zeile aus\n",
    "  print(zeichen)\n",
    "```\n",
    "\n",
    "Für die For-Schleife ist eine Zeichenkette wie eine Liste ihrer Zeichen."
   ]
  },
  {
   "cell_type": "markdown",
   "metadata": {},
   "source": [
    "## Übung 4: Zeichen verdoppeln\n",
    "\n",
    "Lies eine Zeichenkette vom Benutzer ein.\n",
    "Erstelle eine neue leere Zeichenkette.\n",
    "Schreibe für jedes Zeichen in der Eingabe-Zeichenkette das Zeichen zweimal in die neue Zeichenkette:\n",
    "\n",
    "Eingabe: Abcdefg\n",
    "Ausgabe: AAbbccddeeffgg"
   ]
  },
  {
   "cell_type": "code",
   "metadata": {
    "ExecuteTime": {
     "end_time": "2024-11-28T18:57:50.783047Z",
     "start_time": "2024-11-28T18:57:48.129671Z"
    }
   },
   "source": [
    "# Schreibe deinen Code unter diese Zeile\n",
    "# 1. Frage nach Benutzereingabe\n",
    "benutzer_text = input(\"Gib eine Zeichenkette ein: \")\n",
    "\n",
    "# 2. Initialisiere eine leere Zeichenkette für die veränderte Ausgabe\n",
    "verdoppelter_text = \"\"\n",
    "\n",
    "# 3. Wiederhole jedes Zeichen in der Eingabe-Zeichenkette\n",
    "for zeichen in benutzer_text:\n",
    "    verdoppelter_text += zeichen * 2\n",
    "\n",
    "# 4. Zeige die veränderte Zeichenkette\n",
    "print(\"Ursprüngliche Zeichenkette: \"+benutzer_text)\n",
    "print(\"Neue Zeichenkette: \"+verdoppelter_text)"
   ],
   "outputs": [
    {
     "name": "stdout",
     "output_type": "stream",
     "text": [
      "Ursprüngliche Zeichenkette: Hallo\n",
      "Neue Zeichenkette: HHaalllloo\n"
     ]
    }
   ],
   "execution_count": 4
  },
  {
   "cell_type": "markdown",
   "metadata": {},
   "source": [
    "## Schleifen steuern: break und continue\n",
    "\n",
    "Break stoppt die For-Schleife sofort:\n",
    "\n",
    "```py\n",
    "# Stoppe sofort, wenn du eine Null siehst\n",
    "zahlen = [1, 2, 3, 0, 5]\n",
    "for zahl in zahlen:\n",
    "  if zahl == 0:\n",
    "    break\n",
    "  # Die Zahl ist nicht Null, also können wir durch sie teilen\n",
    "  print(1 / zahl)\n",
    "```\n",
    "\n",
    "Continue ignoriert das aktuelle Element und geht sofort zum nächsten Element.\n",
    "\n",
    "```py\n",
    "# Zähle die Leerzeichen in einer Zeichenkette\n",
    "text = \"Dieser Text hat Leerzeichen\"\n",
    "nicht_leere_zeichen = 0\n",
    "for zeichen in text:\n",
    "  if zeichen == ' ':\n",
    "    continue # Dies stoppt die Schleife nicht, es geht nur zum nächsten Element!\n",
    "  nicht_leere_zeichen += 1\n",
    "print(nicht_leere_zeichen + \" Zeichen sind nicht leer\")\n",
    "```"
   ]
  },
  {
   "cell_type": "markdown",
   "metadata": {},
   "source": [
    "## Übung 5: Ratespiel\n",
    "\n",
    "Der Spieler muss eine Zahl zwischen eins und zehn erraten.\n",
    "\n",
    "1. Setze die Zielzahl auf eine Zahl zwischen 1 und 10\n",
    "2. Gib dem Spieler drei Versuche. Für jeden Versuch:\n",
    "3. Frage den Spieler nach seinem Tipp\n",
    "4. Wenn der Tipp kleiner als eins oder größer als 10 ist, sage dem Spieler, er soll es mit einer neuen Zahl versuchen und ignoriere seine alte Eingabe\n",
    "5. Wenn der Tipp die Zielzahl ist, sage dem Spieler, dass er gewonnen hat und beende die Schleife\n",
    "6. Wenn der Tipp nicht die Zielzahl ist, sage dem Spieler, dass er es noch einmal versuchen soll"
   ]
  },
  {
   "cell_type": "code",
   "metadata": {
    "ExecuteTime": {
     "end_time": "2024-11-28T18:57:53.915037Z",
     "start_time": "2024-11-28T18:57:50.787020Z"
    }
   },
   "source": [
    "# Schreibe deinen Code unter diese Zeile\n",
    "# 1. Setze die Zielzahl\n",
    "zielzahl = 7\n",
    "\n",
    "# 2. Für jeden der drei Versuche:\n",
    "for _ in range(3):\n",
    "    # 3. Frage nach der Eingabe\n",
    "    tipp = int(input(\"Rate eine Zahl zwischen 1 und 10: \"))\n",
    "\n",
    "    # 4. Teste ob die Eingabe im erlaubten Bereich liegt\n",
    "    if tipp < 1 or tipp > 10:\n",
    "        print(\"Bitte gib eine Zahl zwischen 1 und 10 ein.\")\n",
    "        continue # Frage nach einer neuen Zahl wenn sie nicht im Bereich liegt\n",
    "    \n",
    "    # 5. Teste ob die Eingabe die richtige Zahl ist\n",
    "    if tipp == zielzahl:\n",
    "        print(\"Glückwunsch! Du hast die richtige Zahl erraten!\")\n",
    "        break # Beende die Schleife - kein Grund den Spieler nochmal zu fragen wenn er bereits gewonnen hat\n",
    "    # 6. Andernfalls sage dem Spieler, er soll es nochmal versuchen\n",
    "    else:\n",
    "        print(\"Falscher Tipp. Versuche es nochmal.\")\n"
   ],
   "outputs": [
    {
     "name": "stdout",
     "output_type": "stream",
     "text": [
      "Falscher Tipp. Versuche es nochmal.\n",
      "Falscher Tipp. Versuche es nochmal.\n",
      "Falscher Tipp. Versuche es nochmal.\n"
     ]
    }
   ],
   "execution_count": 5
  },
  {
   "cell_type": "markdown",
   "metadata": {},
   "source": [
    "## Bonus-Übung 1: Durchschnitt von Zahlen\n",
    "\n",
    "Verändere deinen Code aus Übung 1, um den Durchschnitt der Zahlen zu berechnen."
   ]
  },
  {
   "cell_type": "code",
   "metadata": {
    "ExecuteTime": {
     "end_time": "2024-11-28T18:57:53.926229Z",
     "start_time": "2024-11-28T18:57:53.917385Z"
    }
   },
   "source": [
    "# Summiere diese Zahlen\n",
    "zahlen = [10, 12, -3, 4, 9, 53, -1]\n",
    "\n",
    "# Schreibe deinen Code unter diese Zeile\n",
    "\n",
    "# 1. Erstelle eine Variable für die Summe\n",
    "summe = 0\n",
    "# 2. Für jede Zahl ...\n",
    "for zahl in zahlen:\n",
    "  # ... addiere sie zur Summe\n",
    "  summe += zahl\n",
    "\n",
    "# 3. Gib den Durchschnitt aus\n",
    "print(summe / len(zahlen))"
   ],
   "outputs": [
    {
     "name": "stdout",
     "output_type": "stream",
     "text": [
      "12.0\n"
     ]
    }
   ],
   "execution_count": 6
  },
  {
   "cell_type": "markdown",
   "metadata": {},
   "source": [
    "## Bonus-Übung 2: Fizz Buzz\n",
    "\n",
    "Fizz Buzz ist ein Kinderspiel. Du zählst von eins hoch und gibst die Zahl aus:\n",
    "\n",
    "1\n",
    "2\n",
    "\n",
    "Wenn die Zahl durch drei teilbar ist, gib stattdessen \"Fizz\" aus:\n",
    "\n",
    "1\n",
    "2\n",
    "Fizz\n",
    "4\n",
    "\n",
    "Wenn die Zahl durch fünf teilbar ist, gib stattdessen Buzz aus:\n",
    "\n",
    "1\n",
    "2\n",
    "Fizz\n",
    "4\n",
    "Buzz\n",
    "Fizz\n",
    "7\n",
    "8\n",
    "Fizz\n",
    "Buzz\n",
    "\n",
    "Wenn sie durch drei und fünf teilbar ist, gib FizzBuzz aus:\n",
    "\n",
    "...\n",
    "13\n",
    "14\n",
    "FizzBuzz\n",
    "16\n",
    "17\n",
    "Fizz\n",
    "...\n",
    "\n",
    "Beginne bei eins und gib alle Zahlen bis 100 in diesem Format aus."
   ]
  },
  {
   "cell_type": "code",
   "metadata": {
    "ExecuteTime": {
     "end_time": "2024-11-28T18:57:53.935749Z",
     "start_time": "2024-11-28T18:57:53.928455Z"
    }
   },
   "source": [
    "# Schreibe deinen Code unter diese Zeile\n",
    "\n",
    "for i in range(1, 101):\n",
    "    # Prüfe auf Teilbarkeit durch 3 und 5 durch Prüfung auf Teilbarkeit durch 15\n",
    "    # Diese Prüfung muss *vor* den anderen kommen\n",
    "    if i % 15 == 0:\n",
    "        print(\"FizzBuzz\")\n",
    "    elif i % 5 == 0:\n",
    "        print(\"Buzz\")\n",
    "    elif i % 3 == 0:\n",
    "        print(\"Fizz\")\n",
    "    else:\n",
    "        print(str(i))\n"
   ],
   "outputs": [
    {
     "name": "stdout",
     "output_type": "stream",
     "text": [
      "1\n",
      "2\n",
      "Fizz\n",
      "4\n",
      "Buzz\n",
      "Fizz\n",
      "7\n",
      "8\n",
      "Fizz\n",
      "Buzz\n",
      "11\n",
      "Fizz\n",
      "13\n",
      "14\n",
      "FizzBuzz\n",
      "16\n",
      "17\n",
      "Fizz\n",
      "19\n",
      "Buzz\n",
      "Fizz\n",
      "22\n",
      "23\n",
      "Fizz\n",
      "Buzz\n",
      "26\n",
      "Fizz\n",
      "28\n",
      "29\n",
      "FizzBuzz\n",
      "31\n",
      "32\n",
      "Fizz\n",
      "34\n",
      "Buzz\n",
      "Fizz\n",
      "37\n",
      "38\n",
      "Fizz\n",
      "Buzz\n",
      "41\n",
      "Fizz\n",
      "43\n",
      "44\n",
      "FizzBuzz\n",
      "46\n",
      "47\n",
      "Fizz\n",
      "49\n",
      "Buzz\n",
      "Fizz\n",
      "52\n",
      "53\n",
      "Fizz\n",
      "Buzz\n",
      "56\n",
      "Fizz\n",
      "58\n",
      "59\n",
      "FizzBuzz\n",
      "61\n",
      "62\n",
      "Fizz\n",
      "64\n",
      "Buzz\n",
      "Fizz\n",
      "67\n",
      "68\n",
      "Fizz\n",
      "Buzz\n",
      "71\n",
      "Fizz\n",
      "73\n",
      "74\n",
      "FizzBuzz\n",
      "76\n",
      "77\n",
      "Fizz\n",
      "79\n",
      "Buzz\n",
      "Fizz\n",
      "82\n",
      "83\n",
      "Fizz\n",
      "Buzz\n",
      "86\n",
      "Fizz\n",
      "88\n",
      "89\n",
      "FizzBuzz\n",
      "91\n",
      "92\n",
      "Fizz\n",
      "94\n",
      "Buzz\n",
      "Fizz\n",
      "97\n",
      "98\n",
      "Fizz\n",
      "Buzz\n"
     ]
    }
   ],
   "execution_count": 7
  },
  {
   "cell_type": "markdown",
   "metadata": {},
   "source": [
    "## Bonus-Übung 3: Finde den Highscore\n",
    "\n",
    "Finde den Spieler mit der höchsten Punktzahl und gib seinen Namen und Punktzahl aus.\n",
    "\n",
    "Um den Highscore zu finden, gehe durch die Daten und speichere den höchsten Punktestand, den du bisher gesehen hast. Wenn die Schleife eine Punktzahl sieht, die höher als der aktuelle Highscore ist, aktualisiere den aktuellen Highscore und speichere den Spieler, der die Punktzahl erreicht hat.\n",
    "\n",
    "Nachdem die Schleife beendet ist, gib den Spielernamen und seine Punktzahl aus."
   ]
  },
  {
   "cell_type": "code",
   "metadata": {
    "ExecuteTime": {
     "end_time": "2024-11-28T18:57:53.944846Z",
     "start_time": "2024-11-28T18:57:53.939336Z"
    }
   },
   "source": [
    "bewertungen = {\n",
    "  \"Spieler242\": 400,\n",
    "  \"Spieler801\": 200,\n",
    "  \"Spieler992\": 750,\n",
    "  \"Spieler623\": 630,\n",
    "}\n",
    "\n",
    "# Schreibe deinen Code unter diese Zeile\n",
    "# Erstelle Variablen für den Highscore\n",
    "highscore = 0\n",
    "bester_spieler = \"\"\n",
    "\n",
    "for spielername in bewertungen.keys():\n",
    "  # Wenn der aktuelle Spieler besser ist als der Highscore:\n",
    "  if bewertungen[spielername] > highscore:\n",
    "    # Aktualisiere den Highscore auf den aktuellen Spieler\n",
    "    highscore = bewertungen[spielername]\n",
    "    bester_spieler = spielername\n",
    "\n",
    "# Gib den Spieler mit dem Highscore aus\n",
    "print(bester_spieler + \" hat den höchsten Punktestand: \" + str(highscore))"
   ],
   "outputs": [
    {
     "name": "stdout",
     "output_type": "stream",
     "text": [
      "Spieler992 hat den höchsten Punktestand: 750\n"
     ]
    }
   ],
   "execution_count": 8
  },
  {
   "cell_type": "markdown",
   "metadata": {},
   "source": [
    "# Bonus-Übung 4: Palindrome\n",
    "\n",
    "Ein Palindrom ist eine Zeichenkette, die vorwärts und rückwärts gleich gelesen wird. Hier sind einige Beispiele: otto, anna, radar, 123454321, ....\n",
    "\n",
    "Um zu prüfen, ob eine Zeichenkette ein Palindrom ist, musst du das erste Zeichen mit dem letzten, das 2. mit dem vorletzten usw. vergleichen:\n",
    "\n",
    "```\n",
    "a n n a\n",
    "| | | | \n",
    "a  =  a\n",
    "  n=n\n",
    "\n",
    "a l l e\n",
    "a =/= e, daher ist alle kein Palindrom\n",
    "```\n",
    "\n",
    "Eine andere Möglichkeit die Zeichenkette zu prüfen ist, zunächst die umgekehrte Zeichenkette zu erstellen und dann zu prüfen, ob sie (die ursprüngliche und die umgekehrte) gleich sind.\n",
    "\n",
    "Dein Code soll den Benutzer nach einer zu prüfenden Zeichenkette fragen."
   ]
  },
  {
   "cell_type": "code",
   "metadata": {
    "ExecuteTime": {
     "end_time": "2024-11-28T18:57:57.265169Z",
     "start_time": "2024-11-28T18:57:53.947031Z"
    }
   },
   "source": [
    "# Schreibe deinen Code unter diese Zeile\n",
    "\n",
    "zu_pruefen = input(\"Bitte gib die zu prüfende Zeichenkette ein: \")\n",
    "\n",
    "# Mit Hilfe der umgekehrten Zeichenkette\n",
    "umgekehrter_text = \"\"\n",
    "for zeichen in zu_pruefen:\n",
    "    umgekehrter_text = zeichen + umgekehrter_text\n",
    "\n",
    "if umgekehrter_text == zu_pruefen:\n",
    "    print(\"Die Zeichenkette \"+zu_pruefen+\" ist ein Palindrom\")\n",
    "else:\n",
    "    print(\"Die Zeichenkette \"+zu_pruefen+\" ist kein Palindrom\")\n",
    "\n",
    "# Vergleichen der Zeichen:\n",
    "# Nimm an, es ist ein Palindrom bis wir ein falsches Zeichen finden:\n",
    "ist_palindrom = True\n",
    "# Teste alle Zeichenpaare bis zur Mitte der Zeichenkette\n",
    "for start_index in range(0, 1 + int(len(zu_pruefen) / 2)):\n",
    "    # Mit dem Start-Index (das erste Zeichen) finde heraus, wo das zweite Zeichen ist\n",
    "    end_index = len(zu_pruefen) - start_index - 1\n",
    "    if zu_pruefen[start_index] != zu_pruefen[end_index]:\n",
    "        # Wenn sie nicht übereinstimmen, ist die Zeichenkette kein Palindrom\n",
    "        ist_palindrom = False\n",
    "        break\n",
    "\n",
    "if ist_palindrom:\n",
    "    print(\"Die Zeichenkette \"+zu_pruefen+\" ist ein Palindrom\")\n",
    "else:\n",
    "    print(\"Die Zeichenkette \"+zu_pruefen+\" ist kein Palindrom\")"
   ],
   "outputs": [
    {
     "name": "stdout",
     "output_type": "stream",
     "text": [
      "Die Zeichenkette Hallo ist kein Palindrom\n",
      "Die Zeichenkette Hallo ist kein Palindrom\n"
     ]
    }
   ],
   "execution_count": 9
  },
  {
   "cell_type": "markdown",
   "metadata": {},
   "source": [
    "## Bonus-Übung 5: Primzahlen\n",
    "\n",
    "*Diese Bonus-Übung ist recht schwierig. Lass dich nicht entmutigen, wenn du sie nicht lösen kannst.*\n",
    "\n",
    "Gib alle Primzahlen zwischen 2 und 100 aus.\n",
    "\n",
    "Eine Zahl ist prim, wenn sie nur durch eins und sich selbst teilbar ist. Um zu prüfen, ob eine Zahl prim ist, musst du also für alle kleineren Zahlen prüfen, ob die große Zahl durch die kleine Zahl teilbar ist.\n",
    "\n",
    "Nur wenn die Zahl durch keine kleinere Zahl (außer eins natürlich) teilbar ist, gib sie aus.\n",
    "\n",
    "Um dies für alle kleineren Zahlen zu prüfen, brauchst du eine zweite For-Schleife innerhalb der ersten For-Schleife. Die zweite Schleife läuft wieder für jede Zahl der ersten Schleife. Denk daran, den Code in der zweiten Schleife zweimal einzurücken - einmal für die erste Schleife und noch einmal für die zweite Schleife"
   ]
  },
  {
   "cell_type": "code",
   "metadata": {
    "ExecuteTime": {
     "end_time": "2024-11-28T18:57:57.275816Z",
     "start_time": "2024-11-28T18:57:57.267551Z"
    }
   },
   "source": [
    "# Schreibe deinen Code unter diese Zeile\n",
    "# Für jede Zahl...\n",
    "for i in range(2, 101):\n",
    "    ist_primzahl = True\n",
    "\n",
    "    # Prüfe ob i durch irgendeine Zahl j kleiner als i teilbar ist:\n",
    "    for j in range(2, i):\n",
    "        # Wenn sie teilbar ist...\n",
    "        if i % j == 0:\n",
    "            # i ist durch j teilbar und ist daher keine Primzahl\n",
    "            ist_primzahl = False\n",
    "    if ist_primzahl:\n",
    "        # Gib die Zahl nur aus wenn sie prim ist\n",
    "        print(i)"
   ],
   "outputs": [
    {
     "name": "stdout",
     "output_type": "stream",
     "text": [
      "2\n",
      "3\n",
      "5\n",
      "7\n",
      "11\n",
      "13\n",
      "17\n",
      "19\n",
      "23\n",
      "29\n",
      "31\n",
      "37\n",
      "41\n",
      "43\n",
      "47\n",
      "53\n",
      "59\n",
      "61\n",
      "67\n",
      "71\n",
      "73\n",
      "79\n",
      "83\n",
      "89\n",
      "97\n"
     ]
    }
   ],
   "execution_count": 10
  },
  {
   "cell_type": "markdown",
   "source": [
    "## Feedback\n",
    "Bitte scanne den QR-Code unten, um uns dein Feedback zu **Kapitel 11: For-Schleifen** zu geben\n",
    "![QR Code feedback](../pictures/feedbackQR.png)"
   ],
   "metadata": {
    "collapsed": false
   }
  }
 ],
 "metadata": {
  "kernelspec": {
   "display_name": "Python 3",
   "language": "python",
   "name": "python3"
  },
  "language_info": {
   "codemirror_mode": {
    "name": "ipython",
    "version": 3
   },
   "file_extension": ".py",
   "mimetype": "text/x-python",
   "name": "python",
   "nbconvert_exporter": "python",
   "pygments_lexer": "ipython3",
   "version": "3.11.6"
  }
 },
 "nbformat": 4,
 "nbformat_minor": 2
}
