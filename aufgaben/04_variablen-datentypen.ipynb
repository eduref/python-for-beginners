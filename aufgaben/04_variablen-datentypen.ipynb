{
 "cells": [
  {
   "cell_type": "markdown",
   "metadata": {
    "collapsed": false
   },
   "source": [
    "# Variablen und Datentypen\n"
   ]
  },
  {
   "cell_type": "markdown",
   "metadata": {
    "collapsed": false
   },
   "source": [
    "## Variablen\n",
    "Variablen helfen uns, Informationen in unserem Code zu speichern und wiederzuverwenden.\n",
    "```py\n",
    "vorname = \"Gertrud\"\n",
    "nachname = \"Zimmermann\"\n",
    "print(vorname)\n",
    "print(nachname)\n",
    "```\n",
    "```pycon\n",
    "Gertrud\n",
    "Zimmermann\n",
    "```"
   ]
  },
  {
   "cell_type": "markdown",
   "metadata": {
    "collapsed": false
   },
   "source": [
    "## Übung 1:\n",
    "Speichere deinen Vornamen, Nachnamen und dein Alter als Text/Zahlen in Variablen namens:\n",
    "- ``vorname``\n",
    "- ``nachname``\n",
    "- ``alter``\n",
    "\n",
    "und gib jede Variable aus."
   ]
  },
  {
   "cell_type": "code",
   "metadata": {
    "ExecuteTime": {
     "end_time": "2024-11-28T18:04:50.696992Z",
     "start_time": "2024-11-28T18:04:50.691806Z"
    }
   },
   "source": [
    "# Schreibe deinen Code unter diese Zeile:\n",
    "vorname = \"Hildegard\"\n",
    "nachname = \"Müller\"\n",
    "alter = 65\n",
    "print(vorname)\n",
    "print(nachname)\n",
    "print(alter)"
   ],
   "outputs": [
    {
     "name": "stdout",
     "output_type": "stream",
     "text": [
      "Hildegard\n",
      "Müller\n",
      "65\n"
     ]
    }
   ],
   "execution_count": 1
  },
  {
   "cell_type": "markdown",
   "metadata": {},
   "source": [
    "## Mehrere Variablen ausgeben I\n",
    "Wir können mehrere Variablen in einem print-Befehl ausgeben, indem wir sie mit Kommas trennen:\n",
    "```python\n",
    "print(vorname, nachname)\n",
    "```\n",
    "```pycon\n",
    "Gertrud Zimmermann\n",
    "```"
   ]
  },
  {
   "cell_type": "markdown",
   "metadata": {},
   "source": [
    "## Übung 2:\n",
    "Gib deinen Vor- und Nachnamen in einer Zeile aus. Verwende dafür die Variablen `vorname` und `nachname`, die du in `Übung 1` erstellt hast."
   ]
  },
  {
   "cell_type": "code",
   "metadata": {
    "ExecuteTime": {
     "end_time": "2024-11-28T18:04:50.700674Z",
     "start_time": "2024-11-28T18:04:50.698567Z"
    }
   },
   "source": [
    "# Schreibe deinen Code unter diese Zeile:\n",
    "print(vorname, nachname)"
   ],
   "outputs": [
    {
     "name": "stdout",
     "output_type": "stream",
     "text": [
      "Hildegard Müller\n"
     ]
    }
   ],
   "execution_count": 2
  },
  {
   "cell_type": "markdown",
   "metadata": {},
   "source": [
    "## Mehrere Variablen ausgeben II\n",
    "Wir können Text zusammen mit Variablen in einem print-Befehl ausgeben:\n",
    "\n",
    "```python\n",
    "print(\"Ich bin\", vorname, nachname)\n",
    "```\n",
    "```pycon\n",
    "Ich bin Gertrud Zimmermann\n",
    "```"
   ]
  },
  {
   "cell_type": "markdown",
   "metadata": {},
   "source": [
    "## Übung 3:\n",
    "Stelle dich vor, indem du Folgendes ausgibst:\n",
    "\n",
    "``Hallo! Ich heiße <dein Name> und bin <dein Alter> Jahre alt.``\n",
    "\n",
    "Verwende die Variablen aus `Übung 1`!\n"
   ]
  },
  {
   "cell_type": "code",
   "metadata": {
    "ExecuteTime": {
     "end_time": "2024-11-28T18:04:50.704124Z",
     "start_time": "2024-11-28T18:04:50.701707Z"
    }
   },
   "source": [
    "# Schreibe deinen Code unter diese Zeile:\n",
    "print(\"Hallo! Ich heiße\", vorname, nachname, \"und bin\", alter, \"Jahre alt.\")\n",
    "# oder mit Textzusammenführung:\n",
    "print(\"Hallo! Ich heiße\", vorname + ' ' + nachname, \"und bin\", alter, \"Jahre alt.\")"
   ],
   "outputs": [
    {
     "name": "stdout",
     "output_type": "stream",
     "text": [
      "Hallo! Ich heiße Hildegard Müller und bin 65 Jahre alt.\n",
      "Hallo! Ich heiße Hildegard Müller und bin 65 Jahre alt.\n"
     ]
    }
   ],
   "execution_count": 3
  },
  {
   "cell_type": "markdown",
   "metadata": {},
   "source": [
    "## Datentypen\n",
    "Wir lernen zunächst drei verschiedene Datentypen in Python kennen:\n",
    "- Zeichenketten (Strings): stellen Text dar (`\"hallo\"`)\n",
    "- Ganzzahlen (Integer): stellen ganze Zahlen dar (`2010`)\n",
    "- Fließkommazahlen (Floats): stellen Dezimalzahlen dar (`99.99`)"
   ]
  },
  {
   "cell_type": "markdown",
   "metadata": {},
   "source": [
    "## Übung 4:\n",
    "\n",
    "Ordne die folgenden Werte den richtigen Datentypen zu:\n",
    "#### Werte\n",
    "```python\n",
    "\"hallo welt\"\n",
    "100.111\n",
    "100\n",
    "# ordne nun die restlichen Werte zu!\n",
    "101235.5\n",
    "46\n",
    "\"505\"\n",
    "0.0\n",
    "10\n",
    "\"c\"\n",
    "```"
   ]
  },
  {
   "cell_type": "code",
   "metadata": {
    "ExecuteTime": {
     "end_time": "2024-11-28T18:04:50.707142Z",
     "start_time": "2024-11-28T18:04:50.704855Z"
    }
   },
   "source": [
    "# ordne die Werte von oben den richtigen Variablen zu\n",
    "\n",
    "text_1 = \"hallo welt\"\n",
    "text_2 = \"c\"\n",
    "text_3 = \"505\"\n",
    "\n",
    "ganzzahl_1 = 100\n",
    "ganzzahl_2 = 10\n",
    "ganzzahl_3 = 46\n",
    "\n",
    "kommazahl_1 = 101235.5\n",
    "kommazahl_2 = 100.111\n",
    "kommazahl_3 = 0.0"
   ],
   "outputs": [],
   "execution_count": 4
  },
  {
   "cell_type": "markdown",
   "metadata": {},
   "source": [
    "## Datentypen II\n",
    "Ein Beispiel für die Zuweisung von Werten zu Variablen:\n",
    "```python\n",
    "standard_müsli_preis = 0.99 #Preis in Euro als Kommazahl\n",
    "```"
   ]
  },
  {
   "cell_type": "markdown",
   "metadata": {},
   "source": [
    "## Übung 5:\n",
    "Du gehst heute Abend einkaufen und möchtest zwei verschiedene Müslis kaufen:\n",
    "- Kölln Müsli\n",
    "    - Preis: 1.99\n",
    "    - Menge: 1\n",
    "    - Name: \"Kölln Müsli\"\n",
    "- Seitenbacher Müsli\n",
    "    - Preis: 5.49\n",
    "    - Menge: 2\n",
    "    - Name: \"Seitenbacher Müsli\"\n",
    "\n",
    "Speichere Preis, Menge und Namen der beiden Müslis in passend benannten Variablen und füge den entsprechenden Datentyp als Kommentar hinzu.\n"
   ]
  },
  {
   "cell_type": "code",
   "metadata": {
    "ExecuteTime": {
     "end_time": "2024-11-28T18:04:50.711128Z",
     "start_time": "2024-11-28T18:04:50.708659Z"
    }
   },
   "source": [
    "# Schreibe deinen Code unter diese Zeile:\n",
    "koelln_preis = 1.99 #float\n",
    "koelln_menge = 1 #integer\n",
    "koelln_name = \"Kölln Müsli\" #string\n",
    "\n",
    "seitenbacher_preis = 5.49 #float\n",
    "seitenbacher_menge = 2 #integer\n",
    "seitenbacher_name = \"Seitenbacher Müsli\" #string"
   ],
   "outputs": [],
   "execution_count": 5
  },
  {
   "cell_type": "markdown",
   "metadata": {},
   "source": [
    "## Zusatzübungen"
   ]
  },
  {
   "cell_type": "markdown",
   "metadata": {},
   "source": [
    "## Zusatzübung 1\n",
    "Speichere die Namen von 5 Schauspieler/innen in Variablen und benenne diese entsprechend."
   ]
  },
  {
   "cell_type": "code",
   "metadata": {
    "ExecuteTime": {
     "end_time": "2024-11-28T18:04:50.714464Z",
     "start_time": "2024-11-28T18:04:50.711989Z"
    }
   },
   "source": [
    "# Schreibe deinen Code unter diese Zeile:\n",
    "schauspieler_1 = \"Brad Pitt\"\n",
    "schauspieler_2 = \"Matthew Perry\"\n",
    "schauspieler_3 = \"Emma Stone\"\n",
    "schauspieler_4 = \"George Clooney\"\n",
    "schauspieler_5 = \"Jennifer Aniston\""
   ],
   "outputs": [],
   "execution_count": 6
  },
  {
   "cell_type": "markdown",
   "metadata": {},
   "source": [
    "## Zusatzübung 2\n",
    "Gib den Satz `Dies ist der EduRef Python Grundlagen Kurs!` in einer Zeile aus und verwende dabei alle vordefinierten Variablen."
   ]
  },
  {
   "cell_type": "code",
   "metadata": {
    "ExecuteTime": {
     "end_time": "2024-11-28T18:04:50.718430Z",
     "start_time": "2024-11-28T18:04:50.715518Z"
    }
   },
   "source": [
    "# Ändere diesen Teil des Codes nicht\n",
    "var_1 = \"Dies\"\n",
    "var_2 = \"!\"\n",
    "var_3 = \"Kurs\"\n",
    "var_4 = \" \"\n",
    "var_5 = \"EduRef Python Grundlagen\"\n",
    "var_6 = \"ist der\"\n",
    "\n",
    "# Schreibe deinen Code unter diese Zeile:\n",
    "print(var_1, var_6, var_5 + var_4 + var_3 + var_2)"
   ],
   "outputs": [
    {
     "name": "stdout",
     "output_type": "stream",
     "text": [
      "Dies ist der EduRef Python Grundlagen Kurs!\n"
     ]
    }
   ],
   "execution_count": 7
  },
  {
   "cell_type": "markdown",
   "metadata": {},
   "source": [
    "## Zusatzübung 3\n",
    "Dir werden Informationen über verschiedene Autos gegeben, die du in Python darstellen sollst:\n",
    "\n",
    "| Name    | Preis      | Leistung (PS) | Sitzplätze | Farbe  |\n",
    "|---------|------------|---------------|-------------|--------|\n",
    "| Audi    | 50000€     | 300           | 5           | schwarz|\n",
    "| Ferrari | 119999,99€ | 600           | 2           | rot    |\n",
    "| Smart   | 20000€     | 80            | 2           | silber |\n",
    "\n",
    "Speichere diese Daten in passenden Variablen mit sinnvollen Namen.\n",
    "Folgende Datentypen sollen für jede Kategorie verwendet werden:\n",
    "- Name: string\n",
    "- Preis: float\n",
    "- Leistung: integer\n",
    "- Sitzplätze: integer\n",
    "- Farbe: string\n",
    "\n",
    "Gib dann alle Informationen aus."
   ]
  },
  {
   "cell_type": "code",
   "metadata": {
    "ExecuteTime": {
     "end_time": "2024-11-28T18:04:50.722578Z",
     "start_time": "2024-11-28T18:04:50.719104Z"
    }
   },
   "source": [
    "# Schreibe deinen Code unter diese Zeile:\n",
    "audi_name = \"Audi\"\n",
    "audi_preis = 50000.00\n",
    "audi_leistung = 300\n",
    "audi_sitze = 5\n",
    "audi_farbe = \"schwarz\"\n",
    "\n",
    "ferrari_name = \"Ferrari\"\n",
    "ferrari_preis = 119999.99\n",
    "ferrari_leistung = 600\n",
    "ferrari_sitze = 2\n",
    "ferrari_farbe = \"rot\"\n",
    "\n",
    "smart_name = \"Smart\"\n",
    "smart_preis = 20000.00\n",
    "smart_leistung = 80\n",
    "smart_sitze = 2\n",
    "smart_farbe = \"silber\"\n",
    "\n",
    "print(\"Name:\", audi_name,\" | \" + \"Preis:\", audi_preis, \" | \" + \"Leistung:\", audi_leistung,\" | \" + \"Sitzplätze: \", audi_sitze, \" | \" + \"Farbe:\", audi_farbe)\n",
    "print(\"Name:\", ferrari_name,\" | \" + \"Preis:\", ferrari_preis, \" | \" + \"Leistung:\", ferrari_leistung,\" | \" + \"Sitzplätze: \", ferrari_sitze, \" | \" + \"Farbe:\", ferrari_farbe)\n",
    "print(\"Name:\", smart_name,\" | \" + \"Preis:\", smart_preis, \" | \" + \"Leistung:\", smart_leistung,\" | \" + \"Sitzplätze: \", smart_sitze, \" | \" + \"Farbe:\", smart_farbe)"
   ],
   "outputs": [
    {
     "name": "stdout",
     "output_type": "stream",
     "text": [
      "Name: Audi  | Preis: 50000.0  | Leistung: 300  | Sitzplätze:  5  | Farbe: schwarz\n",
      "Name: Ferrari  | Preis: 119999.99  | Leistung: 600  | Sitzplätze:  2  | Farbe: rot\n",
      "Name: Smart  | Preis: 20000.0  | Leistung: 80  | Sitzplätze:  2  | Farbe: silber\n"
     ]
    }
   ],
   "execution_count": 8
  },
  {
   "cell_type": "markdown",
   "metadata": {},
   "source": [
    "## Feedback\n",
    "Bitte scanne den QR-Code unten, um uns dein Feedback zu **Kapitel 04: Variablen und Datentypen** zu geben.  \n",
    "![QR Code feedback](../pictures/feedbackQR.png)"
   ]
  }
 ],
 "metadata": {
  "kernelspec": {
   "display_name": "Python 3",
   "language": "python",
   "name": "python3"
  },
  "language_info": {
   "codemirror_mode": {
    "name": "ipython",
    "version": 3
   },
   "file_extension": ".py",
   "mimetype": "text/x-python",
   "name": "python",
   "nbconvert_exporter": "python",
   "pygments_lexer": "ipython3",
   "version": "3.10.8"
  }
 },
 "nbformat": 4,
 "nbformat_minor": 2
}
