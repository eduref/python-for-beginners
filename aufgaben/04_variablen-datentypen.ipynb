{
 "cells": [
  {
   "cell_type": "markdown",
   "metadata": {
    "collapsed": false
   },
   "source": [
    "# Variablen und Datentypen\n"
   ]
  },
  {
   "cell_type": "markdown",
   "metadata": {
    "collapsed": false
   },
   "source": [
    "## Variablen\n",
    "Variablen helfen uns, Informationen in unserem Code zu speichern und wiederzuverwenden.\n",
    "```py\n",
    "vorname = \"Gertrud\"\n",
    "nachname = \"Zimmermann\"\n",
    "print(vorname)\n",
    "print(nachname)\n",
    "```\n",
    "```pycon\n",
    "Gertrud\n",
    "Zimmermann\n",
    "```"
   ]
  },
  {
   "cell_type": "markdown",
   "metadata": {
    "collapsed": false
   },
   "source": [
    "## Übung 1:\n",
    "Speichere deinen Vornamen, Nachnamen und dein Alter als Text/Zahlen in Variablen namens:\n",
    "- ``vorname``\n",
    "- ``nachname``\n",
    "- ``alter``\n",
    "\n",
    "und gib jede Variable aus."
   ]
  },
  {
   "cell_type": "code",
   "execution_count": null,
   "metadata": {},
   "outputs": [],
   "source": [
    "# Schreibe deinen Code unter diese Zeile:\n",
    "vorname = \"Hildegard\"\n",
    "nachname = \"Müller\"\n",
    "alter = 65\n",
    "print(vorname)\n",
    "print(nachname)\n",
    "print(alter)"
   ]
  },
  {
   "cell_type": "markdown",
   "metadata": {},
   "source": [
    "## Mehrere Variablen ausgeben I\n",
    "Wir können mehrere Variablen in einem print-Befehl ausgeben, indem wir sie mit Kommas trennen:\n",
    "```python\n",
    "print(vorname, nachname)\n",
    "```\n",
    "```pycon\n",
    "Gertrud Zimmermann\n",
    "```"
   ]
  },
  {
   "cell_type": "markdown",
   "metadata": {},
   "source": [
    "## Übung 2:\n",
    "Gib deinen Vor- und Nachnamen in einer Zeile aus, indem du die Variablen `vorname` und `nachname` verwendest, die du in `Übung 1` erstellt hast."
   ]
  },
  {
   "cell_type": "code",
   "execution_count": null,
   "metadata": {},
   "outputs": [],
   "source": [
    "# Schreibe deinen Code unter diese Zeile:\n",
    "print(vorname, nachname)"
   ]
  },
  {
   "cell_type": "markdown",
   "metadata": {},
   "source": [
    "## Mehrere Variablen ausgeben II\n",
    "Wir können Texte zusammen mit Variablen in einem print-Befehl ausgeben:\n",
    "\n",
    "```python\n",
    "print(\"Ich bin\", vorname, nachname)\n",
    "```\n",
    "```pycon\n",
    "Ich bin Gertrud Zimmermann\n",
    "```"
   ]
  },
  {
   "cell_type": "markdown",
   "metadata": {},
   "source": [
    "## Übung 3:\n",
    "Stelle dich vor, indem du ausgibst:\n",
    "\n",
    "``Hallo! Ich heiße <dein Name> und bin <dein Alter> Jahre alt.``\n",
    "\n",
    "Verwende die Variablen aus `Übung 1`!\n"
   ]
  },
  {
   "cell_type": "code",
   "execution_count": null,
   "metadata": {},
   "outputs": [],
   "source": [
    "# Schreibe deinen Code unter diese Zeile:\n",
    "print(\"Hallo! Ich heiße\", vorname, nachname, \"und bin\", alter, \"Jahre alt.\")\n",
    "# oder mit String-Verkettung:\n",
    "print(\"Hallo! Ich heiße\", vorname + ' ' + nachname, \"und bin\", alter, \"Jahre alt.\")"
   ]
  },
  {
   "cell_type": "markdown",
   "metadata": {},
   "source": [
    "## Datentypen\n",
    "Wir lernen zuerst 3 verschiedene Datentypen in Python kennen:\n",
    "- Strings: stellen Text dar (`\"hallo\"`)\n",
    "- Integer: stellen ganze Zahlen dar (`2010`)\n",
    "- Floats: stellen Kommazahlen dar (`99,99`)"
   ]
  },
  {
   "cell_type": "markdown",
   "metadata": {},
   "source": [
    "## Übung 4:\n",
    "\n",
    "Ordne die folgenden Werte den richtigen Datentypen zu:\n",
    "#### Werte\n",
    "```python\n",
    "\"hallo welt\"\n",
    "100.111\n",
    "100\n",
    "# ordne nun die restlichen Werte zu!\n",
    "101235.5\n",
    "46\n",
    "\"505\"\n",
    "0.0\n",
    "10\n",
    "\"c\"\n",
    "```"
   ]
  },
  {
   "cell_type": "code",
   "execution_count": null,
   "metadata": {},
   "outputs": [],
   "source": [
    "# ordne die Werte von oben den richtigen Variablen zu\n",
    "\n",
    "text_1 = \"hallo welt\"\n",
    "text_2 = ?\n",
    "text_3 = ?\n",
    "\n",
    "ganzzahl_1 = 100\n",
    "ganzzahl_2 = ?\n",
    "ganzzahl_3 = ?\n",
    "\n",
    "kommazahl_1 = 101235.5\n",
    "kommazahl_2 = ?\n",
    "kommazahl_3 = ?\n",
    "\n",
    "# Schreibe deinen Code unter diese Zeile:\n",
    "text_1 = \"hallo welt\"\n",
    "text_2 = \"c\"\n",
    "text_3 = \"505\"\n",
    "\n",
    "ganzzahl_1 = 100\n",
    "ganzzahl_2 = 10\n",
    "ganzzahl_3 = 46\n",
    "\n",
    "kommazahl_1 = 101235.5\n",
    "kommazahl_2 = 100.111\n",
    "kommazahl_3 = 0.0"
   ]
  },
  {
   "cell_type": "markdown",
   "metadata": {},
   "source": [
    "## Datentypen II\n",
    "Ein Beispiel für die Zuweisung von Werten zu Variablen:\n",
    "```python\n",
    "standard_müsli_preis = 0.99 #Preis in Euro als Kommazahl\n",
    "```"
   ]
  },
  {
   "cell_type": "markdown",
   "metadata": {},
   "source": [
    "## Übung 5:\n",
    "Du gehst heute Abend einkaufen und möchtest zwei verschiedene Müslis kaufen:\n",
    "- Kölln Müsli\n",
    "    - Preis: 1,99\n",
    "    - Menge: 1\n",
    "    - Name: \"Kölln Müsli\"\n",
    "- Seitenbacher Müsli\n",
    "    - Preis: 5,49\n",
    "    - Menge: 2\n",
    "    - Name: \"Seitenbacher Müsli\"\n",
    "\n",
    "Speichere den Preis, die Menge und den Namen der beiden Müslis in Variablen mit passenden Namen und füge den entsprechenden Datentyp als Kommentar dahinter.\n"
   ]
  },
  {
   "cell_type": "code",
   "execution_count": null,
   "metadata": {},
   "outputs": [],
   "source": [
    "# Schreibe deinen Code unter diese Zeile:\n",
    "koelln_preis = 1.99 #float\n",
    "koelln_menge = 1 #integer\n",
    "koelln_name = \"Kölln Müsli\" #string\n",
    "\n",
    "seitenbacher_preis = 5.49 #float\n",
    "seitenbacher_menge = 2 #integer\n",
    "seitenbacher_name = \"Seitenbacher Müsli\" #string"
   ]
  },
  {
   "cell_type": "markdown",
   "metadata": {},
   "source": [
    "## Typumwandlung\n",
    "\n",
    "Schau dir den folgenden Code an. Was erwartest du, dass passiert?\n",
    "```py\n",
    "a = \"12\"\n",
    "b = a * 5\n",
    "print(b) # Was wird hier ausgegeben?\n",
    "```\n",
    "Während du vielleicht 60 erwartest, gibt dieser Code tatsächlich 1212121212 aus!\n",
    "\n",
    "Um das zu beheben, müssen wir Python mitteilen, dass es **a von einem String in einen Integer umwandeln** soll:\n",
    "```py\n",
    "a = int(\"12\")\n",
    "b = a * 5\n",
    "print(b)\n",
    "```\n",
    "Dieser Code gibt nun korrekt 60 aus.\n",
    "\n",
    "Andere Umwandlungsmethoden sind:\n",
    "str() für die Umwandlung in einen String\n",
    "int() für die Umwandlung in einen Integer\n",
    "float() für die Umwandlung in einen Float"
   ]
  },
  {
   "cell_type": "markdown",
   "metadata": {},
   "source": [
    "## Übung 6\n",
    "\n",
    "Du bekommst die folgenden Variablen: a, b, c und d\n",
    "\n",
    "Berechne und gib aus: (a + b) * c + d\n",
    "\n",
    "Denk daran, die Typen umzuwandeln!"
   ]
  },
  {
   "cell_type": "code",
   "execution_count": null,
   "metadata": {},
   "outputs": [],
   "source": [
    "a = \"0.5\"\n",
    "b = \"4\"\n",
    "c = \"2.5\"\n",
    "d = \"5\"\n",
    "# Schreibe deinen Code unter diese Zeile:\n",
    "# Hinweis: Du kannst die Umwandlung auch in den Zeilen darüber machen.\n",
    "ergebnis = (float(a) + int(b)) * float(c) + int(d)\n",
    "print(ergebnis)"
   ]
  },
  {
   "cell_type": "markdown",
   "metadata": {},
   "source": [
    "## Zusatzübungen"
   ]
  },
  {
   "cell_type": "markdown",
   "metadata": {},
   "source": [
    "## Zusatzübung 1\n",
    "Speichere die Namen von 5 Schauspieler/innen in Variablen mit passenden Namen."
   ]
  },
  {
   "cell_type": "code",
   "execution_count": null,
   "metadata": {},
   "outputs": [],
   "source": [
    "# Schreibe deinen Code unter diese Zeile:\n",
    "schauspieler_1 = \"Brad Pitt\"\n",
    "schauspieler_2 = \"Matthew Perry\"\n",
    "schauspieler_3 = \"Emma Stone\"\n",
    "schauspieler_4 = \"George Clooney\"\n",
    "schauspieler_5 = \"Jennifer Aniston\""
   ]
  },
  {
   "cell_type": "markdown",
   "metadata": {},
   "source": [
    "## Zusatzübung 2\n",
    "Gib den Satz `Dies ist der EduRef Python Grundlagen Kurs!` in einer Zeile aus, indem du alle vordefinierten Variablen verwendest."
   ]
  },
  {
   "cell_type": "code",
   "execution_count": null,
   "metadata": {},
   "outputs": [],
   "source": [
    "# ändere diesen Teil des Codes nicht\n",
    "var_1 = \"Dies\"\n",
    "var_2 = \"!\"\n",
    "var_3 = \"Kurs\"\n",
    "var_4 = \" \"\n",
    "var_5 = \"EduRef Python Grundlagen\"\n",
    "var_6 = \"ist der\"\n",
    "\n",
    "# Schreibe deinen Code unter diese Zeile:\n",
    "print(var_1, var_6, var_5 + var_4 + var_3 + var_2)"
   ]
  },
  {
   "cell_type": "markdown",
   "metadata": {},
   "source": [
    "## Zusatzübung 3\n",
    "Du erhältst Informationen über verschiedene Autos, die du in Python darstellen sollst:\n",
    "\n",
    "| Name    | Preis      | Leistung (PS) | Anzahl Sitze | Farbe  |\n",
    "|---------|------------|---------------|--------------|--------|\n",
    "| Audi    | 50000€     | 300           | 5            | schwarz|\n",
    "| Ferrari | 119999,99€ | 600           | 2            | rot    |\n",
    "| Smart   | 20000€     | 80            | 2            | silber |\n",
    "\n",
    "Speichere diese Daten in passenden Variablen mit sinnvollen Namen.\n",
    "Folgende Datentypen sollen für jede Kategorie verwendet werden:\n",
    "- Name: String\n",
    "- Preis: Float\n",
    "- Leistung: Integer\n",
    "- Anzahl Sitze: Integer\n",
    "- Farbe: String\n",
    "\n",
    "Gib dann alle Informationen aus."
   ]
  },
  {
   "cell_type": "code",
   "execution_count": null,
   "metadata": {},
   "outputs": [],
   "source": [
    "# Schreibe deinen Code unter diese Zeile:\n",
    "name_audi = \"Audi\"\n",
    "preis_audi = 50000.00\n",
    "leistung_audi = 300\n",
    "sitze_audi = 5\n",
    "farbe_audi = \"schwarz\"\n",
    "\n",
    "name_ferrari = \"Ferrari\"\n",
    "preis_ferrari = 119999.99\n",
    "leistung_ferrari = 600\n",
    "sitze_ferrari = 2\n",
    "farbe_ferrari = \"rot\"\n",
    "\n",
    "name_smart = \"Smart\"\n",
    "preis_smart = 20000.00\n",
    "leistung_smart = 80\n",
    "sitze_smart = 2\n",
    "farbe_smart = \"silber\"\n",
    "\n",
    "print(\"Name:\", name_audi,\" | \" + \"Preis:\", preis_audi, \" | \" + \"Leistung:\", leistung_audi,\" | \" + \"Sitze: \", sitze_audi, \" | \" + \"Farbe:\", farbe_audi)\n",
    "print(\"Name:\", name_ferrari,\" | \" + \"Preis:\", preis_ferrari, \" | \" + \"Leistung:\", leistung_ferrari,\" | \" + \"Sitze: \", sitze_ferrari, \" | \" + \"Farbe:\", farbe_ferrari)\n",
    "print(\"Name:\", name_smart,\" | \" + \"Preis:\", preis_smart, \" | \" + \"Leistung:\", leistung_smart,\" | \" + \"Sitze: \", sitze_smart, \" | \" + \"Farbe:\", farbe_smart)"
   ]
  },
  {
   "cell_type": "markdown",
   "metadata": {},
   "source": [
    "## Feedback\n",
    "Bitte scanne den QR-Code unten, um uns dein Feedback zu **Kapitel 04: Variablen und Datentypen** zu geben  \n",
    "![QR Code feedback](../pictures/feedbackQR.png)"
   ]
  }
 ],
 "metadata": {
  "kernelspec": {
   "display_name": "Python 3",
   "language": "python",
   "name": "python3"
  }
 }
}
