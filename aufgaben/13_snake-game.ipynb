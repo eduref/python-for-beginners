{
 "cells": [
  {
   "cell_type": "markdown",
   "metadata": {},
   "source": [
    "# Spiel: Snake\n",
    "Jetzt ist es an der Zeit zu zeigen, was du bisher gelernt hast, indem du das beliebte Spiel \"Snake\" implementierst."
   ]
  },
  {
   "cell_type": "markdown",
   "metadata": {},
   "source": [
    "## Schritt 0 - Bibliotheken importieren"
   ]
  },
  {
   "cell_type": "code",
   "metadata": {
    "ExecuteTime": {
     "end_time": "2024-11-28T20:13:50.581508Z",
     "start_time": "2024-11-28T20:13:50.478135Z"
    }
   },
   "source": [
    "# Verändere diesen Code-Abschnitt NICHT\n",
    "import tkinter as tk\n",
    "import random"
   ],
   "outputs": [],
   "execution_count": 1
  },
  {
   "cell_type": "markdown",
   "metadata": {},
   "source": [
    "## Schritt 1 - Spiel-Variablen initialisieren\n",
    "Definiere die grundlegenden Variablen"
   ]
  },
  {
   "cell_type": "code",
   "metadata": {
    "ExecuteTime": {
     "end_time": "2024-11-28T20:13:50.585439Z",
     "start_time": "2024-11-28T20:13:50.582646Z"
    }
   },
   "source": [
    "# Verändere diesen Code-Abschnitt NICHT\n",
    "schlangen_position = [[100, 100]]  # Anfängliche Spielerposition\n",
    "schlangen_futter = [200, 200]  # Anfängliche Futterposition \n",
    "fenster_groesse = \"600x400\"  # Größe des Spielfensters\n",
    "schlangen_geschwindigkeit = 100  # Bewegungsgeschwindigkeit der Schlange\n",
    "schlangen_richtung = None  # Anfängliche Richtung"
   ],
   "outputs": [],
   "execution_count": 2
  },
  {
   "cell_type": "markdown",
   "metadata": {},
   "source": [
    "## Schritt 2 - Spielfenster erstellen\n",
    "Erstelle mit tkinter ein Grundfenster mit einer Leinwand, auf der das Spiel gezeichnet wird."
   ]
  },
  {
   "cell_type": "code",
   "metadata": {
    "ExecuteTime": {
     "end_time": "2024-11-28T20:13:50.837074Z",
     "start_time": "2024-11-28T20:13:50.586405Z"
    }
   },
   "source": [
    "# Verändere diesen Code-Abschnitt NICHT\n",
    "# Fenster erstellen\n",
    "fenster = tk.Tk()\n",
    "fenster.title(\"Snake Spiel\")\n",
    "\n",
    "# Leinwand zum Zeichnen erstellen\n",
    "leinwand = tk.Canvas(fenster, bg=\"white\", height=400, width=600)\n",
    "leinwand.pack()"
   ],
   "outputs": [],
   "execution_count": 3
  },
  {
   "cell_type": "markdown",
   "metadata": {},
   "source": [
    "## Schritt 3 - Zeichenfunktionen\n",
    "Definiere Funktionen zum Zeichnen der Schlange und des Futters auf der Leinwand."
   ]
  },
  {
   "cell_type": "code",
   "metadata": {
    "ExecuteTime": {
     "end_time": "2024-11-28T20:13:50.840171Z",
     "start_time": "2024-11-28T20:13:50.837908Z"
    }
   },
   "source": [
    "# Verändere diesen Code-Abschnitt NICHT\n",
    "def schlange_zeichnen():\n",
    "    for segment in schlangen_position:\n",
    "        leinwand.create_rectangle(segment[0], segment[1], segment[0]+20, segment[1]+20, fill=\"green\")\n",
    "\n",
    "def futter_zeichnen():\n",
    "    leinwand.create_oval(schlangen_futter[0], schlangen_futter[1], schlangen_futter[0]+20, schlangen_futter[1]+20, fill=\"red\")\n"
   ],
   "outputs": [],
   "execution_count": 4
  },
  {
   "cell_type": "markdown",
   "metadata": {},
   "source": [
    "## Schritt 4 - Spiellogik\n",
    "Implementiere die grundlegende Spiellogik wie das Bewegen der Schlange und das Überprüfen von Kollisionen.\n",
    "\n",
    "1. Definiere eine Methode `schlange_bewegen` und füge eine globale Variable `schlangen_futter` im Methodenkörper hinzu\n",
    "2. Wenn keine Richtung festgelegt ist (`schlangen_richtung is None`), soll sich die Schlange nicht bewegen. Gib in diesem Fall einfach True zurück, um anzuzeigen, dass das Spiel fortgesetzt werden soll, ohne die Schlange zu bewegen.\n",
    "3. Die Schlange bewegt sich, indem sie ein neues Segment (Kopf) in die Bewegungsrichtung hinzufügt.\n",
    "    - Hole zuerst die aktuelle Position des Schlangenkopfes (`schlangen_position[0]`).\n",
    "    - Berechne abhängig von der aktuellen Richtung der Schlange (`schlangen_richtung`) die Position des neuen Kopfes.\n",
    "    - **Beispiel:** Wenn die Richtung 'Links' ist, sollte die x-Koordinate des neuen Kopfes 20 Pixel weniger sein als die x-Koordinate des aktuellen Kopfes.\n",
    "4. Prüfe nach der Berechnung der neuen Kopfposition, ob diese Position zum Spielende führt. Das Spiel ist in zwei Fällen vorbei: \n",
    "    - Wenn die neue Kopfposition außerhalb der Spielgrenzen liegt (z.B. x-Koordinate kleiner 0 oder größer/gleich 600, oder y-Koordinate kleiner 0 oder größer/gleich 400)\n",
    "    - Oder wenn die neue Kopfposition mit einem Teil des Schlangenkörpers kollidiert (wenn der neue Kopf in `schlangen_position` ist).\n",
    "    - Gib False zurück, wenn eine dieser Bedingungen erfüllt ist.\n",
    "5. Füge die neue Kopfposition am Anfang des Schlangenkörpers hinzu (schlangen_position).\n",
    "    - Dies geschieht durch Einfügen der neuen Kopfkoordinaten am Anfang der `schlangen_position` Liste.\n",
    "6. Prüfe nach der Bewegung der Schlange, ob die neue Kopfposition dieselbe ist wie die Position des Futters (schlangen_futter).\n",
    "    - Wenn die Schlange das Futter gefressen hat (Positionen stimmen überein), generiere eine neue Futterposition zufällig auf der Leinwand. Verwende `random.randint`, um sicherzustellen, dass das Futter innerhalb der Spielgrenzen erscheint.\n",
    "    - Wenn die Schlange das Futter nicht gefressen hat, entferne das letzte Segment (Schwanz) der Schlange. Dies erzeugt den Effekt der Vorwärtsbewegung.\n",
    "7. Gib schließlich True zurück, um anzuzeigen, dass das Spiel im nächsten Frame fortgesetzt werden soll."
   ]
  },
  {
   "cell_type": "code",
   "metadata": {
    "ExecuteTime": {
     "end_time": "2024-11-28T20:13:50.845144Z",
     "start_time": "2024-11-28T20:13:50.841706Z"
    }
   },
   "source": [
    "# Schreibe deinen Code unter diese Zeile\n",
    "\n",
    "\n",
    "\n",
    "# Lösung zu Schritt 4\n",
    "def schlange_bewegen():\n",
    "    # Aufgabe 1: Methode definieren und globale Variable hinzufügen\n",
    "    global schlangen_futter  \n",
    "\n",
    "    # Aufgabe 2: Schlange nicht bewegen, wenn keine Richtung festgelegt ist\n",
    "    if schlangen_richtung is None:\n",
    "        return True\n",
    "    \n",
    "    # Aufgabe 3: Neue Kopfposition berechnen\n",
    "    kopf_x, kopf_y = schlangen_position[0]\n",
    "    if schlangen_richtung == 'Links':\n",
    "        kopf_x -= 20\n",
    "    elif schlangen_richtung == 'Rechts':\n",
    "        kopf_x += 20\n",
    "    elif schlangen_richtung == 'Oben':\n",
    "        kopf_y -= 20\n",
    "    elif schlangen_richtung == 'Unten':\n",
    "        kopf_y += 20\n",
    "\n",
    "    neuer_kopf = [kopf_x, kopf_y]\n",
    "\n",
    "    # Aufgabe 4: Auf Spielende-Bedingungen prüfen\n",
    "    if neuer_kopf in schlangen_position or kopf_x < 0 or kopf_x >= 600 or kopf_y < 0 or kopf_y >= 400:\n",
    "        return False  # Spiel vorbei\n",
    "\n",
    "    # Aufgabe 5: Schlange bewegen\n",
    "    schlangen_position.insert(0, neuer_kopf)\n",
    "\n",
    "    # Aufgabe 6: Auf Futter-Kollision prüfen\n",
    "    if neuer_kopf == schlangen_futter:\n",
    "        schlangen_futter = [random.randint(0, 29)*20, random.randint(0, 19)*20]  # Neue Futterposition\n",
    "    else:\n",
    "        schlangen_position.pop()  # Schwanzsegment entfernen\n",
    "\n",
    "    # Aufgabe 7: Spiel fortsetzen\n",
    "    return True \n"
   ],
   "outputs": [],
   "execution_count": 5
  },
  {
   "cell_type": "markdown",
   "metadata": {},
   "source": [
    "## Schritt 5 - Tastenbindungen\n",
    "Füge Funktionen hinzu, um die Richtung der Schlange basierend auf Tastatureingaben zu ändern.\n",
    "1. Definiere eine Methode namens `richtung_aendern`, die einen Parameter `neue_richtung` hat. Deklariere innerhalb der Methode `schlangen_richtung` als globale Variable.\n",
    "2. Schreibe eine if-Anweisung, um die Richtung der Schlange zu prüfen und zu aktualisieren.\n",
    "    - Die Bedingung der if-Anweisung sollte die Richtungsänderung erlauben, wenn entweder keine Richtung festgelegt ist (schlangen_richtung is None) oder die `neue_richtung` eine der gültigen Richtungen ist ('Links', 'Rechts', 'Oben', 'Unten').\n",
    "    - Wenn die Bedingung erfüllt ist, aktualisiere schlangen_richtung mit dem Wert von neue_richtung"
   ]
  },
  {
   "cell_type": "code",
   "metadata": {
    "ExecuteTime": {
     "end_time": "2024-11-28T20:13:50.848835Z",
     "start_time": "2024-11-28T20:13:50.845841Z"
    }
   },
   "source": [
    "# Verändere diesen Code NICHT\n",
    "fenster.bind(\"<Left>\", lambda event: richtung_aendern('Links'))\n",
    "fenster.bind(\"<Right>\", lambda event: richtung_aendern('Rechts'))\n",
    "fenster.bind(\"<Up>\", lambda event: richtung_aendern('Oben'))\n",
    "fenster.bind(\"<Down>\", lambda event: richtung_aendern('Unten'))\n",
    "fenster.focus_set()\n",
    "\n",
    "# Schreibe deinen Code unter diese Zeile\n",
    "\n",
    "\n",
    "\n",
    "# Lösung zu Schritt 5\n",
    "def richtung_aendern(neue_richtung):\n",
    "    # Aufgabe 1: Methode mit Parameter definieren und globale Variable hinzufügen\n",
    "    global schlangen_richtung\n",
    "\n",
    "    # Aufgabe 2: Prüft die Schlangenrichtung\n",
    "    if schlangen_richtung is None or neue_richtung in ['Links', 'Rechts', 'Oben', 'Unten']:\n",
    "        schlangen_richtung = neue_richtung"
   ],
   "outputs": [],
   "execution_count": 6
  },
  {
   "cell_type": "markdown",
   "metadata": {},
   "source": [
    "## Schritt 6 - Spiel-Schleife\n",
    "Erstelle die Hauptspielschleife, die den Spielzustand aktualisiert."
   ]
  },
  {
   "cell_type": "code",
   "metadata": {
    "ExecuteTime": {
     "end_time": "2024-11-28T20:13:50.851611Z",
     "start_time": "2024-11-28T20:13:50.849523Z"
    }
   },
   "source": [
    "# Verändere diesen Code-Abschnitt NICHT\n",
    "def spiel_schleife():\n",
    "    if schlange_bewegen():\n",
    "        leinwand.delete(\"all\")  # Leinwand leeren\n",
    "        schlange_zeichnen()\n",
    "        futter_zeichnen()\n",
    "        fenster.after(schlangen_geschwindigkeit, spiel_schleife)  # Nächste Aktualisierung planen\n",
    "    else:\n",
    "        print(\"Spiel vorbei\")\n",
    "\n",
    "spiel_schleife()\n"
   ],
   "outputs": [],
   "execution_count": 7
  },
  {
   "cell_type": "markdown",
   "metadata": {},
   "source": [
    "## Schritt 7 - Spiel starten"
   ]
  },
  {
   "cell_type": "code",
   "metadata": {
    "jupyter": {
     "is_executing": true
    },
    "ExecuteTime": {
     "start_time": "2024-11-28T20:13:50.852403Z"
    }
   },
   "source": [
    "# Verändere diesen Code-Abschnitt NICHT\n",
    "fenster.mainloop()"
   ],
   "outputs": [],
   "execution_count": null
  },
  {
   "cell_type": "markdown",
   "metadata": {},
   "source": [
    "## Feedback\n",
    "Bitte scanne den QR-Code unten, um uns dein Feedback zu **Kapitel 13: Snake Spiel** zu geben\n",
    "\n",
    "![QR Code feedback](../pictures/feedbackQR.png)"
   ]
  }
 ],
 "metadata": {
  "kernelspec": {
   "display_name": "Python 3",
   "language": "python",
   "name": "python3"
  },
  "language_info": {
   "codemirror_mode": {
    "name": "ipython",
    "version": 3
   },
   "file_extension": ".py",
   "mimetype": "text/x-python",
   "name": "python",
   "nbconvert_exporter": "python",
   "pygments_lexer": "ipython3",
   "version": "3.11.0"
  }
 },
 "nbformat": 4,
 "nbformat_minor": 2
}
