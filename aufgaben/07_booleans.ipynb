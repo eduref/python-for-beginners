{
 "cells": [
  {
   "cell_type": "markdown",
   "metadata": {},
   "source": [
    "# Boolesche Werte\n",
    "\n",
    "Boolesche Werte sind ein eingebauter Datentyp, der den **Wahrheitswert eines Ausdrucks** darstellt.\n",
    "\n",
    "Reservierte Schlüsselwörter: True (Wahr), False (Falsch)"
   ]
  },
  {
   "cell_type": "markdown",
   "metadata": {},
   "source": [
    "Du kannst boolesche Werte in Variablen speichern, z.B.:\n",
    ">```python\n",
    ">positive_variable = True\n",
    ">negative_variable = False\n",
    ">```"
   ]
  },
  {
   "cell_type": "markdown",
   "metadata": {},
   "source": [
    "Wir können zwei Variablen mit folgenden Operatoren vergleichen:\n",
    "\n",
    "| Bedeutung                  | Operator                |\n",
    "| -------------------------- | ----------------------- |\n",
    "| Gleich                     | `==`                    |\n",
    "| Ungleich                   | `!=`                    |\n",
    "| Größer als                 | `>`                     |\n",
    "| Größer oder gleich         | `>=`                    |\n",
    "| Kleiner als                | `<`                     |\n",
    "| Kleiner oder gleich        | `<=`                    |\n"
   ]
  },
  {
   "cell_type": "markdown",
   "metadata": {},
   "source": [
    "Kombiniere boolesche Ausdrücke mit booleschen Operatoren:\n",
    "- and (und)\n",
    "- or (oder)\n",
    "- not (nicht)"
   ]
  },
  {
   "cell_type": "markdown",
   "metadata": {},
   "source": [
    "---"
   ]
  },
  {
   "cell_type": "markdown",
   "metadata": {},
   "source": [
    "## Übung 1: Boolesche Operationen\n",
    "\n",
    "Schreibe ein Programm, das zwei Zahlen (**a** und **b**) vergleicht und ausgibt, ob **a** größer als **b** ist."
   ]
  },
  {
   "cell_type": "code",
   "metadata": {
    "ExecuteTime": {
     "end_time": "2024-11-28T18:07:27.212989Z",
     "start_time": "2024-11-28T18:07:27.207912Z"
    }
   },
   "source": [
    "# Schreibe deinen Code unter diese Zeile\n",
    "a = 12\n",
    "b = 9\n",
    "\n",
    "print(a > b)"
   ],
   "outputs": [
    {
     "name": "stdout",
     "output_type": "stream",
     "text": [
      "True\n"
     ]
    }
   ],
   "execution_count": 1
  },
  {
   "cell_type": "markdown",
   "metadata": {},
   "source": [
    "## Übung 2: E-Mail Rechtschreibprüfung\n",
    "\n",
    "Ausdrücke mit einem Wahrheitswert müssen nicht unbedingt auf zwei numerischen Werten basieren.\n",
    "\n",
    "Wir möchten eine Rechtschreibprüfung nachbilden, die beim Erstellen neuer Online-Konten verwendet wird. Folge diesen Schritten:\n",
    "\n",
    "1. Bitte den Benutzer zweimal, seine E-Mail-Adresse mit der input()-Funktion einzugeben.\n",
    "\n",
    "2. Gib in einem vollständigen Satz aus, ob die E-Mail-Adressen gleich sind oder nicht (z.B. \"Es ist wahr, dass beide E-Mail-Adressen gleich sind.\")\n",
    "\n",
    "Tipp: Du kannst einen booleschen Wert ausgeben, indem du einen Ausdruck `(etwas == irgendetwas)` in die `str()`-Funktion einbettest"
   ]
  },
  {
   "cell_type": "code",
   "metadata": {
    "ExecuteTime": {
     "end_time": "2024-11-28T18:07:40.099675Z",
     "start_time": "2024-11-28T18:07:27.214382Z"
    }
   },
   "source": [
    "# Schreibe deinen Code unter diese Zeile\n",
    "email1 = input(\"Bitte gib deine E-Mail-Adresse ein: \")\n",
    "email2 = input(\"Bitte gib deine E-Mail-Adresse erneut ein: \")\n",
    "\n",
    "print(\"Es ist \" + str(email1 == email2) + \", dass beide E-Mail-Adressen gleich sind.\")"
   ],
   "outputs": [
    {
     "name": "stdout",
     "output_type": "stream",
     "text": [
      "Es ist True, dass beide E-Mail-Adressen gleich sind.\n"
     ]
    }
   ],
   "execution_count": 2
  },
  {
   "cell_type": "markdown",
   "metadata": {},
   "source": [
    "## Übung 3: Anzahl wahrer Ausdrücke\n",
    "\n",
    "Speichere zwei Zahlen (**a** und **b**) und speichere den Wahrheitswert der folgenden Ausdrücke in verschiedenen Variablen:\n",
    "- **a** ist größer als **b**\n",
    "- **a** ist ungleich **b**\n",
    "- **a** ist eine gerade Zahl\n",
    "- **b** ist eine ungerade Zahl\n",
    "\n",
    "Gib die Anzahl der wahren Aussagen basierend auf den gewählten Werten für **a** und **b** aus."
   ]
  },
  {
   "cell_type": "code",
   "metadata": {
    "ExecuteTime": {
     "end_time": "2024-11-28T18:07:40.106500Z",
     "start_time": "2024-11-28T18:07:40.101426Z"
    }
   },
   "source": [
    "# Schreibe deinen Code unter diese Zeile\n",
    "a = 13\n",
    "b = 8\n",
    "\n",
    "bool1 = (a > b)\n",
    "bool2 = (a != b)\n",
    "bool3 = (a % 2 == 0)\n",
    "bool4 = (b % 2 == 1)\n",
    "\n",
    "print(str(bool1 + bool2 + bool3 + bool4) + \" dieser Aussagen sind wahr\")"
   ],
   "outputs": [
    {
     "name": "stdout",
     "output_type": "stream",
     "text": [
      "2 dieser Aussagen sind wahr\n"
     ]
    }
   ],
   "execution_count": 3
  },
  {
   "cell_type": "markdown",
   "metadata": {},
   "source": [
    "## Übung 4: Boolesche Algebra\n",
    "\n",
    "Erstelle 3 Variablen (**p**, **q** und **r**) und speichere in jeder einen booleschen Wert (True/False).\n",
    "\n",
    "Gib nun aus, ob der folgende boolesche Ausdruck wahr oder falsch ist: \n",
    "> (**p** und **q** sind wahr) oder (**q** ist falsch oder **r** ist wahr)\n",
    "\n",
    "*Dies entspricht dem mathematischen Ausdruck (**p**∧**q**)∨(¬**q**∧**r**)*"
   ]
  },
  {
   "cell_type": "code",
   "metadata": {
    "ExecuteTime": {
     "end_time": "2024-11-28T18:07:40.113689Z",
     "start_time": "2024-11-28T18:07:40.108631Z"
    }
   },
   "source": [
    "# Schreibe deinen Code unter diese Zeile\n",
    "p = True\n",
    "q = True\n",
    "r = False\n",
    "\n",
    "ergebnis = (p and q) or (not q and r)\n",
    "\n",
    "print(ergebnis)"
   ],
   "outputs": [
    {
     "name": "stdout",
     "output_type": "stream",
     "text": [
      "True\n"
     ]
    }
   ],
   "execution_count": 4
  },
  {
   "cell_type": "markdown",
   "metadata": {},
   "source": [
    "---"
   ]
  },
  {
   "cell_type": "markdown",
   "metadata": {},
   "source": [
    "## Bonus-Übungen\n",
    "\n",
    "Wenn du schneller als die anderen bist, versuche die folgenden Übungen zu lösen:"
   ]
  },
  {
   "cell_type": "markdown",
   "metadata": {},
   "source": [
    "### Bonus-Übung 1: Teilbarkeitsprüfung\n",
    "\n",
    "Schreibe ein Programm, das zwei Zahlen (**num** und **teiler**) nimmt und ausgibt, ob **num** durch **teiler** teilbar ist.\n",
    "\n",
    "*Tipp: Erinnerst du dich an den Modulo-Operator (%)?*"
   ]
  },
  {
   "cell_type": "code",
   "metadata": {
    "ExecuteTime": {
     "end_time": "2024-11-28T18:07:40.123096Z",
     "start_time": "2024-11-28T18:07:40.118910Z"
    }
   },
   "source": [
    "# Schreibe deinen Code unter diese Zeile\n",
    "num = 12\n",
    "teiler = 7\n",
    "\n",
    "print(num % teiler == 0)"
   ],
   "outputs": [
    {
     "name": "stdout",
     "output_type": "stream",
     "text": [
      "False\n"
     ]
    }
   ],
   "execution_count": 5
  },
  {
   "cell_type": "markdown",
   "metadata": {},
   "source": [
    "### Bonus-Übung 2: Schaltjahrprüfung\n",
    "\n",
    "Schreibe ein Programm, das ein Jahr in einer Variable speichert und ausgibt, ob es ein Schaltjahr ist. Ein Schaltjahr ist entweder durch 4, aber nicht durch 100 teilbar, oder es ist durch 400 teilbar.\n",
    "\n",
    "*Tipp: Erinnerst du dich an den Modulo-Operator (%)?*"
   ]
  },
  {
   "cell_type": "code",
   "metadata": {
    "ExecuteTime": {
     "end_time": "2024-11-28T18:07:40.127846Z",
     "start_time": "2024-11-28T18:07:40.124105Z"
    }
   },
   "source": [
    "# Schreibe deinen Code unter diese Zeile\n",
    "jahr = 2020\n",
    "\n",
    "print(((jahr % 4 == 0) and (jahr % 100 != 0)) or (jahr % 400 == 0))"
   ],
   "outputs": [
    {
     "name": "stdout",
     "output_type": "stream",
     "text": [
      "True\n"
     ]
    }
   ],
   "execution_count": 6
  },
  {
   "cell_type": "markdown",
   "metadata": {},
   "source": [
    "### Bonus-Übung 3: Palindrom-Prüfung\n",
    "\n",
    "Frage den Benutzer nach einem Wort und gib dann aus, ob es ein Palindrom ist (vorwärts und rückwärts gleich gelesen wird).\n",
    "\n",
    "*Tipp: [::-1] wird verwendet, um einen String umzukehren*"
   ]
  },
  {
   "cell_type": "code",
   "metadata": {
    "ExecuteTime": {
     "end_time": "2024-11-28T18:07:42.700981Z",
     "start_time": "2024-11-28T18:07:40.130716Z"
    }
   },
   "source": [
    "# Schreibe deinen Code unter diese Zeile\n",
    "wort = input(\"Bitte gib ein Wort ein: \")\n",
    "\n",
    "print(wort == wort[::-1])"
   ],
   "outputs": [
    {
     "name": "stdout",
     "output_type": "stream",
     "text": [
      "False\n"
     ]
    }
   ],
   "execution_count": 7
  },
  {
   "cell_type": "markdown",
   "metadata": {},
   "source": [
    "## Feedback\n",
    "Bitte scanne den QR-Code unten, um uns dein Feedback zu **Kapitel 07: Boolesche Werte** zu geben\n",
    "![QR Code feedback](../pictures/feedbackQR.png)"
   ]
  }
 ],
 "metadata": {
  "kernelspec": {
   "display_name": "base",
   "language": "python",
   "name": "python3"
  },
  "language_info": {
   "codemirror_mode": {
    "name": "ipython",
    "version": 3
   },
   "file_extension": ".py",
   "mimetype": "text/x-python",
   "name": "python",
   "nbconvert_exporter": "python",
   "pygments_lexer": "ipython3",
   "version": "3.7.4"
  }
 },
 "nbformat": 4,
 "nbformat_minor": 2
}
