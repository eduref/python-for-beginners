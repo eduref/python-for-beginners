{
 "cells": [
  {
   "cell_type": "markdown",
   "metadata": {},
   "source": [
    "# Listen\n",
    "\n",
    "Du kannst mehrere zusammengehörige Variablen in einer einzigen Liste speichern.\n",
    "Zum Beispiel viele Primzahlen in einer Liste:\n",
    "\n",
    "```py\n",
    "primzahlen = [2, 3, 5, 7, 11, 13, 17, 19, 23, 29]\n",
    "```\n",
    "\n",
    "Listen haben eine Länge. Du kannst sie mit `len(listen_name)` ermitteln.\n",
    "\n",
    "```py\n",
    "laenge = len(primzahlen)\n",
    "```\n",
    "\n",
    "Die Länge ist hier 10, da unsere Liste 10 Primzahlen enthält."
   ]
  },
  {
   "cell_type": "markdown",
   "metadata": {},
   "source": [
    "## Übung 1: Geburtstage speichern\n",
    "\n",
    "1. Erstelle eine Liste mit den ``geburtstage`` deiner Nachbarn und dir selbst und gib sie aus.\n",
    "2. Gib die Länge der Liste aus.\n",
    "\n",
    "**Erinnerung**: Speichere die Geburtstage als Strings."
   ]
  },
  {
   "cell_type": "code",
   "metadata": {
    "ExecuteTime": {
     "end_time": "2024-11-28T18:54:01.077793Z",
     "start_time": "2024-11-28T18:54:01.075030Z"
    }
   },
   "source": [
    "# Schreibe deinen Code unter diese Zeile\n",
    "\n",
    "# 1.\n",
    "geburtstage = [\"1.1.2001\", \"2.2.2002\", \"3.3.2003\"]\n",
    "print(\"Die Geburtstage sind\")\n",
    "print(geburtstage)\n",
    "\n",
    "# 2.\n",
    "print(\"Anzahl der Geburtstage in der Liste:\")\n",
    "print(len(geburtstage))"
   ],
   "outputs": [
    {
     "name": "stdout",
     "output_type": "stream",
     "text": [
      "Die Geburtstage sind\n",
      "['1.1.2001', '2.2.2002', '3.3.2003']\n",
      "Anzahl der Geburtstage in der Liste:\n",
      "3\n"
     ]
    }
   ],
   "execution_count": 7
  },
  {
   "cell_type": "markdown",
   "metadata": {},
   "source": [
    "## Werte anhängen\n",
    "\n",
    "Lass uns mit einer leeren Liste beginnen: ``werte = []``\n",
    "\n",
    "Jetzt können wir neue Einträge mit ``werte.append(\"Dies ist ein neuer Wert\")`` anhängen.\n",
    "Die Liste sieht dann so aus: ``werte = [\"Dies ist ein neuer Wert\"]``\n",
    "\n",
    "Neue Einträge werden immer am Ende der Liste hinzugefügt."
   ]
  },
  {
   "cell_type": "markdown",
   "metadata": {},
   "source": [
    "## Übung 2: Werte anhängen\n",
    "\n",
    "1. Erstelle eine neue leere Liste namens ``eingaben``.\n",
    "2. Frage den Benutzer nach einer Zahl. **Hänge sie an eingaben an**. Stelle sicher, dass du sie mit **int()** in eine Zahl umwandelst, bevor du sie anhängst!\n",
    "3. Wiederhole Schritt 2.\n",
    "4. Gib die Liste ``eingaben`` aus."
   ]
  },
  {
   "cell_type": "code",
   "metadata": {
    "ExecuteTime": {
     "end_time": "2024-11-28T18:54:03.933916Z",
     "start_time": "2024-11-28T18:54:01.128983Z"
    }
   },
   "source": [
    "# Schreibe deinen Code unter diese Zeile\n",
    "\n",
    "# 1.\n",
    "eingaben = []\n",
    "\n",
    "# 2.\n",
    "erste_eingabe = input(\"Gib eine Zahl ein\")\n",
    "eingaben.append(int(erste_eingabe))\n",
    "\n",
    "# 3.\n",
    "zweite_eingabe = input(\"Gib eine weitere Zahl ein\")\n",
    "eingaben.append(int(zweite_eingabe))\n",
    "\n",
    "# 4.\n",
    "print(eingaben)"
   ],
   "outputs": [
    {
     "name": "stdout",
     "output_type": "stream",
     "text": [
      "[1, 2]\n"
     ]
    }
   ],
   "execution_count": 8
  },
  {
   "cell_type": "markdown",
   "metadata": {},
   "source": [
    "## Indizierung\n",
    "\n",
    "Oft wollen wir nicht nur Dinge mit allen Daten gleichzeitig tun. Stattdessen möchten wir bestimmte Werte auswählen und verwenden.\n",
    "Dafür können wir eine Liste so indizieren:\n",
    "\n",
    "```python\n",
    "print(primzahlen[0])\n",
    "```\n",
    "\n",
    "Dies würde in den Testdaten oben 2 ausgeben, da es die erste Primzahl ist.\n",
    "Beachte, dass das **erste** Element den Index **null, nicht eins** hat und das letzte Element eines Arrays mit drei Werten den Index zwei hat.\n"
   ]
  },
  {
   "cell_type": "markdown",
   "metadata": {},
   "source": [
    "## Werte ändern\n",
    "\n",
    "Jetzt fügen wir auch die Wochentage in die Liste ein.\n",
    "\n",
    "Dazu ändern wir den Wert an einem bestimmten Index so:\n",
    "\n",
    "```\n",
    "daten[5] = 100\n",
    "```\n",
    "\n",
    "Dies hat den Wert am **Index 5** (der **sechste** Eintrag) auf den Wert 100 geändert."
   ]
  },
  {
   "cell_type": "markdown",
   "metadata": {},
   "source": [
    "## Übung 3: Individuelle Geburtstage\n",
    "\n",
    "1. Gib nur deinen Geburtstag aus der vorherigen Geburtstagsliste aus. Schreibe den Geburtstag jetzt nicht neu, **nutze einen Index in die Liste, die du in der letzten Aufgabe erstellt hast**!\n",
    "\n",
    "2. Ändere deinen Geburtstag in der Liste: Er sollte auch den Wochentag enthalten, an dem du geboren wurdest.\n",
    "\n",
    "    - **Beispiel**: Wenn du am 1.1.2001 geboren wurdest, wäre der neue Eintrag \"Montag 1.1.2001\".\n",
    "\n",
    "3. Gib die geänderte Liste aus."
   ]
  },
  {
   "cell_type": "code",
   "metadata": {
    "ExecuteTime": {
     "end_time": "2024-11-28T18:54:03.942400Z",
     "start_time": "2024-11-28T18:54:03.936707Z"
    }
   },
   "source": [
    "geburtstage = [\"1.1.2001\", \"2.2.2002\", \"3.3.2003\"]\n",
    "\n",
    "# Schreibe deinen Code unter diese Zeile\n",
    "\n",
    "# 1.\n",
    "print(\"Mein Geburtstag ist\")\n",
    "print(geburtstage[1])\n",
    "\n",
    "# 2.\n",
    "geburtstage[1] = \"Sonntag 4.4.2004\"\n",
    "\n",
    "# 3.\n",
    "print(\"Die neue Liste ist\")\n",
    "print(geburtstage)"
   ],
   "outputs": [
    {
     "name": "stdout",
     "output_type": "stream",
     "text": [
      "Mein Geburtstag ist\n",
      "2.2.2002\n",
      "Die neue Liste ist\n",
      "['1.1.2001', 'Sonntag 4.4.2004', '3.3.2003']\n"
     ]
    }
   ],
   "execution_count": 9
  },
  {
   "cell_type": "markdown",
   "metadata": {},
   "source": [
    "## Einträge entfernen\n",
    "\n",
    "Wir können einen Eintrag an einem bestimmten Index (pop) oder mit einem bestimmten Wert (remove) entfernen:\n",
    "\n",
    "```py\n",
    "beispiel_liste = [10, 15, 25]\n",
    "beispiel_liste.pop(2) # Entfernt das letzte Element\n",
    "beispiel_liste.remove(10) # Entfernt das Element mit dem Wert 10\n",
    "print(beispiel_liste) # [15] (wir haben 10 und 25 entfernt)\n",
    "```"
   ]
  },
  {
   "cell_type": "markdown",
   "metadata": {},
   "source": [
    "## Übung 4: Hinzufügen und dann entfernen\n",
    "\n",
    "1. Erstelle eine Liste mit einigen Wörtern. Gib sie aus.\n",
    "2. Frage den Benutzer nach einem weiteren Wort. Hänge es am Ende an.\n",
    "3. Gib die neue Liste aus\n",
    "4. Entferne das neue Wort (du kannst entscheiden, ob du pop oder remove verwendest)\n",
    "5. Gib die neue Liste aus"
   ]
  },
  {
   "cell_type": "code",
   "metadata": {
    "ExecuteTime": {
     "end_time": "2024-11-28T18:54:06.512388Z",
     "start_time": "2024-11-28T18:54:03.943951Z"
    }
   },
   "source": [
    "# Schreibe deinen Code unter diese Zeile\n",
    "\n",
    "# 1.\n",
    "woerter = [\"Dies\", \"sind\", \"einige\", \"Wörter\"]\n",
    "print(woerter)\n",
    "\n",
    "# 2.\n",
    "neues_wort = input(\"Gib ein weiteres Wort ein\")\n",
    "woerter.append(neues_wort)\n",
    "\n",
    "# 3.\n",
    "print(woerter)\n",
    "\n",
    "# 4.\n",
    "# Mit remove:\n",
    "woerter.remove(neues_wort)\n",
    "# Mit pop:\n",
    "# woerter.pop(4) # Funktioniert nur, wenn die neue Liste 5 Elemente hat!\n",
    "\n",
    "# 5.\n",
    "print(woerter)"
   ],
   "outputs": [
    {
     "name": "stdout",
     "output_type": "stream",
     "text": [
      "['Dies', 'sind', 'einige', 'Wörter']\n",
      "['Dies', 'sind', 'einige', 'Wörter', 'Hallo']\n",
      "['Dies', 'sind', 'einige', 'Wörter']\n"
     ]
    }
   ],
   "execution_count": 10
  },
  {
   "cell_type": "markdown",
   "metadata": {},
   "source": [
    "## Listen von Listen\n",
    "\n",
    "Listen können auch andere Listen enthalten!\n",
    "\n",
    "```python\n",
    "tic_tac_toe_brett = [\n",
    "    ['X', 'O', 'X'],\n",
    "    ['O', 'X', 'O'],\n",
    "    [' ', ' ', 'X']\n",
    "]\n",
    "```\n",
    "\n",
    "Greife auf die Elemente so zu:\n",
    "```python\n",
    "# Erste Zeile, zweite und dritte Spalte:\n",
    "tic_tac_toe_brett[0][1] # O\n",
    "tic_tac_toe_brett[0][2] # X\n",
    "```"
   ]
  },
  {
   "cell_type": "markdown",
   "metadata": {},
   "source": [
    "## Übung 5: Tic Tac Toe\n",
    "\n",
    "1. Erstelle ein leeres Tic-Tac-Toe-Brett (3x3, alle Einträge sind ' ')\n",
    "2. Frage den Benutzer nach der Zeile und Spalte, wo sie ihr X platzieren möchten\n",
    "3. Wandle sie in Zahlen um. Setze das richtige Feld im Brett.\n",
    "4. Gib das Brett aus"
   ]
  },
  {
   "cell_type": "code",
   "metadata": {
    "ExecuteTime": {
     "end_time": "2024-11-28T18:54:10.728459Z",
     "start_time": "2024-11-28T18:54:06.515423Z"
    }
   },
   "source": [
    "# Schreibe deinen Code unter diese Zeile\n",
    "\n",
    "# 1.\n",
    "brett = [\n",
    "    [' ', ' ', ' '], \n",
    "    [' ', ' ', ' '], \n",
    "    [' ', ' ', ' ']\n",
    "]\n",
    "\n",
    "# 2.\n",
    "zeile = input(\"In welche Zeile möchtest du dein X setzen?\")\n",
    "spalte = input(\"In welche Spalte möchtest du dein X setzen?\")\n",
    "\n",
    "# 3.\n",
    "brett[int(zeile)][int(spalte)] = 'X'\n",
    "\n",
    "# 4.\n",
    "print(brett)"
   ],
   "outputs": [
    {
     "name": "stdout",
     "output_type": "stream",
     "text": [
      "[[' ', ' ', ' '], [' ', 'X', ' '], [' ', ' ', ' ']]\n"
     ]
    }
   ],
   "execution_count": 11
  },
  {
   "cell_type": "markdown",
   "metadata": {},
   "source": [
    "## Feedback\n",
    "Bitte scanne den QR-Code unten, um uns dein Feedback zu **Kapitel 09: Listen** zu geben\n",
    "\n",
    "![QR Code feedback](../pictures/feedbackQR.png)"
   ]
  },
  {
   "cell_type": "markdown",
   "metadata": {},
   "source": [
    "## Bonus-Übung 1: Nach dem Geburtstag des Benutzers fragen\n",
    "\n",
    "1. Frage den Benutzer nach seinem Geburtstag. Speichere ihn in einer Variable.\n",
    "2. Erstelle eine neue Liste mit 4 Werten: Die ersten drei sollen wie in Aufgabe 1 sein, der vierte Wert soll der Geburtstag des Benutzers sein\n",
    "3. Gib das Ergebnis aus"
   ]
  },
  {
   "cell_type": "code",
   "metadata": {
    "ExecuteTime": {
     "end_time": "2024-11-28T18:54:16.351245Z",
     "start_time": "2024-11-28T18:54:10.731029Z"
    }
   },
   "source": [
    "# Schreibe deinen Code unter diese Zeile\n",
    "\n",
    "geburtstag = input(\"Bitte gib deinen Geburtstag ein\")\n",
    "\n",
    "geburtstage = [\"1.1.2001\", \"2.2.2002\", \"3.3.2003\", geburtstag]\n",
    "\n",
    "print(geburtstage)"
   ],
   "outputs": [
    {
     "name": "stdout",
     "output_type": "stream",
     "text": [
      "['1.1.2001', '2.2.2002', '3.3.2003', '1.1.2000']\n"
     ]
    }
   ],
   "execution_count": 12
  },
  {
   "cell_type": "markdown",
   "metadata": {},
   "source": [
    "## Bonus-Übung 2: Bedingungen\n",
    "\n",
    "Jetzt verwenden wir if zusammen mit der Übung 2.\n",
    "\n",
    "Beginne damit, deine Lösung von Übung 2 in die neue Lösung zu kopieren.\n",
    "\n",
    "Am Ende der Lösung zu Übung 2:\n",
    "1. Wenn der zweite Wert größer als der erste Wert ist: Gib aus, dass der zweite Wert größer als der erste Wert ist.\n",
    "2. Wenn nicht, dann frage nach einer dritten Zahl. Verdopple sie, dann füge sie zur Liste hinzu.\n",
    "3. Gib die neue Liste am Ende aus (unabhängig davon, was vorher passiert)\n",
    "\n",
    "Wenn du etwas wie \"1010\" statt 20 oder \"55\" statt 10 bekommst, stelle sicher, dass du die int()-Funktion verwendest, um die Eingaben in Ganzzahlen umzuwandeln, bevor du sie zur Liste hinzufügst."
   ]
  },
  {
   "cell_type": "code",
   "metadata": {
    "ExecuteTime": {
     "end_time": "2024-11-28T18:54:19.558666Z",
     "start_time": "2024-11-28T18:54:16.353668Z"
    }
   },
   "source": [
    "# Schreibe deinen Code unter diese Zeile\n",
    "\n",
    "# 1.\n",
    "eingaben = []\n",
    "\n",
    "# 2.\n",
    "erste_eingabe = input(\"Gib eine Zahl ein\")\n",
    "eingaben.append(int(erste_eingabe))\n",
    "\n",
    "# 3.\n",
    "zweite_eingabe = input(\"Gib eine weitere Zahl ein\")\n",
    "eingaben.append(int(zweite_eingabe))\n",
    "\n",
    "# 4.\n",
    "print(eingaben)\n",
    "\n",
    "# B1.\n",
    "if eingaben[1] > eingaben[0]:\n",
    "    print(\"Zweiter Wert ist größer als erster Wert\")\n",
    "# B2.\n",
    "else:\n",
    "    dritte_eingabe = int(input(\"Gib eine dritte Zahl ein\"))\n",
    "    dritte_eingabe = dritte_eingabe * 2\n",
    "    eingaben.append(dritte_eingabe)\n",
    "\n",
    "# B3\n",
    "print(eingaben)"
   ],
   "outputs": [
    {
     "name": "stdout",
     "output_type": "stream",
     "text": [
      "[1, 1]\n",
      "[1, 1, 4]\n"
     ]
    }
   ],
   "execution_count": 13
  },
  {
   "cell_type": "markdown",
   "metadata": {},
   "source": [
    "## Bonus-Übung 3: Kombiniere dein Wissen\n",
    "\n",
    "Jetzt kombinieren wir unser Wissen bis zu diesem Punkt.\n",
    "\n",
    "Prüfe, ob der Benutzer eine Zahl eingeben kann und dann das 3-fache dieser Zahl:\n",
    "\n",
    "1. Erstelle eine leere Liste namens eingaben (wieder)\n",
    "2. Frage den Benutzer nach seiner Lieblingszahl, wandle sie in int um und hänge sie an die Liste an\n",
    "3. Frage nun nach dem 3-fachen der ersten Zahl. Wandle die Eingabe in int um und speichere sie in einer Variable.\n",
    "4. Prüfe, ob ihre Eingabe tatsächlich das 3-fache der ersten Eingabe ist\n",
    "5. Wenn ja, füge sie zur Liste hinzu. Wenn nicht, füge selbst das 3-fache des ersten Wertes zur Liste hinzu und gib eine Fehlermeldung aus\n",
    "6. Gib die resultierende Liste am Ende immer aus.\n",
    "\n",
    "Die Liste sollte immer eine Zahl und dann das 3-fache dieser Zahl enthalten, auch wenn der Benutzer die falsche Zahl in der zweiten Eingabe eingegeben hat!"
   ]
  },
  {
   "cell_type": "code",
   "metadata": {
    "ExecuteTime": {
     "end_time": "2024-11-28T18:54:24.096361Z",
     "start_time": "2024-11-28T18:54:19.559957Z"
    }
   },
   "source": [
    "# Schreibe deinen Code unter diese Zeile\n",
    "\n",
    "# 1.\n",
    "eingaben = []\n",
    "\n",
    "# 2.\n",
    "eingaben.append(int(input(\"Was ist deine Lieblingszahl?\")))\n",
    "\n",
    "# 3.\n",
    "antwort = int(input(\"Was ist das 3-fache deiner Lieblingszahl?\"))\n",
    "\n",
    "# 4.\n",
    "if antwort == 3*eingaben[0]:\n",
    "# 5.\n",
    "    eingaben.append(antwort)\n",
    "else:\n",
    "    eingaben.append(3 * eingaben[0])\n",
    "    print(\"Du hast nicht die richtige Zahl eingegeben (3 * Lieblingszahl)\")\n",
    "\n",
    "# 6.\n",
    "print(eingaben)"
   ],
   "outputs": [
    {
     "name": "stdout",
     "output_type": "stream",
     "text": [
      "[1, 3]\n"
     ]
    }
   ],
   "execution_count": 14
  },
  {
   "cell_type": "markdown",
   "metadata": {},
   "source": [
    "## Bonus-Übung 4: Schlechte Werte entfernen\n",
    "\n",
    "Wir wollen eine Liste nur mit Primzahlen.\n",
    "\n",
    "1. Erstelle eine Liste aller Zahlen von 1 bis 10\n",
    "2. Gib die Liste aus\n",
    "3. Entferne alle Zahlen, die keine Primzahlen sind. Verwende sowohl remove als auch pop mindestens einmal.\n",
    "4. Gib die neue Liste aus"
   ]
  },
  {
   "cell_type": "code",
   "metadata": {
    "ExecuteTime": {
     "end_time": "2024-11-28T18:54:24.105342Z",
     "start_time": "2024-11-28T18:54:24.098563Z"
    }
   },
   "source": [
    "# Schreibe deinen Code unter diese Zeile\n",
    "\n",
    "# 1.\n",
    "zahlen = [1, 2, 3, 4, 5, 6, 7, 8, 9, 10]\n",
    "\n",
    "# 2.\n",
    "print(zahlen)\n",
    "\n",
    "# 3.\n",
    "zahlen.pop(0) # Entferne das erste Element (es ist 1)\n",
    "zahlen.remove(4) # 4 = 2 * 2\n",
    "zahlen.remove(6) # 6 = 2 * 3\n",
    "zahlen.remove(8) # 8 = 2 * 4\n",
    "zahlen.remove(9) # 9 = 3 * 3\n",
    "zahlen.remove(10) # 10 = 2 * 5\n",
    "\n",
    "# 4.\n",
    "print(zahlen)"
   ],
   "outputs": [
    {
     "name": "stdout",
     "output_type": "stream",
     "text": [
      "[1, 2, 3, 4, 5, 6, 7, 8, 9, 10]\n",
      "[2, 3, 5, 7]\n"
     ]
    }
   ],
   "execution_count": 15
  },
  {
   "cell_type": "markdown",
   "metadata": {},
   "source": [
    "## Mögliche Fehler / Fehlerquellen\n",
    "\n",
    "Wenn du einen Fehler wie diesen bekommst:\n",
    "\n",
    "```\n",
    "---------------------------------------------------------------------------\n",
    "ValueError                                Traceback (most recent call last)\n",
    "\n",
    "...\n",
    "\n",
    "ValueError: invalid literal for int() with base 10: 'abc'\n",
    "```\n",
    "\n",
    "Dann hast du keine Zahl eingegeben! Stelle sicher, dass du nur Zahlen in die Eingabe eingibst. Das Programm wird abstürzen, wenn du keine Zahlen verwendest.\n",
    "\n",
    "Wenn du stattdessen **5 und dann 10 eingibst und deine Ergebnisse 55 und 101010 sind**, dann hast du vergessen, die Eingabe in int umzuwandeln! Statt die Eingaben als Zahlen zu behandeln, werden sie als Strings behandelt und einfach mehrmals geschrieben."
   ]
  },
  {
   "cell_type": "markdown",
   "metadata": {},
   "source": [
    "## Bonus-Übung 5: Einen Bot hinzufügen\n",
    "\n",
    "Beginne mit deiner Lösung zu Übung 5.\n",
    "1. Jetzt setzt der Computer ein 'O'. Stelle sicher, dass es nicht das X des Benutzers überschreibt!\n",
    "2. Gib das neue Brett mit X und O aus.\n",
    "\n",
    "Der Computer darf kein O dort platzieren, wo der Benutzer ein X platziert hat!\n",
    "\n",
    "Bonus-Aufgabe der Bonus-Aufgabe:\n",
    "Wenn du möchtest, kannst du dem Roboter etwas Logik hinzufügen und ihn schlau machen. Du kannst auch den Benutzer nach seinem nächsten X fragen und es ebenfalls platzieren, und so weiter."
   ]
  },
  {
   "cell_type": "code",
   "metadata": {
    "ExecuteTime": {
     "end_time": "2024-11-28T18:54:26.417068Z",
     "start_time": "2024-11-28T18:54:24.110532Z"
    }
   },
   "source": [
    "# Schreibe deinen Code unter diese Zeile\n",
    "# Lösung zu Übung 5:\n",
    "brett = [\n",
    "    [' ', ' ', ' '], \n",
    "    [' ', ' ', ' '], \n",
    "    [' ', ' ', ' ']\n",
    "]\n",
    "zeile = input(\"In welche Zeile möchtest du dein X setzen?\")\n",
    "spalte = input(\"In welche Spalte möchtest du dein X setzen?\")\n",
    "brett[int(zeile)][int(spalte)] = 'X'\n",
    "print(brett)\n",
    "# Lösung zur Bonus-Übung 5:\n",
    "\n",
    "# 1.\n",
    "# Die beste Position ist in der Mitte des Bretts,\n",
    "# also versuchen wir das O dort zu platzieren.\n",
    "beste_zeile = 1\n",
    "beste_spalte = 1\n",
    "if brett[beste_zeile][beste_spalte] == ' ':\n",
    "    # Die Position ist noch frei\n",
    "    brett[beste_zeile][beste_spalte] = 'O'\n",
    "else:\n",
    "    # Der Benutzer hat dort ein X gesetzt, also setzen wir in die Ecke.\n",
    "    brett[2][2] = 'O'\n",
    "\n",
    "# 2.\n",
    "print(brett)"
   ],
   "outputs": [
    {
     "name": "stdout",
     "output_type": "stream",
     "text": [
      "[[' ', ' ', ' '], [' ', 'X', ' '], [' ', ' ', ' ']]\n",
      "[[' ', ' ', ' '], [' ', 'X', ' '], [' ', ' ', 'O']]\n"
     ]
    }
   ],
   "execution_count": 16
  }
 ],
 "metadata": {
  "kernelspec": {
   "display_name": "Python 3",
   "language": "python",
   "name": "python3"
  },
  "language_info": {
   "codemirror_mode": {
    "name": "ipython",
    "version": 3
   },
   "file_extension": ".py",
   "mimetype": "text/x-python",
   "name": "python",
   "nbconvert_exporter": "python",
   "pygments_lexer": "ipython3",
   "version": "3.11.0"
  },
  "orig_nbformat": 4,
  "vscode": {
   "interpreter": {
    "hash": "c261aea317cc0286b3b3261fbba9abdec21eaa57589985bb7a274bf54d6cc0a7"
   }
  }
 },
 "nbformat": 4,
 "nbformat_minor": 2
}
