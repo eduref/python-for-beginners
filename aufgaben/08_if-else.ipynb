{
 "cells": [
  {
   "cell_type": "markdown",
   "metadata": {},
   "source": [
    "# if-else"
   ]
  },
  {
   "cell_type": "markdown",
   "metadata": {},
   "source": [
    "## if()\n",
    "\n",
    "Um einen nicht-linearen Programmablauf zu haben, benötigen wir Verzweigungen. Verzweigungen werden mit der `if`-Anweisung erstellt. Der `if`-Anweisung folgt ein boolescher Ausdruck und ein Codeblock. Wenn der boolesche Ausdruck `True` ergibt, wird der Codeblock ausgeführt. Wenn der boolesche Ausdruck `False` ergibt, wird der Codeblock übersprungen.\n",
    "\n",
    "```python\n",
    "alter1 = 25\n",
    "alter2 = 12\n",
    "\n",
    "if alter1 > alter2:\n",
    "    print(\"alter1 ist größer als alter2\")\n",
    "\n",
    "if alter2 > alter1:\n",
    "    print(\"alter2 ist größer als alter1\")\n",
    "```"
   ]
  },
  {
   "cell_type": "markdown",
   "metadata": {},
   "source": [
    "## Übung 1\n",
    "\n",
    "Schreibe ein Programm, das den Nutzer nach einer Zahl fragt und ausgibt, ob die Zahl gerade oder ungerade ist. (Ungerade Zahlen: 1, 3, 5, 7, 9, ... Gerade Zahlen: 0, 2, 4, 6, 8, ...)\n",
    "\n",
    "**Erinnerung 1:** Der Modulo-Operator `%` gibt den Rest einer Division zweier Zahlen zurück. Zum Beispiel ergibt `5 % 2` den Wert `1`, weil bei `5 / 2` ein Rest von `1` bleibt.\n",
    "\n",
    "**Erinnerung 2:** Die input-Funktion liest die Eingabe eines Nutzers und gibt einen String zurück. Du musst den String mit der Funktion `int()` in eine Ganzzahl umwandeln."
   ]
  },
  {
   "cell_type": "code",
   "metadata": {
    "ExecuteTime": {
     "end_time": "2024-11-28T18:47:17.233531Z",
     "start_time": "2024-11-28T18:47:12.942069Z"
    }
   },
   "source": [
    "# Schreibe deinen Code unter diese Zeile\n",
    "\n",
    "\n",
    "# Lösung zu Übung 1\n",
    "zahl = int(input(\"Gib eine Zahl ein: \"))\n",
    "\n",
    "if zahl % 2 == 0:\n",
    "    print(\"Die Zahl \", zahl, \" ist gerade\")\n",
    "\n",
    "if zahl % 2 != 0:\n",
    "    print(\"Die Zahl \", zahl, \" ist ungerade\")"
   ],
   "outputs": [
    {
     "name": "stdout",
     "output_type": "stream",
     "text": [
      "Die Zahl  10  ist gerade\n"
     ]
    }
   ],
   "execution_count": 1
  },
  {
   "cell_type": "markdown",
   "metadata": {},
   "source": [
    "## else\n",
    "\n",
    "- Um den obigen Code zu vereinfachen, können wir `if-else` anstelle von `if` verwenden. \n",
    "- Der `if-else`-Anweisung folgt ein boolescher Ausdruck und zwei Codeblöcke. \n",
    "    - Wenn der boolesche Ausdruck = `True` ist, wird der if-Block ausgeführt. \n",
    "    - Wenn der boolesche Ausdruck = `False` ist, wird der else-Block ausgeführt."
   ]
  },
  {
   "cell_type": "markdown",
   "metadata": {},
   "source": [
    "## elif()\n",
    "\n",
    "- Wir können `else if` oder die Kurzform `elif` verwenden, wenn mehr als zwei Fälle abgedeckt werden sollen.\n",
    "- `elif` verhält sich ähnlich wie eine `if`-Anweisung. Wenn der boolesche Ausdruck `False` ergibt, wird die nächste `elif`- oder `else`-Anweisung ausgewertet."
   ]
  },
  {
   "cell_type": "code",
   "metadata": {
    "ExecuteTime": {
     "end_time": "2024-11-28T18:47:17.240370Z",
     "start_time": "2024-11-28T18:47:17.236351Z"
    }
   },
   "source": [
    "# Beispiel\n",
    "zahl = 25\n",
    "\n",
    "if zahl % 2 == 0:\n",
    "    print(\"Die Zahl ist durch 2 teilbar\")\n",
    "elif zahl % 3 == 0:\n",
    "    print(\"Die Zahl ist durch 3 teilbar\")\n",
    "else:\n",
    "    print(\"Die Zahl ist weder durch 2 noch durch 3 teilbar\")"
   ],
   "outputs": [
    {
     "name": "stdout",
     "output_type": "stream",
     "text": [
      "Die Zahl ist weder durch 2 noch durch 3 teilbar\n"
     ]
    }
   ],
   "execution_count": 2
  },
  {
   "cell_type": "markdown",
   "metadata": {},
   "source": [
    "## Übung 2\n",
    "\n",
    "- Schreibe ein Programm, das den Nutzer nach einem Wort fragt und dann ausgibt, ob der Buchstabe \"a\" im Wort vorkommt, ob der Buchstabe \"b\" im Wort vorkommt, oder ob beide oder keiner der Buchstaben im Wort vorkommt.\n",
    "**Mögliche Ausgaben:** \"Beide\", \"Nur a\", \"Nur b\", \"Weder a noch b\".\n",
    "<details>\n",
    "    <summary><strong>Tipp</strong></summary>\n",
    "    Um zu prüfen, ob ein Wort einen Buchstaben enthält, kannst du den `in`-Operator verwenden.\n",
    "</details>"
   ]
  },
  {
   "cell_type": "code",
   "metadata": {
    "ExecuteTime": {
     "end_time": "2024-11-28T18:47:19.960205Z",
     "start_time": "2024-11-28T18:47:17.242136Z"
    }
   },
   "source": [
    "# Schreibe deinen Code unter diese Zeile\n",
    "\n",
    "\n",
    "# Lösung zu Übung 2\n",
    "wort = input(\"Gib ein Wort ein: \") # Eingabe holen\n",
    "\n",
    "if \"a\" in wort and \"b\" in wort: # prüft auf beide a und b\n",
    "    print(\"Das Wort \", wort, \" enthält sowohl a als auch b\")\n",
    "\n",
    "elif \"a\" in wort: # prüft auf a\n",
    "    print(\"Das Wort \", wort, \" enthält den Buchstaben a\")\n",
    "\n",
    "elif \"b\" in wort: # prüft auf b nur wenn a nicht vorhanden ist\n",
    "    print(\"Das Wort \", wort, \" enthält den Buchstaben b\")\n",
    "\n",
    "else: # alle anderen Fälle\n",
    "    print(\"Das Wort \", wort, \" enthält weder a noch b\")"
   ],
   "outputs": [
    {
     "name": "stdout",
     "output_type": "stream",
     "text": [
      "Das Wort  Hi  enthält weder a noch b\n"
     ]
    }
   ],
   "execution_count": 3
  },
  {
   "cell_type": "markdown",
   "metadata": {},
   "source": [
    "## Bonusübung\n",
    "\n",
    "Schreibe ein Programm, das den Nutzer nach einer Zahl oder einem Wort fragt.\n",
    "- Wenn die Eingabe eine Zahl ist, soll Folgendes geprüft werden:\n",
    "    - Ob die Zahl gerade oder ungerade ist\n",
    "    - Wenn die Zahl ungerade ist, gib \"ungerade\" aus. Wenn die Zahl gerade ist, gib \"gerade\" aus.\n",
    "    - Wenn die Zahl durch 4 teilbar ist, gib \"durch 4 teilbar\" aus.\n",
    "    - Wenn die Zahl durch 4 teilbar ist und größer als 100 ist, gib \"größer als 100\" aus.\n",
    "    - Wenn die Zahl durch 4 teilbar ist und kleiner als 100 ist, gib \"kleiner als 100\" aus.\n",
    "    - Wenn die Zahl nicht durch 4 teilbar ist, gib \"nicht durch 4 teilbar\" aus.\n",
    "\n",
    "- Wenn die Eingabe ein Wort ist, soll Folgendes geprüft werden:\n",
    "    - Ob das Wort den Buchstaben \"a\" enthält\n",
    "    - Ob das Wort den Buchstaben \"b\" enthält\n",
    "    - Ob beide oder keiner der Buchstaben im Wort vorkommt\n",
    "\n",
    "<details>\n",
    "    <summary><strong>Tipp</strong></summary>\n",
    "    Du kannst die Funktion <strong>isnumeric()</strong> verwenden, um zu prüfen, ob eine Variable eine Zahl oder ein String ist. Zum Beispiel ergibt `\"123\".isnumeric()` den Wert `True` und `\"abc\".isnumeric()` den Wert `False`.\n",
    "</details>"
   ]
  },
  {
   "cell_type": "code",
   "metadata": {
    "ExecuteTime": {
     "end_time": "2024-11-28T18:47:23.142028Z",
     "start_time": "2024-11-28T18:47:19.962177Z"
    }
   },
   "source": [
    "# Schreibe deinen Code unter diese Zeile\n",
    "\n",
    "\n",
    "# Lösung zur Bonusübung\n",
    "eingabe = input(\"Gib eine Zahl oder ein Wort ein: \")\n",
    "if eingabe.isnumeric():\n",
    "    print(\"Die Eingabe ist eine Zahl\")\n",
    "    num = int(eingabe)\n",
    "    if num % 2 == 0:\n",
    "        print(\"Die Zahl ist gerade\")\n",
    "        if num % 4 == 0:\n",
    "            print(\"Die Zahl ist durch 4 teilbar\")\n",
    "            if num > 100:\n",
    "                print(\"Die Zahl ist größer als 100\")\n",
    "            else:\n",
    "                print(\"Die Zahl ist nicht größer als 100\")\n",
    "        else:\n",
    "            print(\"Die Zahl ist nicht durch 4 teilbar\")\n",
    "    else:\n",
    "        print(\"Die Zahl ist ungerade\")\n",
    "else:\n",
    "    print(\"Die Eingabe ist ein Wort\")\n",
    "    if \"a\" in eingabe and \"b\" in eingabe:\n",
    "        print(\"Das Wort \", eingabe, \" enthält sowohl a als auch b\")\n",
    "    elif \"a\" in eingabe:\n",
    "        print(\"Das Wort \", eingabe, \" enthält den Buchstaben a\")\n",
    "    elif \"b\" in eingabe:\n",
    "        print(\"Das Wort \", eingabe, \" enthält den Buchstaben b\")\n",
    "    else:\n",
    "        print(\"Das Wort \", eingabe, \" enthält weder a noch b\")"
   ],
   "outputs": [
    {
     "name": "stdout",
     "output_type": "stream",
     "text": [
      "Die Eingabe ist eine Zahl\n",
      "Die Zahl ist ungerade\n"
     ]
    }
   ],
   "execution_count": 4
  },
  {
   "cell_type": "markdown",
   "metadata": {},
   "source": [
    "## Feedback\n",
    "Bitte scanne den QR-Code unten, um uns dein Feedback zu **Kapitel 08: if else** zu geben\n",
    "\n",
    "![QR Code Feedback](../pictures/feedbackQR.png)"
   ]
  }
 ],
 "metadata": {
  "kernelspec": {
   "display_name": "base",
   "language": "python",
   "name": "python3"
  },
  "language_info": {
   "codemirror_mode": {
    "name": "ipython",
    "version": 3
   },
   "file_extension": ".py",
   "mimetype": "text/x-python",
   "name": "python",
   "nbconvert_exporter": "python",
   "pygments_lexer": "ipython3",
   "version": "3.10.12"
  }
 },
 "nbformat": 4,
 "nbformat_minor": 2
}
