{
 "cells": [
  {
   "cell_type": "markdown",
   "metadata": {},
   "source": [
    "# Funktionen\n",
    "\n",
    "Funktionen sind eine Möglichkeit, Code zu gruppieren. Sie sind nützlich zur Wiederverwendung von Code und um Programme lesbarer zu machen.\n",
    "\n",
    "Bestandteile einer Funktion:  \n",
    "    - **Name**: Wie du die Funktion aufrufst  \n",
    "    - **Parameter**: Die Variablen, die die Funktion für ihre Arbeit benötigt  \n",
    "    - **Körper**: Der Code, den die Funktion ausführt, wenn sie aufgerufen wird  \n",
    "    - **Rückgabewert**: Der Wert, den die Funktion zurückgibt, wenn sie fertig ist  \n",
    "\n",
    "Funktionen werden mit dem Schlüsselwort `def` definiert. Der Name der Funktion wird von Klammern und einem Doppelpunkt gefolgt. Der Körper der Funktion ist eingerückt.\n",
    "\n",
    "Beispiel:\n",
    "\n",
    "```python  \n",
    "def addiere(a, b):\n",
    "    return a + b\n",
    "```\n",
    "\n",
    "    "
   ]
  },
  {
   "cell_type": "markdown",
   "metadata": {},
   "source": [
    "## Übung 1\n",
    "\n",
    "Schreibe eine Funktion ohne Argumente, die \"Hallo, ich bin eine Funktion\" ausgibt."
   ]
  },
  {
   "cell_type": "code",
   "metadata": {
    "ExecuteTime": {
     "end_time": "2024-11-28T20:13:01.909712Z",
     "start_time": "2024-11-28T20:13:01.904918Z"
    }
   },
   "source": [
    "# Schreibe deinen Code unter diese Zeile\n",
    "\n",
    "def hallo():\n",
    "    print(\"Hallo, ich bin eine Funktion\")\n",
    "\n",
    "hallo()"
   ],
   "outputs": [
    {
     "name": "stdout",
     "output_type": "stream",
     "text": [
      "Hallo, ich bin eine Funktion\n"
     ]
    }
   ],
   "execution_count": 1
  },
  {
   "cell_type": "markdown",
   "metadata": {},
   "source": [
    "Argumente sind die Variablen, die die Funktion für ihre Arbeit benötigt. Im vorherigen Fall benötigt die Funktion keine Argumente.\n",
    "\n",
    "Es gibt verschiedene Arten von Argumenten:\n",
    "    - **Positionsargumente**: Die Argumente werden in der Reihenfolge übergeben, in der sie in der Funktion definiert sind.\n",
    "    - **Schlüsselwortargumente**: Die Argumente werden mit ihrem Namen übergeben.\n",
    "    - **Standardargumente**: Die Argumente haben einen Standardwert, der verwendet wird, wenn kein Argument übergeben wird.\n",
    "    - **Variable/Beliebige Argumente**: Die Anzahl der Argumente ist variabel."
   ]
  },
  {
   "cell_type": "markdown",
   "metadata": {},
   "source": [
    "## Übung 2\n",
    "\n",
    "Schreibe eine Funktion mit zwei Argumenten und gib diese Argumente aus.\n",
    "\n",
    "Rufe sie mit Positionsargumenten, Schlüsselwortargumenten und einer Mischung aus beidem auf.\n"
   ]
  },
  {
   "cell_type": "code",
   "metadata": {
    "ExecuteTime": {
     "end_time": "2024-11-28T20:13:01.913140Z",
     "start_time": "2024-11-28T20:13:01.910919Z"
    }
   },
   "source": [
    "# Schreibe deinen Code unter diese Zeile\n",
    "\n",
    "def meine_funktion(argument1, argument2):\n",
    "    print(\"erstes Argument: \", argument1)\n",
    "    print(\"zweites Argument: \", argument2)\n",
    "\n",
    "# Positionsargumente\n",
    "meine_funktion(\"Hallo\", \"Welt\")\n",
    "\n",
    "# Schlüsselwortargumente\n",
    "meine_funktion(argument2=\"Welt\", argument1=\"Hallo\")\n",
    "\n",
    "# gemischte Argumente\n",
    "meine_funktion(\"Hallo\", argument2=\"Welt\")"
   ],
   "outputs": [
    {
     "name": "stdout",
     "output_type": "stream",
     "text": [
      "erstes Argument:  Hallo\n",
      "zweites Argument:  Welt\n",
      "erstes Argument:  Hallo\n",
      "zweites Argument:  Welt\n",
      "erstes Argument:  Hallo\n",
      "zweites Argument:  Welt\n"
     ]
    }
   ],
   "execution_count": 2
  },
  {
   "cell_type": "markdown",
   "metadata": {},
   "source": [
    "## Standardargumente\n",
    "\n",
    "Standardargumente sind Argumente mit einem Standardwert. Wird das Argument nicht übergeben, wird der Standardwert verwendet.\n",
    "\n",
    "Beispiel:\n",
    "\n",
    "```python\n",
    "def subtrahiere(a, b=0):\n",
    "    print(a - b)\n",
    "```\n",
    "\n",
    "## Übung 3\n",
    "\n",
    "Schreibe eine Funktion, die vier Argumente nimmt. Die Funktion gibt die Summe aller Argumente aus. Um flexibel zu sein, haben alle Argumente einen Standardwert von 0.\n"
   ]
  },
  {
   "cell_type": "code",
   "metadata": {
    "ExecuteTime": {
     "end_time": "2024-11-28T20:13:01.916577Z",
     "start_time": "2024-11-28T20:13:01.913898Z"
    }
   },
   "source": [
    "# Schreibe deinen Code unter diese Zeile\n",
    "\n",
    "def addiere_funktion(a=0, b=0, c=0, d=0):\n",
    "    print(a + b + c + d)\n",
    "\n",
    "addiere_funktion(1, 2, 3, 4)\n",
    "addiere_funktion(1, 2, 3)\n",
    "addiere_funktion(1, 2)"
   ],
   "outputs": [
    {
     "name": "stdout",
     "output_type": "stream",
     "text": [
      "10\n",
      "6\n",
      "3\n"
     ]
    }
   ],
   "execution_count": 3
  },
  {
   "cell_type": "markdown",
   "metadata": {},
   "source": [
    "## Die return-Anweisung\n",
    "\n",
    "Die return-Anweisung wird verwendet, um einen Wert aus einer Funktion zurückzugeben. Sie kann verwendet werden, um das Ergebnis einer Berechnung zurückzugeben oder die Funktion vorzeitig zu verlassen.\n",
    "\n",
    "Beispiel:\n",
    "\n",
    "```python\n",
    "def addiere(a, b):\n",
    "    return a + b\n",
    "```\n",
    "x = addiere(1, 2)"
   ]
  },
  {
   "cell_type": "markdown",
   "metadata": {},
   "source": [
    "## Übung 4\n",
    "\n",
    "Schreibe eine Funktion, die prüft, ob eine Zahl gerade oder ungerade ist. Die Funktion nimmt ein Argument und gibt True zurück, wenn die Zahl gerade ist, und False, wenn die Zahl ungerade ist.\n",
    "\n",
    "Erinnerung: Der Modulo-Operator `%` gibt den Rest einer Division zurück. `a % b` gibt den Rest von `a` geteilt durch `b`."
   ]
  },
  {
   "cell_type": "code",
   "metadata": {
    "ExecuteTime": {
     "end_time": "2024-11-28T20:13:01.920085Z",
     "start_time": "2024-11-28T20:13:01.917418Z"
    }
   },
   "source": [
    "# Schreibe deinen Code unter diese Zeile\n",
    "\n",
    "def ist_gerade(zahl):\n",
    "    return zahl % 2 == 0\n",
    "\n",
    "print(ist_gerade(2))\n",
    "print(ist_gerade(3))"
   ],
   "outputs": [
    {
     "name": "stdout",
     "output_type": "stream",
     "text": [
      "True\n",
      "False\n"
     ]
    }
   ],
   "execution_count": 4
  },
  {
   "cell_type": "markdown",
   "metadata": {},
   "source": [
    "# Jetzt weißt du, wie man Funktionen schreibt! Herzlichen Glückwunsch!\n",
    "\n",
    "## Bonusübung\n",
    "\n",
    "Schreibe eine Funktion, die eine Liste von Zahlen nimmt und die Summe aller geraden Zahlen in der Liste zurückgibt. Tipp: Verwende die Funktion aus Übung 4."
   ]
  },
  {
   "cell_type": "code",
   "metadata": {
    "ExecuteTime": {
     "end_time": "2024-11-28T20:13:01.924455Z",
     "start_time": "2024-11-28T20:13:01.922214Z"
    }
   },
   "source": [
    "# Schreibe deinen Code unter diese Zeile\n",
    "\n",
    "def summe_gerade(zahlen):\n",
    "    summe = 0\n",
    "    for zahl in zahlen:\n",
    "        if ist_gerade(zahl):\n",
    "            summe += zahl\n",
    "    return summe"
   ],
   "outputs": [],
   "execution_count": 5
  },
  {
   "cell_type": "markdown",
   "metadata": {},
   "source": [
    "## Bonusübung 2\n",
    "\n",
    "Du bist sehr schnell, also lass uns eine schwierigere Übung probieren.\n",
    "Die Fibonacci-Folge ist eine Folge von Zahlen, bei der jede Zahl die Summe der beiden vorherigen Zahlen ist. Die ersten beiden Zahlen sind 0 und 1.\n",
    "Die Folge ist also 0, 1, 1, 2, 3, 5, 8, 13, 21, ...\n",
    "\n",
    "Wir möchten eine Funktion, die eine Zahl `n` nimmt und die `n`-te Zahl in der Fibonacci-Folge zurückgibt. Zum Beispiel sollte `fibonacci(5)` 3 zurückgeben, weil die 5. Zahl in der Fibonacci-Folge 3 ist. `fibonacci(7)` sollte 8 zurückgeben, weil die 7. Zahl in der Fibonacci-Folge 8 ist.\n",
    "\n",
    "Tipp: Du kannst Rekursion verwenden, um dieses Problem zu lösen. Rekursion bedeutet, dass eine Funktion sich selbst aufruft. Zum Beispiel:\n",
    "\n",
    "```python\n",
    "def countdown(n):\n",
    "    if n == 0:\n",
    "        print(\"Start!\")\n",
    "    else:\n",
    "        print(n)\n",
    "        countdown(n - 1)\n",
    "\n",
    "countdown(3)\n",
    "```"
   ]
  },
  {
   "cell_type": "code",
   "metadata": {
    "ExecuteTime": {
     "end_time": "2024-11-28T20:13:01.930310Z",
     "start_time": "2024-11-28T20:13:01.925109Z"
    }
   },
   "source": [
    "# Schreibe deinen Code unter diese Zeile\n",
    "\n",
    "def fibonacci(n):\n",
    "    if n == 0 or n == 1:\n",
    "        return 1\n",
    "    else:\n",
    "        return fibonacci(n-1) + fibonacci(n-2)\n",
    "    \n",
    "print(fibonacci(20))\n",
    "\n",
    "def fibonacci_ohne_rekursion(n):\n",
    "    if n == 0 or n == 1:\n",
    "        return 1\n",
    "    else:\n",
    "        a = 1\n",
    "        b = 1\n",
    "        for i in range(2, n+1):\n",
    "            c = a + b\n",
    "            a = b\n",
    "            b = c\n",
    "        return c\n",
    "    \n",
    "print(fibonacci_ohne_rekursion(20))"
   ],
   "outputs": [
    {
     "name": "stdout",
     "output_type": "stream",
     "text": [
      "10946\n",
      "10946\n"
     ]
    }
   ],
   "execution_count": 6
  },
  {
   "cell_type": "markdown",
   "metadata": {},
   "source": [
    "## Feedback \n",
    "Bitte scanne den QR-Code unten, um uns dein Feedback zu **Kapitel 12: Funktionen** zu geben  \n",
    "![QR Code feedback](../pictures/feedbackQR.png)"
   ]
  }
 ],
 "metadata": {
  "kernelspec": {
   "display_name": "base",
   "language": "python",
   "name": "python3"
  },
  "language_info": {
   "codemirror_mode": {
    "name": "ipython",
    "version": 3
   },
   "file_extension": ".py",
   "mimetype": "text/x-python",
   "name": "python",
   "nbconvert_exporter": "python",
   "pygments_lexer": "ipython3",
   "version": "3.10.8"
  }
 },
 "nbformat": 4,
 "nbformat_minor": 2
}
