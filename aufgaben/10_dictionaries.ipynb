{
 "cells": [
  {
   "cell_type": "markdown",
   "metadata": {},
   "source": [
    "# Python Dictionaries (Wörterbücher)\n",
    "Ein Dictionary ist eine ungeordnete Sammlung von `Schlüssel:Wert`-Paaren.\n",
    "Es bietet eine Möglichkeit, Datenelemente miteinander zu verknüpfen, sodass wir schnell Werte finden können, die miteinander verbunden sind."
   ]
  },
  {
   "cell_type": "markdown",
   "metadata": {},
   "source": [
    "## Erstellen eines Dictionaries\n",
    "Zum Beispiel können wir ein Dictionary namens `person` erstellen, um diese Daten zu speichern:\n",
    "```python\n",
    "person = {\n",
    "    \"name\": \"John\",\n",
    "    \"alter\": 36,\n",
    "    \"land\": \"Norwegen\"\n",
    "}\n",
    "```\n",
    "Beachte, dass:\n",
    "1. Ein Dictionary mit geschweiften Klammern `{` und `}` beginnt und endet.\n",
    "2. Jedes Element besteht aus einem Schlüssel (`\"alter\"`) und einem Wert (`36`).\n",
    "3. Jedes `Schlüssel:Wert`-Paar durch ein Komma getrennt wird."
   ]
  },
  {
   "cell_type": "markdown",
   "metadata": {},
   "source": [
    "## Übung 1\n",
    "1. Erstelle ein Dictionary namens `uebersetzungen`, das die folgenden englischen Wörter ihren italienischen Übersetzungen zuordnet.\n",
    "\n",
    "<div style=\"display: flex; justify-content: center;\">\n",
    "  <table>\n",
    "    <tr>\n",
    "      <th>Englisch</th>\n",
    "      <th>Italienisch</th>\n",
    "    </tr>\n",
    "    <tr>\n",
    "      <td>hello</td>\n",
    "      <td>ciao</td>\n",
    "    </tr>\n",
    "    <tr>\n",
    "      <td>mountain</td>\n",
    "      <td>montagna</td>\n",
    "    </tr>\n",
    "    <tr>\n",
    "      <td>cat</td>\n",
    "      <td>gatto</td>\n",
    "    </tr>\n",
    "    <tr>\n",
    "      <td>water</td>\n",
    "      <td>acqua</td>\n",
    "    </tr>\n",
    "  </table>\n",
    "</div>\n",
    "\n",
    "2. Wenn du fertig bist, gib das Dictionary aus."
   ]
  },
  {
   "cell_type": "code",
   "metadata": {
    "ExecuteTime": {
     "end_time": "2024-11-28T18:56:59.182312Z",
     "start_time": "2024-11-28T18:56:59.176789Z"
    }
   },
   "source": [
    "# Schreibe deinen Code unter diese Zeile\n",
    "\n",
    "\n",
    "\n",
    "# Lösung für Übung 1\n",
    "uebersetzungen = {\n",
    "    \"hello\": \"ciao\",\n",
    "    \"mountain\": \"montagna\",\n",
    "    \"cat\": \"gatto\",\n",
    "    \"water\": \"acqua\"\n",
    "}\n",
    "\n",
    "print(uebersetzungen)"
   ],
   "outputs": [
    {
     "name": "stdout",
     "output_type": "stream",
     "text": [
      "{'hello': 'ciao', 'mountain': 'montagna', 'cat': 'gatto', 'water': 'acqua'}\n"
     ]
    }
   ],
   "execution_count": 1
  },
  {
   "cell_type": "markdown",
   "metadata": {},
   "source": [
    "## Schlüssel hinzufügen\n",
    "Um ein einzelnes `Schlüssel:Wert`-Paar zu einem Dictionary hinzuzufügen, können wir die folgende Syntax verwenden:\n",
    "``` python\n",
    "dictionary[schluessel] = wert\n",
    "```\n",
    "Wenn wir zum Beispiel unser `person` Dictionary vom Anfang hätten und einen neuen Eintrag `\"einkaufsliste\"` hinzufügen wollten, könnten wir schreiben:\n",
    "``` python\n",
    "person[\"einkaufsliste\"] = [\"Brot\", \"Butter\", \"Milch\"]\n",
    "```"
   ]
  },
  {
   "cell_type": "markdown",
   "metadata": {},
   "source": [
    "## Übung 2\n",
    "1. Erstelle ein leeres Dictionary namens `tiere_im_zoo`.\n",
    "2. Beim Rundgang durch den Zoo siehst du 8 Zebras. Füge `\"zebras\"` zum Dictionary tiere_im_zoo als Schlüssel mit dem Wert `8` hinzu. \n",
    "3. Beim Verlassen des Zoos bist du traurig, dass du keine Dinosaurier gesehen hast. Füge `\"dinosaurier\"` zu tiere_im_zoo als Schlüssel mit dem Wert `0` hinzu.\n",
    "4. Gib tiere_im_zoo aus"
   ]
  },
  {
   "cell_type": "code",
   "metadata": {
    "ExecuteTime": {
     "end_time": "2024-11-28T18:56:59.186387Z",
     "start_time": "2024-11-28T18:56:59.183776Z"
    }
   },
   "source": [
    "# Schreibe deinen Code unter diese Zeile\n",
    "\n",
    "\n",
    "\n",
    "# Lösung für Übung 2\n",
    "tiere_im_zoo = {}\n",
    "\n",
    "tiere_im_zoo[\"zebras\"] = 8\n",
    "tiere_im_zoo[\"dinosaurier\"] = 0\n",
    "\n",
    "print(tiere_im_zoo)"
   ],
   "outputs": [
    {
     "name": "stdout",
     "output_type": "stream",
     "text": [
      "{'zebras': 8, 'dinosaurier': 0}\n"
     ]
    }
   ],
   "execution_count": 2
  },
  {
   "cell_type": "markdown",
   "metadata": {},
   "source": [
    "## Mehrere Schlüssel hinzufügen\n",
    "Wenn wir mehrere `Schlüssel:Wert`-Paare auf einmal zu einem Dictionary hinzufügen möchten, können wir die `.update()`-Methode verwenden.\n",
    "Schauen wir uns das Dictionary `raeume` an, das die Anzahl der Räume in einem Haus beschreibt.\n",
    "```python\n",
    "raeume = {\n",
    "    \"wohnzimmer\": 1,\n",
    "    \"schlafzimmer\": 3,\n",
    "    \"badezimmer\": 2\n",
    "}\n",
    "```\n",
    "Wenn wir 3 neue Räume hinzufügen wollen, können wir schreiben:\n",
    "```python\n",
    "raeume.update({\"kueche\": 1, \"gaestezimmer\": 3, \"fitnessraum\": 1})\n",
    "```"
   ]
  },
  {
   "cell_type": "markdown",
   "metadata": {},
   "source": [
    "## Übung 3\n",
    "1. Füge in einer Zeile Code zwei neue Benutzer zum Dictionary `benutzer_ids` hinzu:\n",
    "    - `derSchleifenMacher`, mit einer ID von 641285\n",
    "    - `stringKoenigin`, mit einer ID von 928401\n",
    "2. Gib benutzer_ids aus."
   ]
  },
  {
   "cell_type": "code",
   "metadata": {
    "ExecuteTime": {
     "end_time": "2024-11-28T18:56:59.190416Z",
     "start_time": "2024-11-28T18:56:59.187234Z"
    }
   },
   "source": [
    "# Verändere diesen Code-Abschnitt NICHT\n",
    "benutzer_ids = {\"teraCoder\": 9018293, \"brogrammer\": 119238}\n",
    "\n",
    "# Schreibe deinen Code unter diese Zeile\n",
    "\n",
    "\n",
    "\n",
    "# Lösung für Übung 3\n",
    "benutzer_ids.update({\n",
    "    \"derSchleifenMacher\": 641285,\n",
    "    \"stringKoenigin\": 928401\n",
    "})\n",
    "\n",
    "print(benutzer_ids)"
   ],
   "outputs": [
    {
     "name": "stdout",
     "output_type": "stream",
     "text": [
      "{'teraCoder': 9018293, 'brogrammer': 119238, 'derSchleifenMacher': 641285, 'stringKoenigin': 928401}\n"
     ]
    }
   ],
   "execution_count": 3
  },
  {
   "cell_type": "markdown",
   "metadata": {},
   "source": [
    "## Werte überschreiben\n",
    "Was passiert, wenn wir einen Schlüssel verwenden, der bereits einen Eintrag im `speisekarte` Dictionary hat?\n",
    "In diesem Fall würde unsere Wertzuweisung den bestehenden Wert überschreiben. Wir können den Wert von `\"haferbrei\"` wie folgt überschreiben:\n",
    "```python\n",
    "speisekarte = {\"haferbrei\": 3, \"avocado toast\": 6, \"karottensaft\": 5, \"blaubeermuffin\": 2}\n",
    "speisekarte[\"haferbrei\"] = 5\n",
    "```\n",
    "Der Wert von `\"haferbrei\"` wurde jetzt zu `5` geändert."
   ]
  },
  {
   "cell_type": "markdown",
   "metadata": {},
   "source": [
    "## Übung 4\n",
    "1. Füge den Schlüssel `\"Beste Nebendarstellerin\"` hinzu und setze den Wert auf `\"Jamie Lee Curtis\"`.\n",
    "2. Ändere den Wert für den Schlüssel `\"Bester Film\"` zu `\"Moonlight\"`, ohne die Definition des Dictionaries `oscar_gewinner` zu ändern.\n",
    "3. Gib `oscar_gewinner` aus.\n"
   ]
  },
  {
   "cell_type": "code",
   "metadata": {
    "ExecuteTime": {
     "end_time": "2024-11-28T18:56:59.193760Z",
     "start_time": "2024-11-28T18:56:59.191340Z"
    }
   },
   "source": [
    "# Verändere diesen Code-Abschnitt NICHT\n",
    "oscar_gewinner = {\n",
    "    \"Bester Film\": \"La La Land\", \n",
    "    \"Beste Schauspielerin\": \"Michelle Yeoh\", \n",
    "    \"Bester Schauspieler\": \"Brendan Fraser\"\n",
    "}\n",
    "\n",
    "# Schreibe deinen Code unter diese Zeile\n",
    "\n",
    "\n",
    "\n",
    "# Lösung für Übung 4\n",
    "oscar_gewinner[\"Beste Nebendarstellerin\"] = \"Jamie Lee Curtis\"\n",
    "oscar_gewinner[\"Bester Film\"] = \"Moonlight\" \n",
    "\n",
    "print(oscar_gewinner)\n"
   ],
   "outputs": [
    {
     "name": "stdout",
     "output_type": "stream",
     "text": [
      "{'Bester Film': 'Moonlight', 'Beste Schauspielerin': 'Michelle Yeoh', 'Bester Schauspieler': 'Brendan Fraser', 'Beste Nebendarstellerin': 'Jamie Lee Curtis'}\n"
     ]
    }
   ],
   "execution_count": 4
  },
  {
   "cell_type": "markdown",
   "metadata": {},
   "source": [
    "## Einträge löschen\n",
    "Um ein `Schlüssel:Wert`-Paar zu entfernen, betrachte folgendes Dictionary:\n",
    "```python\n",
    "mein_dict = {\"apfel\": 10, \"banane\": 5, \"kirsche\": 7}\n",
    "```\n",
    "Es gibt zwei Möglichkeiten dies zu erreichen:\n",
    "1. Mit `del`:\n",
    "    ```python\n",
    "    del mein_dict[\"banane\"]\n",
    "    ```\n",
    "2. Mit `pop`:\n",
    "    ```python\n",
    "    wert = mein_dict.pop(\"banane\")\n",
    "    ```"
   ]
  },
  {
   "cell_type": "markdown",
   "metadata": {},
   "source": [
    "## Übung 5\n",
    " Gegeben ist das folgende Dictionary `\"lagerbestand\"` in einem Geschäft.\n",
    " 1. Das Geschäft hat keine Hüte mehr. Entferne Hüte aus dem Dictionary mit dem del Schlüsselwort.\n",
    " 2. Eine neue Bestandsaufnahme ergab, dass es tatsächlich 10 Paar Schuhe gibt. Verwende pop(), um Schuhe aus dem Dictionary zu entfernen und speichere den alten Bestand in einer Variable namens `\"alter_schuh_bestand\"`\n",
    " 3. Gib die Variable aus."
   ]
  },
  {
   "cell_type": "code",
   "metadata": {
    "ExecuteTime": {
     "end_time": "2024-11-28T18:56:59.199733Z",
     "start_time": "2024-11-28T18:56:59.196596Z"
    }
   },
   "source": [
    "# Verändere diesen Code-Abschnitt NICHT\n",
    "lagerbestand = {\n",
    "    \"hemden\": 25,\n",
    "    \"hosen\": 30,\n",
    "    \"socken\": 50,\n",
    "    \"huete\": 15,\n",
    "    \"schuhe\": 8\n",
    "}\n",
    "\n",
    "# Schreibe deinen Code unter diese Zeile\n",
    "\n",
    "\n",
    "\n",
    "# Lösung für Übung 5\n",
    "del lagerbestand[\"huete\"]\n",
    "alter_schuh_bestand = lagerbestand.pop(\"schuhe\")\n",
    "\n",
    "print(\"Alter Bestand für Schuhe:\", alter_schuh_bestand)"
   ],
   "outputs": [
    {
     "name": "stdout",
     "output_type": "stream",
     "text": [
      "Alter Bestand für Schuhe: 8\n"
     ]
    }
   ],
   "execution_count": 5
  },
  {
   "cell_type": "markdown",
   "metadata": {},
   "source": [
    "## Feedback\n",
    "Bitte scanne den QR-Code unten, um uns dein Feedback zu **Kapitel 10: Dictionaries** zu geben\n",
    "\n",
    "![QR Code feedback](../pictures/feedbackQR.png)"
   ]
  },
  {
   "cell_type": "markdown",
   "metadata": {},
   "source": [
    "## Bonus-Übung\n",
    "Ziel ist es, dein Verständnis der eingebauten Python-Funktionen für Dictionaries zu vertiefen.\n",
    "1. Verwende für das Dictionary `person_info` Dictionary-Methoden, um folgende Aufgaben auszuführen:\n",
    "    - Hole den Wert des Schlüssels `'alter'` und gib ihn aus\n",
    "    - Aktualisiere die `'stadt'` zu `'New York'`\n",
    "    - Füge ein neues Schlüssel-Wert-Paar `'beruf': 'Ingenieur'` hinzu\n",
    "2. Verwende für das Dictionary `person_info` eine einzige Zeile Python-Code, um eine Liste aller Einträge (Schlüssel) im Inventar zu erhalten. \n",
    "                        <details>\n",
    "                            <summary><strong>Tipp</strong></summary>\n",
    "                            Nutze die `.keys()`-Methode.\n",
    "                        </details>\n",
    "3. Greife auf den Wert von `'email'` innerhalb von `'kontakt'` zu.\n",
    "    - Hole den Wert von `'email'` und speichere ihn in einer Variable namens `email_adresse`.\n",
    "    - Gib den Wert von `email_adresse` aus"
   ]
  },
  {
   "cell_type": "code",
   "metadata": {
    "ExecuteTime": {
     "end_time": "2024-11-28T18:56:59.203744Z",
     "start_time": "2024-11-28T18:56:59.200395Z"
    }
   },
   "source": [
    "# Verändere diesen Code-Abschnitt NICHT\n",
    "person_info = {\n",
    "    \"name\": \"John Doe\",\n",
    "    \"alter\": 30,\n",
    "    \"stadt\": \"San Francisco\",\n",
    "    \"kontakt\": {\n",
    "        \"email\": \"johndoe@example.com\",\n",
    "        \"telefon\": 123456,\n",
    "    },\n",
    "}\n",
    "\n",
    "# Schreibe deinen Code unter diese Zeile\n",
    "\n",
    "\n",
    "\n",
    "# Lösung für Bonus-Übung\n",
    "\n",
    "# Aufgabe 1\n",
    "print(person_info[\"alter\"])\n",
    "person_info[\"stadt\"] = \"New York\"\n",
    "person_info[\"beruf\"] = \"Ingenieur\"\n",
    "\n",
    "# Aufgabe 2\n",
    "list(person_info.keys())\n",
    "\n",
    "# Aufgabe 3\n",
    "email_adresse = person_info[\"kontakt\"][\"email\"]\n",
    "print(email_adresse)"
   ],
   "outputs": [
    {
     "name": "stdout",
     "output_type": "stream",
     "text": [
      "30\n",
      "johndoe@example.com\n"
     ]
    }
   ],
   "execution_count": 6
  }
 ],
 "metadata": {
  "kernelspec": {
   "display_name": "base",
   "language": "python",
   "name": "python3"
  },
  "language_info": {
   "codemirror_mode": {
    "name": "ipython",
    "version": 3
   },
   "file_extension": ".py",
   "mimetype": "text/x-python",
   "name": "python",
   "nbconvert_exporter": "python",
   "pygments_lexer": "ipython3",
   "version": "3.11.0"
  },
  "orig_nbformat": 4
 },
 "nbformat": 4,
 "nbformat_minor": 2
}
