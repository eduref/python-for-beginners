{
 "cells": [
  {
   "cell_type": "markdown",
   "metadata": {},
   "source": [
    "# Python Dictionaries (Wörterbücher)\n",
    "Ein Dictionary ist eine ungeordnete Menge von `Schlüssel:Wert`-Paaren.\n",
    "Es bietet eine Möglichkeit, Datenstücke miteinander zu verknüpfen, sodass wir schnell zusammengehörige Werte finden können."
   ]
  },
  {
   "cell_type": "markdown",
   "metadata": {},
   "source": [
    "## Ein Dictionary erstellen\n",
    "Zum Beispiel können wir ein Dictionary namens `person` erstellen, um diese Daten zu speichern:\n",
    "```python\n",
    "person = {\n",
    "    \"name\": \"John\",\n",
    "    \"alter\": 36,\n",
    "    \"land\": \"Norwegen\"\n",
    "}\n",
    "```\n",
    "Beachte dass:\n",
    "1. Ein Dictionary mit geschweiften Klammern `{` und `}` beginnt und endet.\n",
    "2. Jedes Element besteht aus einem Schlüssel (`\"alter\"`) und einem Wert (`36`).\n",
    "3. Jedes `Schlüssel:Wert`-Paar wird durch ein Komma getrennt."
   ]
  },
  {
   "cell_type": "markdown",
   "metadata": {},
   "source": [
    "## Übung 1\n",
    "1. Erstelle ein Dictionary namens `uebersetzungen`, das die folgenden englischen Wörter mit ihrer italienischen Übersetzung verknüpft.\n",
    "\n",
    "<div style=\"display: flex; justify-content: center;\">\n",
    "  <table>\n",
    "    <tr>\n",
    "      <th>Englisch</th>\n",
    "      <th>Italienisch</th>\n",
    "    </tr>\n",
    "    <tr>\n",
    "      <td>hello</td>\n",
    "      <td>ciao</td>\n",
    "    </tr>\n",
    "    <tr>\n",
    "      <td>mountain</td>\n",
    "      <td>montagna</td>\n",
    "    </tr>\n",
    "    <tr>\n",
    "      <td>cat</td>\n",
    "      <td>gatto</td>\n",
    "    </tr>\n",
    "    <tr>\n",
    "      <td>water</td>\n",
    "      <td>acqua</td>\n",
    "    </tr>\n",
    "  </table>\n",
    "</div>\n",
    "\n",
    "2. Wenn du fertig bist, gib das Dictionary aus."
   ]
  },
  {
   "cell_type": "code",
   "execution_count": 1,
   "metadata": {},
   "outputs": [
    {
     "name": "stdout",
     "output_type": "stream",
     "text": [
      "{'hello': 'ciao', 'mountain': 'montagna', 'cat': 'gatto', 'water': 'acqua'}\n"
     ]
    }
   ],
   "source": [
    "# Schreibe deinen Code unter diese Zeile\n",
    "\n",
    "# Lösung zu Übung 1\n",
    "uebersetzungen = {\n",
    "    \"hello\": \"ciao\",\n",
    "    \"mountain\": \"montagna\", \n",
    "    \"cat\": \"gatto\",\n",
    "    \"water\": \"acqua\"\n",
    "}\n",
    "\n",
    "print(uebersetzungen)"
   ]
  },
  {
   "cell_type": "markdown",
   "metadata": {},
   "source": [
    "## Einen Schlüssel hinzufügen\n",
    "Um ein einzelnes ``Schlüssel:Wert``-Paar zu einem Dictionary hinzuzufügen, können wir folgende Syntax verwenden:\n",
    "``` python\n",
    "wörterbuch[schlüssel] = wert\n",
    "```\n",
    "Wenn wir zum Beispiel unser `person` Dictionary vom Anfang hätten und ein neues Element `\"einkaufsliste\"` hinzufügen wollten, könnten wir schreiben:\n",
    "``` python\n",
    "person[\"einkaufsliste\"] = [\"brot\", \"butter\", \"milch\"]\n",
    "```"
   ]
  },
  {
   "cell_type": "markdown",
   "metadata": {},
   "source": [
    "## Übung 2\n",
    "1. Erstelle ein leeres Dictionary namens ``tiere_im_zoo``.\n",
    "2. Beim Rundgang durch den Zoo siehst du 8 Zebras. Füge `\"zebras\"` zum Dictionary tiere_im_zoo als Schlüssel mit dem Wert ``8`` hinzu. \n",
    "3. Als du den Zoo verlässt, bist du traurig, dass du keine Dinosaurier gesehen hast. Füge ``\"dinosaurier\"`` zu tiere_im_zoo als Schlüssel mit dem Wert ``0`` hinzu.\n",
    "4. Gib tiere_im_zoo aus"
   ]
  },
  {
   "cell_type": "code",
   "execution_count": 2,
   "metadata": {},
   "outputs": [
    {
     "name": "stdout",
     "output_type": "stream",
     "text": [
      "{'zebras': 8, 'dinosaurier': 0}\n"
     ]
    }
   ],
   "source": [
    "# Schreibe deinen Code unter diese Zeile\n",
    "\n",
    "# Lösung zu Übung 2\n",
    "tiere_im_zoo = {}\n",
    "\n",
    "tiere_im_zoo[\"zebras\"] = 8\n",
    "tiere_im_zoo[\"dinosaurier\"] = 0\n",
    "\n",
    "print(tiere_im_zoo)"
   ]
  },
  {
   "cell_type": "markdown",
   "metadata": {},
   "source": [
    "## Mehrere Schlüssel hinzufügen\n",
    "Wenn wir mehrere ``Schlüssel:Wert``-Paare auf einmal zu einem Dictionary hinzufügen möchten, können wir die ``.update()`` Methode verwenden.\n",
    "Betrachte das Dictionary `raeume`, das die Anzahl der Räume in einem Haus beschreibt.\n",
    "```python\n",
    "raeume = {\n",
    "    \"wohnzimmer\": 1,\n",
    "    \"schlafzimmer\": 3,\n",
    "    \"badezimmer\": 2\n",
    "}\n",
    "```\n",
    "Wenn wir 3 neue Räume hinzufügen wollten, könnten wir schreiben:\n",
    "```python\n",
    "raeume.update({\"kueche\": 1, \"gaestezimmer\": 3, \"fitnessraum\": 1})\n",
    "```"
   ]
  },
  {
   "cell_type": "markdown",
   "metadata": {},
   "source": [
    "## Übung 3\n",
    "1. Füge in einer Zeile Code zwei neue Benutzer zum ``benutzer_ids`` Dictionary hinzu:\n",
    "    - `derSchleifenmacher` mit der ID 641285\n",
    "    - `stringKoenigin` mit der ID 928401\n",
    "2. Gib benutzer_ids aus."
   ]
  },
  {
   "cell_type": "code",
   "execution_count": 3,
   "metadata": {},
   "outputs": [
    {
     "name": "stdout",
     "output_type": "stream",
     "text": [
      "{'teraCoder': 9018293, 'brogrammer': 119238, 'derSchleifenmacher': 641285, 'stringKoenigin': 928401}\n"
     ]
    }
   ],
   "source": [
    "# Ändere diesen Code-Abschnitt NICHT\n",
    "benutzer_ids = {\"teraCoder\": 9018293, \"brogrammer\": 119238}\n",
    "\n",
    "# Schreibe deinen Code unter diese Zeile\n",
    "\n",
    "# Lösung zu Übung 3\n",
    "benutzer_ids.update({\n",
    "    \"derSchleifenmacher\": 641285,\n",
    "    \"stringKoenigin\": 928401\n",
    "})\n",
    "\n",
    "print(benutzer_ids)"
   ]
  },
  {
   "cell_type": "markdown",
   "metadata": {},
   "source": [
    "## Werte überschreiben\n",
    "Was passiert, wenn wir einen Schlüssel verwenden, der bereits einen Eintrag im ``speisekarte`` Dictionary hat?\n",
    "In diesem Fall würde unsere Wertzuweisung den bestehenden Wert überschreiben. Wir können den Wert von ``\"haferbrei\"`` so überschreiben:\n",
    "```python\n",
    "speisekarte = {\"haferbrei\": 3, \"avocado toast\": 6, \"karottensaft\": 5, \"blaubeer muffin\": 2}\n",
    "speisekarte[\"haferbrei\"] = 5\n",
    "```\n",
    "Der Wert von `\"haferbrei\"` wurde jetzt auf `5` geändert."
   ]
  },
  {
   "cell_type": "markdown",
   "metadata": {},
   "source": [
    "## Übung 4\n",
    "1. Füge den Schlüssel ``\"Beste Nebendarstellerin\"`` hinzu und setze den Wert auf `\"Jamie Lee Curtis\"`.\n",
    "2. Ändere den Wert des Schlüssels `\"Bester Film\"` zu `\"Moonlight\"`, ohne die Definition des Dictionaries `\"oscar_gewinner\"` zu ändern.\n",
    "3. Gib `\"oscar_gewinner\"` aus\n"
   ]
  },
  {
   "cell_type": "code",
   "execution_count": 4,
   "metadata": {},
   "outputs": [
    {
     "name": "stdout",
     "output_type": "stream",
     "text": [
      "{'Bester Film': 'Moonlight', 'Beste Schauspielerin': 'Michelle Yeoh', 'Bester Schauspieler': 'Brendan Fraser', 'Beste Nebendarstellerin': 'Jamie Lee Curtis'}\n"
     ]
    }
   ],
   "source": [
    "# Ändere diesen Code-Abschnitt NICHT\n",
    "oscar_gewinner = {\n",
    "    \"Bester Film\": \"La La Land\", \n",
    "    \"Beste Schauspielerin\": \"Michelle Yeoh\", \n",
    "    \"Bester Schauspieler\": \"Brendan Fraser\"\n",
    "}\n",
    "\n",
    "# Schreibe deinen Code unter diese Zeile\n",
    "\n",
    "# Lösung zu Übung 4\n",
    "oscar_gewinner[\"Beste Nebendarstellerin\"] = \"Jamie Lee Curtis\"\n",
    "oscar_gewinner[\"Bester Film\"] = \"Moonlight\" \n",
    "\n",
    "print(oscar_gewinner)\n"
   ]
  },
  {
   "cell_type": "markdown",
   "metadata": {},
   "source": [
    "## Elemente löschen\n",
    "Um ein `\"Schlüssel:Wert\"`-Paar zu entfernen, betrachte folgendes Dictionary:\n",
    "```python\n",
    "mein_dict = {\"apfel\": 10, \"banane\": 5, \"kirsche\": 7}\n",
    "```\n",
    "Es gibt zwei Möglichkeiten dies zu erreichen:\n",
    "1. Mit `del`:\n",
    "    ```python\n",
    "    del mein_dict[\"banane\"]\n",
    "    ```\n",
    "2. Mit `pop`:\n",
    "    ```python\n",
    "    wert = mein_dict.pop(\"banane\")\n",
    "    ```"
   ]
  },
  {
   "cell_type": "markdown",
   "metadata": {},
   "source": [
    "## Übung 5\n",
    "Gegeben ist das folgende Dictionary ``\"lager\"`` in einem Geschäft.\n",
    "1. Das Geschäft hat keine Hüte mehr. Entferne Hüte aus dem Dictionary mit dem del Schlüsselwort.\n",
    "2. Eine neue Bestandsaufnahme ergab, dass es eigentlich 10 Paar Schuhe gibt. Verwende pop(), um Schuhe aus dem Dictionary zu entfernen und speichere den alten Bestand in einer Variable namens `\"alter_schuh_bestand\"`\n",
    "3. Gib die Variable aus."
   ]
  },
  {
   "cell_type": "code",
   "execution_count": 5,
   "metadata": {},
   "outputs": [
    {
     "name": "stdout",
     "output_type": "stream",
     "text": [
      "Alter Schuhbestand: 8\n"
     ]
    }
   ],
   "source": [
    "# Ändere diesen Code-Abschnitt NICHT\n",
    "lager = {\n",
    "    \"hemden\": 25,\n",
    "    \"hosen\": 30,\n",
    "    \"socken\": 50,\n",
    "    \"huete\": 15,\n",
    "    \"schuhe\": 8\n",
    "}\n",
    "\n",
    "# Schreibe deinen Code unter diese Zeile\n",
    "\n",
    "# Lösung zu Übung 5\n",
    "del lager[\"huete\"]\n",
    "alter_schuh_bestand = lager.pop(\"schuhe\")\n",
    "\n",
    "print(\"Alter Schuhbestand:\", alter_schuh_bestand)"
   ]
  },
  {
   "cell_type": "markdown",
   "metadata": {},
   "source": [
    "## Bonus-Übung 1\n",
    "\n",
    "Dictionaries können viele Dinge enthalten, einschließlich Listen und andere Dictionaries!\n",
    "\n",
    "Erstelle ein `freunde` Dictionary und füge die folgenden Einträge hinzu:\n",
    "- `\"frank\"` ist mit `\"martha\"` und `\"joe\"` befreundet\n",
    "- `\"joe\"` ist mit `\"frank\"` und `\"jason\"` befreundet\n",
    "- `\"jason\"` ist mit `\"joe\"` und `\"martha\"` befreundet\n",
    "\n",
    "Tipp: Hier ist der Code für folgendes Szenario:\n",
    "Frank ist mit niemandem befreundet\n",
    "\n",
    "```py\n",
    "freunde = {\n",
    "    \"frank\": [],\n",
    "}\n",
    "```\n",
    "\n",
    "Gib das Dictionary anschließend aus!"
   ]
  },
  {
   "cell_type": "code",
   "execution_count": 4,
   "metadata": {},
   "outputs": [
    {
     "name": "stdout",
     "output_type": "stream",
     "text": [
      "{'frank': ['martha', 'joe'], 'joe': ['frank', 'jason'], 'jason': ['joe', 'martha']}\n"
     ]
    }
   ],
   "source": [
    "# Schreibe deinen Code unter diese Zeile!\n",
    "freunde = {\n",
    "    \"frank\": [\"martha\", \"joe\"],\n",
    "    \"joe\": [\"frank\", \"jason\"],\n",
    "    \"jason\": [\"joe\", \"martha\"]\n",
    "}\n",
    "print(freunde)"
   ]
  },
  {
   "cell_type": "markdown",
   "metadata": {},
   "source": [
    "## Bonus-Übung 2\n",
    "\n",
    "Füge mehr Freunde zum Dictionary hinzu, **ohne den Code oben zu ändern!** Nutze nur die ``freunde[\"name\"]`` Operation!\n",
    "\n",
    "Füge die folgenden neuen Listen ins Dictionary ein:\n",
    "- `\"martha\"` ist jetzt mit `\"frank\"` und `\"jason\"` befreundet\n",
    "- `\"garfield\"` ist jetzt mit `\"jason\"` und `\"mary\"` befreundet\n",
    "\n",
    "Ändere die bestehenden Listen der folgenden Personen:\n",
    "- `\"frank\"` ist jetzt auch mit `\"jason\"` befreundet! (**Nutze .append() für die Liste im Dictionary!**)\n",
    "- `\"joe\"` ist nicht mehr mit `\"frank\"` befreundet! (**Nutze .remove() oder .pop() für die Liste im Dictionary!**)\n",
    "\n",
    "Gib das freunde Dictionary anschließend aus und überprüfe, ob die neuen Beziehungen gespeichert wurden!\n",
    "\n",
    "**Um das Dictionary zurückzusetzen, kannst du deine Code-Zelle von Bonus-Übung 1 erneut ausführen**"
   ]
  },
  {
   "cell_type": "code",
   "execution_count": null,
   "metadata": {},
   "outputs": [
    {
     "name": "stdout",
     "output_type": "stream",
     "text": [
      "{'frank': ['martha', 'joe', 'jason'], 'joe': ['jason'], 'jason': ['joe', 'martha'], 'martha': ['frank', 'jason'], 'garfield': ['jason', 'mary']}\n"
     ]
    }
   ],
   "source": [
    "# Hinweis: Du kannst deinen Code aus Bonus-Übung 1 erneut ausführen, um das Dictionary zurückzusetzen!\n",
    "\n",
    "# Schreibe deinen Code unter diese Zeile\n",
    "freunde[\"martha\"] = [\"frank\", \"jason\"]\n",
    "freunde[\"garfield\"] = [\"jason\", \"mary\"]\n",
    "\n",
    "freunde[\"frank\"].append(\"jason\")\n",
    "freunde[\"joe\"].remove(\"frank\")\n",
    "\n",
    "print(freunde)"
   ]
  },
  {
   "cell_type": "markdown",
   "metadata": {},
   "source": [
    "## Bonus-Übung 3\n",
    "\n",
    "Verwende nun die .update() Methode, um die Freundesliste von `\"martha\"` durch die folgenden neuen Freunde zu ersetzen: `\"jane\"` und `\"lily\"`."
   ]
  },
  {
   "cell_type": "code",
   "execution_count": 7,
   "metadata": {},
   "outputs": [
    {
     "name": "stdout",
     "output_type": "stream",
     "text": [
      "{'frank': ['martha', 'joe', 'jason'], 'joe': ['jason'], 'jason': ['joe', 'martha'], 'martha': ['jane', 'lily'], 'garfield': ['jason', 'mary']}\n"
     ]
    }
   ],
   "source": [
    "# Schreibe deinen Code unter diese Zeile\n",
    "neue_martha_freunde = {\"martha\": [\"jane\", \"lily\"]}\n",
    "freunde.update(neue_martha_freunde)\n",
    "print(freunde)"
   ]
  },
  {
   "cell_type": "markdown",
   "metadata": {},
   "source": [
    "## Bonus-Übung 4\n",
    "\n",
    "Da du jetzt auch auf Dictionaries mit [] zugreifen kannst, stelle dir folgende Frage:\n",
    "\n",
    "```py\n",
    "# Listen-Version:\n",
    "personen = [\"Martha\", \"Frank\", \"Joe\"]\n",
    "personen[5] = \"James\"\n",
    "# Dictionary-Version\n",
    "personen_dict = {\n",
    "    0: \"Martha\",\n",
    "    1: \"Frank\",\n",
    "    2: \"Joe\",\n",
    "}\n",
    "personen_dict[5] = \"James\"\n",
    "```\n",
    "\n",
    "Was ist der Unterschied zwischen der Listen-Version und der Dictionary-Version?\n",
    "Was würde passieren, wenn du diesen Code ausführst? Würdest du Fehler sehen? Warum?\n",
    "\n",
    "**Nachdem du über diese Fragen nachgedacht hast, füge den Code in das Code-Feld ein und probiere es aus. Hattest du Recht?**"
   ]
  },
  {
   "cell_type": "code",
   "execution_count": null,
   "metadata": {},
   "outputs": [],
   "source": [
    "# Lies die Aufgabe, bevor du hier Code schreibst.\n",
    "# Versuche die Fragen erst im Kopf zu beantworten.\n",
    "\n",
    "# Schreibe deinen Code unter diese Zeile\n",
    "\n",
    "# Listen-Version:\n",
    "personen = [\"Martha\", \"Frank\", \"Joe\"]\n",
    "personen[5] = \"James\" # Dies wird einen Fehler auslösen!\n",
    "\n",
    "# Dictionary-Version\n",
    "personen_dict = {\n",
    "    0: \"Martha\",\n",
    "    1: \"Frank\",\n",
    "    2: \"Joe\",\n",
    "}\n",
    "personen_dict[5] = \"James\" # Dies funktioniert!"
   ]
  },
  {
   "cell_type": "markdown",
   "metadata": {},
   "source": [
    "## Bonus-Übung 5\n",
    "Ziel ist es, dein Verständnis der eingebauten Python-Funktionen für Dictionaries zu vertiefen.\n",
    "1. Führe mit dem Dictionary ``person_info`` folgende Aufgaben aus:\n",
    "    - Hole den Wert des Schlüssels ``'alter'`` und gib ihn aus\n",
    "    - Aktualisiere die ``'stadt'`` zu ``'Berlin'``\n",
    "    - Füge ein neues Schlüssel-Wert-Paar ``'beruf': 'Ingenieur'`` hinzu\n",
    "2. Verwende eine einzige Zeile Python-Code, um eine Liste aller Elemente (Schlüssel) im Dictionary zu erhalten. \n",
    "                        <details>\n",
    "                            <summary><strong>Tipp</strong></summary>\n",
    "                            Verwende die .keys() Methode.\n",
    "                        </details>\n",
    "3. Greife auf den Wert von ``'email'`` innerhalb von ``'kontakt'`` zu.\n",
    "    - Hole den Wert von `'email'` und speichere ihn in einer Variable namens `email_adresse`.\n",
    "    - Gib den Wert von `email_adresse` aus"
   ]
  },
  {
   "cell_type": "code",
   "execution_count": null,
   "metadata": {},
   "outputs": [],
   "source": [
    "# Ändere diesen Code-Abschnitt NICHT\n",
    "person_info = {\n",
    "    \"name\": \"Max Mustermann\",\n",
    "    \"alter\": 30,\n",
    "    \"stadt\": \"Hamburg\",\n",
    "    \"kontakt\": {\n",
    "        \"email\": \"max@beispiel.de\",\n",
    "        \"telefon\": 123456,\n",
    "    },\n",
    "}\n",
    "\n",
    "# Schreibe deinen Code unter diese Zeile\n",
    "\n",
    "# Aufgabe 1\n",
    "print(person_info[\"alter\"])\n",
    "person_info[\"stadt\"] = \"Berlin\"\n",
    "person_info[\"beruf\"] = \"Ingenieur\"\n",
    "\n",
    "# Aufgabe 2\n",
    "list(person_info.keys())\n",
    "\n",
    "# Aufgabe 3\n",
    "email_adresse = person_info[\"kontakt\"][\"email\"]\n",
    "print(email_adresse)"
   ]
  },
  {
   "cell_type": "markdown",
   "metadata": {},
   "source": [
    "## Feedback\n",
    "Bitte scanne den QR-Code unten, um uns dein Feedback zu **Kapitel 10: Dictionaries** zu geben\n",
    "\n",
    "![QR Code feedback](../pictures/feedbackQR.png)"
   ]
  }
 ],
 "metadata": {
  "kernelspec": {
   "display_name": "usr",
   "language": "python",
   "name": "python3"
  },
  "language_info": {
   "codemirror_mode": {
    "name": "ipython",
    "version": 3
   },
   "file_extension": ".py",
   "mimetype": "text/x-python",
   "name": "python",
   "nbconvert_exporter": "python",
   "pygments_lexer": "ipython3",
   "version": "3.12.6"
  },
  "orig_nbformat": 4
 },
 "nbformat": 4,
 "nbformat_minor": 2
}
